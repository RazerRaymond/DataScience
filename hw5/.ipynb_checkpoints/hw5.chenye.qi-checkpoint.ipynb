{
 "cells": [
  {
   "cell_type": "markdown",
   "metadata": {},
   "source": [
    "# Homework 5: Detecting Breast Cancer — Classifying Tumors 🩺"
   ]
  },
  {
   "cell_type": "markdown",
   "metadata": {},
   "source": [
    "Name: Chenye Qi\n",
    "\n",
    "Student ID: 475337\n",
    "\n",
    "Collaborators:\n"
   ]
  },
  {
   "cell_type": "markdown",
   "metadata": {},
   "source": [
    "## Instructions\n",
    "\n",
    "For this homework, work through **Lab 5 (Detecting Breast Cancer — Understanding Logistic Regression)** first. Many of the things we ask you to do in this homework are explained in the lab. In general, you should feel free to import any package that we have previously used in class. Ensure that all plots have the necessary components that a plot should have (e.g. axes labels, a title, a legend).\n",
    "\n",
    "Frequently **save** your notebook!"
   ]
  },
  {
   "cell_type": "markdown",
   "metadata": {},
   "source": [
    "### Collaborators and Sources\n",
    "Furthermore, in addition to recording your **collaborators** on this homework, please also remember to **cite/indicate all external sources** used when finishing this assignment. \n",
    "> This includes peers, TAs, and links to online sources. \n",
    "\n",
    "Note that these citations will be taken into account during the grading and regrading process."
   ]
  },
  {
   "cell_type": "code",
   "execution_count": 2,
   "metadata": {},
   "outputs": [],
   "source": [
    "# collaborators and sources:\n",
    "# Albert Einstein and Marie Curie\n",
    "# https://developers.google.com/edu/python/strings\n",
    "\n",
    "# your code here\n",
    "answer = 'https://scikit-learn.org/stable/modules/generated/sklearn.metrics.confusion_matrix.html \\n'\n",
    "        'https://scikit-learn.org/stable/modules/generated/sklearn.tree.DecisionTreeClassifier.html#sklearn.tree.DecisionTreeClassifier.score'\n",
    "    \n",
    "    "
   ]
  },
  {
   "cell_type": "markdown",
   "metadata": {},
   "source": [
    "### Submission instructions\n",
    "* Submit this python notebook including your answers in the code cells as homework submission.\n",
    "* **Do not change the number of cells!** Your submission notebook should have exactly one code cell per problem. \n",
    "* Do **not** remove the `# your code here` line and add you solution after that line. "
   ]
  },
  {
   "cell_type": "markdown",
   "metadata": {},
   "source": [
    "## 1. Predicting Breast Cancer\n",
    "Since all of this looks pretty good now, we can turn to our actual application for _this week_: predicting whether a patient has breast cancer or not. First, let's take a quick look at the data from the University of Wisconsin. Each data point contains information about the breast cancer cells of a single patient derived from a digitized image of a fine needle aspirate (FNA) of a breast mass, similar to those: \n",
    "\n",
    "![fine needle aspirate](utility/pics/fna.jpg)\n",
    "\n",
    "Note that we do not have the image data, but the features capture the cell shapes and we also have the diagnosis (either `malignant` or `benign`), which we will treat as the class label."
   ]
  },
  {
   "cell_type": "markdown",
   "metadata": {},
   "source": [
    "### Understanding the Dataset\n",
    "\n",
    "Let's take a look at what we have."
   ]
  },
  {
   "cell_type": "code",
   "execution_count": 3,
   "metadata": {},
   "outputs": [],
   "source": [
    "from sklearn.datasets import load_breast_cancer\n",
    "\n",
    "cancer_data = load_breast_cancer()"
   ]
  },
  {
   "cell_type": "markdown",
   "metadata": {},
   "source": [
    "### Problem 1.1\n",
    "\n",
    "Let's take a second to explore `data`.\n",
    "\n",
    "**Try this!** In the following cell, evaluate each of the fields in data."
   ]
  },
  {
   "cell_type": "code",
   "execution_count": 4,
   "metadata": {},
   "outputs": [
    {
     "name": "stdout",
     "output_type": "stream",
     "text": [
      "['mean radius' 'mean texture' 'mean perimeter' 'mean area'\n",
      " 'mean smoothness' 'mean compactness' 'mean concavity'\n",
      " 'mean concave points' 'mean symmetry' 'mean fractal dimension'\n",
      " 'radius error' 'texture error' 'perimeter error' 'area error'\n",
      " 'smoothness error' 'compactness error' 'concavity error'\n",
      " 'concave points error' 'symmetry error' 'fractal dimension error'\n",
      " 'worst radius' 'worst texture' 'worst perimeter' 'worst area'\n",
      " 'worst smoothness' 'worst compactness' 'worst concavity'\n",
      " 'worst concave points' 'worst symmetry' 'worst fractal dimension']\n",
      "(569, 30)\n",
      ".. _breast_cancer_dataset:\n",
      "\n",
      "Breast cancer wisconsin (diagnostic) dataset\n",
      "--------------------------------------------\n",
      "\n",
      "**Data Set Characteristics:**\n",
      "\n",
      "    :Number of Instances: 569\n",
      "\n",
      "    :Number of Attributes: 30 numeric, predictive attributes and the class\n",
      "\n",
      "    :Attribute Information:\n",
      "        - radius (mean of distances from center to points on the perimeter)\n",
      "        - texture (standard deviation of gray-scale values)\n",
      "        - perimeter\n",
      "        - area\n",
      "        - smoothness (local variation in radius lengths)\n",
      "        - compactness (perimeter^2 / area - 1.0)\n",
      "        - concavity (severity of concave portions of the contour)\n",
      "        - concave points (number of concave portions of the contour)\n",
      "        - symmetry \n",
      "        - fractal dimension (\"coastline approximation\" - 1)\n",
      "\n",
      "        The mean, standard error, and \"worst\" or largest (mean of the three\n",
      "        largest values) of these features were computed for each image,\n",
      "        resulting in 30 features.  For instance, field 3 is Mean Radius, field\n",
      "        13 is Radius SE, field 23 is Worst Radius.\n",
      "\n",
      "        - class:\n",
      "                - WDBC-Malignant\n",
      "                - WDBC-Benign\n",
      "\n",
      "    :Summary Statistics:\n",
      "\n",
      "    ===================================== ====== ======\n",
      "                                           Min    Max\n",
      "    ===================================== ====== ======\n",
      "    radius (mean):                        6.981  28.11\n",
      "    texture (mean):                       9.71   39.28\n",
      "    perimeter (mean):                     43.79  188.5\n",
      "    area (mean):                          143.5  2501.0\n",
      "    smoothness (mean):                    0.053  0.163\n",
      "    compactness (mean):                   0.019  0.345\n",
      "    concavity (mean):                     0.0    0.427\n",
      "    concave points (mean):                0.0    0.201\n",
      "    symmetry (mean):                      0.106  0.304\n",
      "    fractal dimension (mean):             0.05   0.097\n",
      "    radius (standard error):              0.112  2.873\n",
      "    texture (standard error):             0.36   4.885\n",
      "    perimeter (standard error):           0.757  21.98\n",
      "    area (standard error):                6.802  542.2\n",
      "    smoothness (standard error):          0.002  0.031\n",
      "    compactness (standard error):         0.002  0.135\n",
      "    concavity (standard error):           0.0    0.396\n",
      "    concave points (standard error):      0.0    0.053\n",
      "    symmetry (standard error):            0.008  0.079\n",
      "    fractal dimension (standard error):   0.001  0.03\n",
      "    radius (worst):                       7.93   36.04\n",
      "    texture (worst):                      12.02  49.54\n",
      "    perimeter (worst):                    50.41  251.2\n",
      "    area (worst):                         185.2  4254.0\n",
      "    smoothness (worst):                   0.071  0.223\n",
      "    compactness (worst):                  0.027  1.058\n",
      "    concavity (worst):                    0.0    1.252\n",
      "    concave points (worst):               0.0    0.291\n",
      "    symmetry (worst):                     0.156  0.664\n",
      "    fractal dimension (worst):            0.055  0.208\n",
      "    ===================================== ====== ======\n",
      "\n",
      "    :Missing Attribute Values: None\n",
      "\n",
      "    :Class Distribution: 212 - Malignant, 357 - Benign\n",
      "\n",
      "    :Creator:  Dr. William H. Wolberg, W. Nick Street, Olvi L. Mangasarian\n",
      "\n",
      "    :Donor: Nick Street\n",
      "\n",
      "    :Date: November, 1995\n",
      "\n",
      "This is a copy of UCI ML Breast Cancer Wisconsin (Diagnostic) datasets.\n",
      "https://goo.gl/U2Uwz2\n",
      "\n",
      "Features are computed from a digitized image of a fine needle\n",
      "aspirate (FNA) of a breast mass.  They describe\n",
      "characteristics of the cell nuclei present in the image.\n",
      "\n",
      "Separating plane described above was obtained using\n",
      "Multisurface Method-Tree (MSM-T) [K. P. Bennett, \"Decision Tree\n",
      "Construction Via Linear Programming.\" Proceedings of the 4th\n",
      "Midwest Artificial Intelligence and Cognitive Science Society,\n",
      "pp. 97-101, 1992], a classification method which uses linear\n",
      "programming to construct a decision tree.  Relevant features\n",
      "were selected using an exhaustive search in the space of 1-4\n",
      "features and 1-3 separating planes.\n",
      "\n",
      "The actual linear program used to obtain the separating plane\n",
      "in the 3-dimensional space is that described in:\n",
      "[K. P. Bennett and O. L. Mangasarian: \"Robust Linear\n",
      "Programming Discrimination of Two Linearly Inseparable Sets\",\n",
      "Optimization Methods and Software 1, 1992, 23-34].\n",
      "\n",
      "This database is also available through the UW CS ftp server:\n",
      "\n",
      "ftp ftp.cs.wisc.edu\n",
      "cd math-prog/cpo-dataset/machine-learn/WDBC/\n",
      "\n",
      ".. topic:: References\n",
      "\n",
      "   - W.N. Street, W.H. Wolberg and O.L. Mangasarian. Nuclear feature extraction \n",
      "     for breast tumor diagnosis. IS&T/SPIE 1993 International Symposium on \n",
      "     Electronic Imaging: Science and Technology, volume 1905, pages 861-870,\n",
      "     San Jose, CA, 1993.\n",
      "   - O.L. Mangasarian, W.N. Street and W.H. Wolberg. Breast cancer diagnosis and \n",
      "     prognosis via linear programming. Operations Research, 43(4), pages 570-577, \n",
      "     July-August 1995.\n",
      "   - W.H. Wolberg, W.N. Street, and O.L. Mangasarian. Machine learning techniques\n",
      "     to diagnose breast cancer from fine-needle aspirates. Cancer Letters 77 (1994) \n",
      "     163-171.\n",
      "[0 0 0 0 0 0 0 0 0 0 0 0 0 0 0 0 0 0 0 1 1 1 0 0 0 0 0 0 0 0 0 0 0 0 0 0 0\n",
      " 1 0 0 0 0 0 0 0 0 1 0 1 1 1 1 1 0 0 1 0 0 1 1 1 1 0 1 0 0 1 1 1 1 0 1 0 0\n",
      " 1 0 1 0 0 1 1 1 0 0 1 0 0 0 1 1 1 0 1 1 0 0 1 1 1 0 0 1 1 1 1 0 1 1 0 1 1\n",
      " 1 1 1 1 1 1 0 0 0 1 0 0 1 1 1 0 0 1 0 1 0 0 1 0 0 1 1 0 1 1 0 1 1 1 1 0 1\n",
      " 1 1 1 1 1 1 1 1 0 1 1 1 1 0 0 1 0 1 1 0 0 1 1 0 0 1 1 1 1 0 1 1 0 0 0 1 0\n",
      " 1 0 1 1 1 0 1 1 0 0 1 0 0 0 0 1 0 0 0 1 0 1 0 1 1 0 1 0 0 0 0 1 1 0 0 1 1\n",
      " 1 0 1 1 1 1 1 0 0 1 1 0 1 1 0 0 1 0 1 1 1 1 0 1 1 1 1 1 0 1 0 0 0 0 0 0 0\n",
      " 0 0 0 0 0 0 0 1 1 1 1 1 1 0 1 0 1 1 0 1 1 0 1 0 0 1 1 1 1 1 1 1 1 1 1 1 1\n",
      " 1 0 1 1 0 1 0 1 1 1 1 1 1 1 1 1 1 1 1 1 1 0 1 1 1 0 1 0 1 1 1 1 0 0 0 1 1\n",
      " 1 1 0 1 0 1 0 1 1 1 0 1 1 1 1 1 1 1 0 0 0 1 1 1 1 1 1 1 1 1 1 1 0 0 1 0 0\n",
      " 0 1 0 0 1 1 1 1 1 0 1 1 1 1 1 0 1 1 1 0 1 1 0 0 1 1 1 1 1 1 0 1 1 1 1 1 1\n",
      " 1 0 1 1 1 1 1 0 1 1 0 1 1 1 1 1 1 1 1 1 1 1 1 0 1 0 0 1 0 1 1 1 1 1 0 1 1\n",
      " 0 1 0 1 1 0 1 0 1 1 1 1 1 1 1 1 0 0 1 1 1 1 1 1 0 1 1 1 1 1 1 1 1 1 1 0 1\n",
      " 1 1 1 1 1 1 0 1 0 1 1 0 1 1 1 1 1 0 0 1 0 1 0 1 1 1 1 1 0 1 1 0 1 0 1 0 0\n",
      " 1 1 1 0 1 1 1 1 1 1 1 1 1 1 1 0 1 0 0 1 1 1 1 1 1 1 1 1 1 1 1 1 1 1 1 1 1\n",
      " 1 1 1 1 1 1 1 0 0 0 0 0 0 1]\n"
     ]
    }
   ],
   "source": [
    "# your code here\n",
    "print(cancer_data.feature_names)\n",
    "print(cancer_data.data.shape)\n",
    "print(cancer_data.DESCR)\n",
    "print(cancer_data.target)\n",
    "# malignant = 0\n",
    "# for i in range(569):\n",
    "#     if cancer_data.target[i]==0:\n",
    "#         malignant+=1\n",
    "# malignant"
   ]
  },
  {
   "cell_type": "markdown",
   "metadata": {},
   "source": [
    "**Write-up!** Just for safe-keeping, how many data points are there in this dataset? How many features? What are the names of the features? What are the names of the classes and how are they encoded in the labels?"
   ]
  },
  {
   "cell_type": "raw",
   "metadata": {},
   "source": [
    "# your response here\n",
    "There are 569 data points in the dataset with 30 features. \n",
    "\n",
    "Names of features: 'mean radius' 'mean texture' 'mean perimeter' 'mean area'\n",
    " 'mean smoothness' 'mean compactness' 'mean concavity'\n",
    " 'mean concave points' 'mean symmetry' 'mean fractal dimension'\n",
    " 'radius error' 'texture error' 'perimeter error' 'area error'\n",
    " 'smoothness error' 'compactness error' 'concavity error'\n",
    " 'concave points error' 'symmetry error' 'fractal dimension error'\n",
    " 'worst radius' 'worst texture' 'worst perimeter' 'worst area'\n",
    " 'worst smoothness' 'worst compactness' 'worst concavity'\n",
    " 'worst concave points' 'worst symmetry' 'worst fractal dimension'\n",
    " \n",
    "Names of classes: malignant and benign. Malignant is encoded as 0 and benign is 1. "
   ]
  },
  {
   "cell_type": "markdown",
   "metadata": {},
   "source": [
    "### Problem 1.2\n",
    "\n",
    "Now that we are familiar with what the data looks like, let's pull out what we need from it.\n",
    "\n",
    "**Try this!** Pull out the input data `X` and label (classification) data `y` from `data`. Make sure that the labels in `y` are either `+1` for `malignant` or `-1` for `benign` tumors."
   ]
  },
  {
   "cell_type": "code",
   "execution_count": 5,
   "metadata": {},
   "outputs": [
    {
     "data": {
      "text/plain": [
       "'There are 569 data points with 30 features each.'"
      ]
     },
     "execution_count": 5,
     "metadata": {},
     "output_type": "execute_result"
    }
   ],
   "source": [
    "# your code here\n",
    "import numpy as np\n",
    "X = cancer_data.data\n",
    "y = np.zeros(569)\n",
    "for i in range(569):\n",
    "    if cancer_data.target[i]==0:\n",
    "        y[i] = 1\n",
    "    else:\n",
    "        y[i] = -1\n",
    "\n",
    "\n",
    "N, d = X.shape\n",
    "f'There are {N} data points with {d} features each.'"
   ]
  },
  {
   "cell_type": "markdown",
   "metadata": {},
   "source": [
    "### Problem 1.3\n",
    "\n",
    "Let's plot the distribution of the classes in the dataset."
   ]
  },
  {
   "cell_type": "code",
   "execution_count": 6,
   "metadata": {},
   "outputs": [
    {
     "name": "stdout",
     "output_type": "stream",
     "text": [
      "Plots configured! 📊\n",
      "[357 212]\n",
      "[-1.  1.]\n"
     ]
    },
    {
     "data": {
      "text/plain": [
       "Text(0.5, 1.0, 'Class Distribution - Breast Cancer Dataset')"
      ]
     },
     "execution_count": 6,
     "metadata": {},
     "output_type": "execute_result"
    },
    {
     "data": {
      "image/png": "[encoded data removed]",
      "text/plain": [
       "<Figure size 1152x648 with 1 Axes>"
      ]
     },
     "metadata": {},
     "output_type": "display_data"
    }
   ],
   "source": [
    "from utility.util import configure_plots\n",
    "import matplotlib.pyplot as plt\n",
    "\n",
    "configure_plots()\n",
    "\n",
    "classes, counts = np.unique(y, return_counts=True)\n",
    "\n",
    "print(counts)\n",
    "print(classes)\n",
    "\n",
    "plt.bar(['benign ($-1$)', 'malignant ($+1$)'], counts)\n",
    "plt.title('Class Distribution - Breast Cancer Dataset')"
   ]
  },
  {
   "cell_type": "markdown",
   "metadata": {},
   "source": [
    "**Write-up!** What do you notice about the number of observations in each class? Could this potentially lead to problems for our modeling? Think about the data (specifically, the subsets) of data we use to train the data."
   ]
  },
  {
   "cell_type": "raw",
   "metadata": {},
   "source": [
    "# your response here\n",
    "It has a big difference between number of benign class and that of malignant class. This could lead to inaccurate prediction if we use the former method(former samples have balanced distribution between the binary choices) due to difference in ratio between benign and malignant. Because we will need to evaluate the model using accuracy, we could possibily get a meaningless model with high accuracy. For example, because the possibility of benign is much higher than malignant, we might get a high accuracy model by predicting all as benign. Yet this kind of model would be useless because what we especially care about is the malignant cases. "
   ]
  },
  {
   "cell_type": "markdown",
   "metadata": {},
   "source": [
    "Before we train any model, we split our data into two or more subsets for training, validation, and testing. The [`train_test_split` 🔗](https://scikit-learn.org/stable/modules/generated/sklearn.model_selection.train_test_split.html) function provided by Scikit-Learn has a keyword argument called `stratify`.\n",
    "\n",
    "**Write-up!** What does the `stratify` argument do according to the function's documentation? Why do we use `stratify` when creating our training and testing sets for this dataset? How would our evaluation of the model be affected if we did not use stratify?"
   ]
  },
  {
   "cell_type": "raw",
   "metadata": {},
   "source": [
    "# your response here\n",
    "Stratify helps classify our data into two classes: benign and malignant. We use stratify to ensure that the ratio between benign and malignant is similar in the test and training set, because we want a proper representation of ratio between training and test set. If we do not use stratify, our model in training process may not get the reasonable sensitivity of malignant cases since they could be underrepresented. "
   ]
  },
  {
   "cell_type": "markdown",
   "metadata": {},
   "source": [
    "### Training the Logistic Regression Model\n",
    "\n",
    "Now, you will train the classifier and then evaluate its performance. \n",
    "\n",
    "In the lab, we implemented Logistic Regression as described and formulated in class. In this series of problems, we will first review the model and practice building one with `sklearn`."
   ]
  },
  {
   "cell_type": "markdown",
   "metadata": {},
   "source": [
    "### Problem 1.4\n",
    "\n",
    "First, we will begin by creating training and test sets with which we will build and evaluate our model with. Then, we will create a new instance of a `LogisticRegression` model and fit it with our training set. As we noticed in [Problem 1.3](#Problem-1.3), our dataset does not have a balanced class distribution. We will need to handle this accordingly.\n",
    "\n",
    "**Try this!** In the following cell, you should do the following:\n",
    "1. Creates a train/test split with `train_test_split` with a `test_size` of 0.3, stratification by `y` with `stratify`, and a `random_state` of 4.\n",
    "2. Creates a new `LogisticRegression` model with the `'liblinear'` `solver` and `fit` it with the training set and stores it in `linear_model`.\n",
    "3. Evaluate the performance by manually computing and printing the classification _accuracy_ of your trained model on the test set.\n",
    "\n",
    "> **Hint**: Feel free to refer to any official documentation and remember that you can easily view the documentation in your notebook for any function or object by adding a `?` after its name (eg. `train_test_split?`)."
   ]
  },
  {
   "cell_type": "code",
   "execution_count": 26,
   "metadata": {},
   "outputs": [
    {
     "data": {
      "text/plain": [
       "0.9064327485380117"
      ]
     },
     "execution_count": 26,
     "metadata": {},
     "output_type": "execute_result"
    }
   ],
   "source": [
    "import numpy as np\n",
    "from sklearn.model_selection import train_test_split\n",
    "from sklearn.linear_model import LogisticRegression\n",
    "\n",
    "# your code here\n",
    "X_train, X_test, y_train, y_test = train_test_split(X, y, test_size=0.3, random_state=4, stratify=y)\n",
    "linear_model = LogisticRegression(solver = 'liblinear')\n",
    "linear_model = linear_model.fit(X_train, y_train)\n",
    "correct = 0\n",
    "for i in range(len(X_test)):\n",
    "    if linear_model.predict(X_test)[i] == y_test[i]:\n",
    "        correct+=1\n",
    "accuracy = correct/len(X_test)\n",
    "accuracy"
   ]
  },
  {
   "cell_type": "markdown",
   "metadata": {},
   "source": [
    "Looks pretty good!"
   ]
  },
  {
   "cell_type": "markdown",
   "metadata": {},
   "source": [
    "## 2. Diving Deeper into Classification Error\n",
    "\n",
    "While our model's accuracy was pretty good, let's analyze this accuracy more closely. For classification problems we can, instead of just counting mistakes, look at which kind of mistakes we made."
   ]
  },
  {
   "cell_type": "markdown",
   "metadata": {},
   "source": [
    "### Problem 2.1\n",
    "\n",
    "**Write-up!** What are the two different kinds of mistakes we can make for breast cancer prediction? _**Hint**: Think about the decision that our model is making._"
   ]
  },
  {
   "cell_type": "raw",
   "metadata": {},
   "source": [
    "# your response here\n",
    "False positive: incorrectly predicting people without breast cancer to be malignant. \n",
    "And false negative: incorrecly predicting people with breast cancer to be benign."
   ]
  },
  {
   "cell_type": "markdown",
   "metadata": {},
   "source": [
    "**Write-up!** Recall that in Lab3 we counted false positives and false negatives. What are false positives and false negatives and why do we care to distinguish between them when they are both errors made by our classifier model? In the context of classifying tumors as either malignant or benign, does it make sense to prefer one type of mistake over the other? If so, which one and why? If not, also explain why?"
   ]
  },
  {
   "cell_type": "raw",
   "metadata": {},
   "source": [
    "# your response here\n",
    "False positive: incorrect prediction of true when it is false\n",
    "False negative: incorrect prediction of false when it is true\n",
    "Because we care about the accuracy of both predicting the malign and benign classes of breast cancer prediction. For example, there are surely a lot of people without breast cancer, so the accuracy of predicting people to be benign is certainly high and this model has high accuracy in true negative and low accuracy in true positive. Yet in medical field we do want to detect every possible malignant cases. So even we have generally high accuracy, we still care a lot about true positive rate by itself. \n",
    "\n",
    "I do think false negatives are more crucial than false negatives in tumor classification. For example, if we have a false positive case, we can examine more deeply to ensure whether the case has or does not have breast cancer. But if we have a false negative, a case with breast cancer will not be detected and thus treatment is not delivered. "
   ]
  },
  {
   "cell_type": "markdown",
   "metadata": {},
   "source": [
    "### Confusion Matrices\n",
    "\n",
    "A [confusion matrix](https://en.wikipedia.org/wiki/Confusion_matrix), sometimes called an error matrix, helps us summarize and understand the performance of our classification models by presenting the different types of correct and incorrect predictions our model is making: true positives, true negatives, false positives, and false negatives.\n",
    "\n",
    "<img alt=\"confusion matrix\" src=\"utility/pics/confusion-matrix.png\" />\n",
    "\n",
    "— [Source](https://jkmsmkj.blogspot.com/2018/10/confusion-matrix.html)"
   ]
  },
  {
   "cell_type": "markdown",
   "metadata": {},
   "source": [
    "### Problem 2.2\n",
    "\n",
    "**Try this!** In the following cell, use `confusion_matrix` from `sklearn.metrics` to compute the confusion matrix for the model you built in [Problem 1.4](#Problem-1.4). Then, use `plot_confusion_matrix` to visualize the matrix (you will need to specify the `labels` to use). `HINT` Again, feel free to refer to any official documentation and remember that you can easily view the documentation for a function or object by adding a `?` after its name (eg. `confusion_matrix?`)."
   ]
  },
  {
   "cell_type": "code",
   "execution_count": 33,
   "metadata": {},
   "outputs": [
    {
     "data": {
      "text/plain": [
       "<matplotlib.axes._subplots.AxesSubplot at 0x126a5c0d0>"
      ]
     },
     "execution_count": 33,
     "metadata": {},
     "output_type": "execute_result"
    },
    {
     "data": {
      "image/png": "[encoded data removed]",
      "text/plain": [
       "<Figure size 1152x648 with 1 Axes>"
      ]
     },
     "metadata": {},
     "output_type": "display_data"
    }
   ],
   "source": [
    "from sklearn.metrics import confusion_matrix\n",
    "from utility.util import plot_confusion_matrix\n",
    "\n",
    "# your code here\n",
    "#confusion_matrix?\n",
    "confusion_matrix_cancer = confusion_matrix(y_test, linear_model.predict(X_test))\n",
    "plot_confusion_matrix(confusion_matrix_cancer, labels=['Malignant','Benign'])\n",
    "                                                                        "
   ]
  },
  {
   "cell_type": "markdown",
   "metadata": {},
   "source": [
    "### Experiment: Making Decisions\n",
    "\n",
    "Now, let's take a look at decision boundaries. As we mentioned in both lecture and lab, label predictions (eg. $\\hat{y} = +1$) are made by considering the class probabilities $P(y = +1 \\mid x)$ produced by our model with a decision threshold. Typically, we use a threshold of 0.5 such that $\\hat{y} = +1$ if $P(y = +1 \\mid x) > 0.5$. However, as we hinted in [Problem 2.1](#Problem-2.1), there are situations and contexts in which the cost of making a _false positive_ error is greater than making a _false negative_ error. We can account for cost differences by adjusting the threshold, and therefore the decision boundary, of our classifier.\n",
    "\n",
    "In the following few cells, we will prepare an experiment to test and observe the effects of changing the decision threshold of our classification model."
   ]
  },
  {
   "cell_type": "markdown",
   "metadata": {},
   "source": [
    "### Problem 2.3\n",
    "\n",
    "The first thing we will need to prepare is a way to compute the predictions of a model given a threshold. This is because `sklearn` does not offer an option to do this.\n",
    "\n",
    "**Try this!** Complete the `make_predictions` function so that it computes the predicted labels `y_pred` $\\in [-1, 1]$ for data `X_test` with a given `model` and decision `threshold`. `HINT` You may find the `model.predict_proba` method and [this StackOverflow thread](https://stackoverflow.com/questions/30820962/splitting-columns-of-a-numpy-array-easily) to be helpful."
   ]
  },
  {
   "cell_type": "code",
   "execution_count": 9,
   "metadata": {},
   "outputs": [],
   "source": [
    "def make_predictions(model, X_test, threshold=0.5):\n",
    "    '''\n",
    "    Computes the predicted labels for points in X_TEST using a given MODEL and THRESHOLD\n",
    "    '''\n",
    "    \n",
    "    # your code here\n",
    "    y_pred = np.zeros(len(X_test))\n",
    "    for i in range(len(X_test)):\n",
    "        if model.predict_proba(X_test)[i,1]>threshold:\n",
    "            y_pred[i] = 1\n",
    "        else:\n",
    "            y_pred[i] = -1\n",
    "    \n",
    "    \n",
    "    assert isinstance(y_pred, np.ndarray), \\\n",
    "        'Please return your predictions as an NumPy array'\n",
    "    assert np.all(np.isin(np.unique(y_pred), [-1, 1])), \\\n",
    "        'Your predictions should be either -1 or +1'\n",
    "    \n",
    "    return y_pred"
   ]
  },
  {
   "cell_type": "markdown",
   "metadata": {},
   "source": [
    "### Problem 2.4\n",
    "\n",
    "Next, we will combine all of the things we have done in earlier problems into a single function that produces a confusion matrix plot by fitting and evaluating new Logisitic Regression models with varying thresholds. Note that there will be some redundancy/inefficiency in this function because it repeatedly recomputes the same values, but it is okay as it simplifies the code.\n",
    "\n",
    "**Try this!** Complete the `boundary_experiment` function so that it does the following:\n",
    "1. Creates a train/test split with `train_test_split` with a `test_size` of 0.3, stratification by `y` with `stratify`, and a `random_state` of 11.\n",
    "2. Creates a new `LogisticRegression` model with the `'liblinear'` `solver` and `fit` it with the training set.\n",
    "3. Makes predictions `y_pred` for test set points using `make_predictions` and `threshold`.\n",
    "4. Computes a confusion matrix and then plots it using `plot_confusion_matrix`.\n",
    "\n",
    "`HINT` Feel free to refer to any official documentation and remember that you can easily view the documentation for a function or object by adding a `?` after its name (eg. `plot_confusion_matrix?`)."
   ]
  },
  {
   "cell_type": "code",
   "execution_count": 30,
   "metadata": {},
   "outputs": [],
   "source": [
    "def boundary_experiment(X, y, threshold=0.5):\n",
    "    \n",
    "    # your code here\n",
    "    X_train, X_test, y_train, y_test = train_test_split(X, y, test_size=0.3, random_state=11, stratify = y)\n",
    "    L_model_new=LogisticRegression(solver = 'liblinear')\n",
    "    L_model_new.fit(X_train, y_train)\n",
    "    y_pred = make_predictions(L_model_new, X_test, threshold)\n",
    "    plot_confusion_matrix(confusion_matrix(y_test, y_pred), labels=['Malignant','Benign'])"
   ]
  },
  {
   "cell_type": "markdown",
   "metadata": {},
   "source": [
    "### Problem 2.5\n",
    "\n",
    "In the following cell, we will experiment with how changing the decision boundary (threshold) affects the confusion matrix using the functions that you implemented earlier. In order to make the visualization work you will need to install an additional package, `ipywidgets`."
   ]
  },
  {
   "cell_type": "markdown",
   "metadata": {},
   "source": [
    "#### Jupyter Lab\n",
    "If you are using Jupyter Lab, you will need to install [node.js](https://nodejs.org/en/) first. You can do this via [brew](https://brew.sh).\n",
    "\n",
    "```\n",
    "$ brew install node\n",
    "```\n",
    "\n",
    "Then, you execute\n",
    "\n",
    "```\n",
    "$ jupyter labextension install @jupyter-widgets/jupyterlab-manager\n",
    "```\n",
    "as described in this [this article](https://ipywidgets.readthedocs.io/en/stable/user_install.html#installing-the-jupyterlab-extension). Then, restart Jupyter Lab\n",
    "\n",
    "#### Jupyter Notebook or Anaconda\n",
    "If you are using Jupyter Notebook or Anaconda, then follow the instructions described in this [this article](https://ipywidgets.readthedocs.io/en/stable/user_install.html)."
   ]
  },
  {
   "cell_type": "markdown",
   "metadata": {},
   "source": [
    "**Try this!** Evaluate the following cell and experiment with the slider."
   ]
  },
  {
   "cell_type": "code",
   "execution_count": 32,
   "metadata": {},
   "outputs": [
    {
     "data": {
      "application/vnd.jupyter.widget-view+json": {
       "model_id": "4590c0b35454472b81ca69e214cd1263",
       "version_major": 2,
       "version_minor": 0
      },
      "text/plain": [
       "interactive(children=(FloatSlider(value=0.5, description='threshold', max=1.0, step=0.01), Output()), _dom_cla…"
      ]
     },
     "metadata": {},
     "output_type": "display_data"
    }
   ],
   "source": [
    "from ipywidgets import interactive, fixed\n",
    "\n",
    "interactive(boundary_experiment, X=fixed(X), y=fixed(y), threshold = (0, 1, 0.01))"
   ]
  },
  {
   "cell_type": "markdown",
   "metadata": {},
   "source": [
    "**Write-up!** How does changing the threshold affect the confusion matrix (eg. correct classifications and errors)? What is the smallest threshold, if any, that eliminates false positive errors? What is the largest threshold, if any, that eliminates false negative errors? In each case, explain whether or not we would want to do so?"
   ]
  },
  {
   "cell_type": "raw",
   "metadata": {},
   "source": [
    "# your response here\n",
    "Moving the threshold down causes more negative predictions while moving it up causes more positive predictions. Also the more away from center the more errors we get. While we get more false positives when the threshold is too low, we get more false negative when it is too high.\n",
    "The smallest threshold that eliminates false positive is 0.87 and the largest threshold that eliminates false negative is 0.04.\n",
    "In cancer detection, we would not want to raise the threshold too high(0.87) because as the false positive rate is declining, we miss a lot of malignant cases as we detect them as benign. If we want to ensure that no one case of cancer is undetected, we would want to use a really low threshold(0.04) to avoid false negatives. "
   ]
  },
  {
   "cell_type": "markdown",
   "metadata": {},
   "source": [
    "## 3. An Explainable Classifier: Decision Trees\n",
    "\n",
    "With the rapid development and advancement in artificial intelligence (AI) technologies, including the machine learning that we use in this class, there is an increasing concern over the ethics of AI. There are often situations where AI is used and in which it is critically important to be sure that a model is both reliable and correct. For many models, it is often difficult to explain why they produce the results that they do. These concerns have led to much debate and the advent of the [Explainable AI (XAI)](https://en.wikipedia.org/wiki/Explainable_Artificial_Intelligence) movement. The goal of XAI is to promote the development of AI whose actions and decisions can be easily understood by humans. Though not originally designed with XAI in mind, decision trees have increasingly become the focus of attention within this movement.\n",
    "\n",
    "Perhaps, this is an alternative model we can use to predict breast cancer.\n",
    "\n",
    "In the following section, we will introduce and explore, though not to great depths, what decision trees are and how they can be used as explainable classification models. We will later use this model to explore model complexity."
   ]
  },
  {
   "cell_type": "markdown",
   "metadata": {},
   "source": [
    "### How Do They Work?\n",
    "\n",
    "Intuitively, a decision tree classifier tries to determine the class of a data point by making a series of \"tests\". Consider the following diagram of a decision tree that attempts to predict whether it will rain:\n",
    "\n",
    "![dtree](utility/pics/decision-tree.png)\n",
    "\n",
    "— [Source](https://prateekvjoshi.com/2016/03/22/how-are-decision-trees-constructed-in-machine-learning/)\n",
    "\n",
    "At each level (or depth), a feature of the data is examined and and a decision is made. The outcomes of that decision are represented as branches of the tree. In the tree above, the first feature that is examined is temperature, and if the temperature is greater 70 degrees we will do one thing and if it is less than 70, we will do another thing.\n",
    "\n",
    "What makes decision trees explainable is that we, as humans, can read off and follow exactly how the decision tree came to it's conclusion."
   ]
  },
  {
   "cell_type": "markdown",
   "metadata": {},
   "source": [
    "### Building Decision Trees\n",
    "\n",
    "We will not discuss how decision trees are built in this course. Instead, we will opt to do do that for you. The following cell contains a function that takes a training set and produces a fit decision tree classification model.\n",
    "\n",
    "The main thing to know about decision trees is that their complexity is directly determined by their depth. As we mentioned before, each level of depth in the tree is another set of decisions that the model can make. By increasing the depth of the tree, we increase the complexity of the model."
   ]
  },
  {
   "cell_type": "code",
   "execution_count": 12,
   "metadata": {},
   "outputs": [],
   "source": [
    "from sklearn.tree import DecisionTreeClassifier\n",
    "\n",
    "def make_decision_tree(X_train, y_train, depth=None):\n",
    "    return DecisionTreeClassifier(max_depth=depth, random_state=4).fit(X_train, y_train)"
   ]
  },
  {
   "cell_type": "markdown",
   "metadata": {},
   "source": [
    "\n",
    "Let's try to build a decision tree to classify breast cancer tumors. We will reuse the training and testing sets we made earlier."
   ]
  },
  {
   "cell_type": "code",
   "execution_count": 13,
   "metadata": {},
   "outputs": [],
   "source": [
    "tree_model = make_decision_tree(X_train, y_train)"
   ]
  },
  {
   "cell_type": "code",
   "execution_count": 14,
   "metadata": {},
   "outputs": [
    {
     "data": {
      "text/plain": [
       "DecisionTreeClassifier(ccp_alpha=0.0, class_weight=None, criterion='gini',\n",
       "                       max_depth=None, max_features=None, max_leaf_nodes=None,\n",
       "                       min_impurity_decrease=0.0, min_impurity_split=None,\n",
       "                       min_samples_leaf=1, min_samples_split=2,\n",
       "                       min_weight_fraction_leaf=0.0, presort='deprecated',\n",
       "                       random_state=4, splitter='best')"
      ]
     },
     "execution_count": 14,
     "metadata": {},
     "output_type": "execute_result"
    }
   ],
   "source": [
    "tree_model"
   ]
  },
  {
   "cell_type": "markdown",
   "metadata": {},
   "source": [
    "### Visualizing the Decision Tree\n",
    "\n",
    "Again, the selling point of decision trees is that they are readily interpretable. Let's take a look at what our model looks like."
   ]
  },
  {
   "cell_type": "markdown",
   "metadata": {},
   "source": [
    "### Problem 3.1\n",
    "\n",
    "The following cell produces text and encodes what the tree looks like. We will use a online tool called [Viz.js](http://viz-js.com/) to visualize the results.\n",
    "\n",
    "**Try this!** Run the following cell and copy/paste the outputs in to [Viz.js](http://viz-js.com/). Then clear the outputs of the cell."
   ]
  },
  {
   "cell_type": "code",
   "execution_count": 15,
   "metadata": {},
   "outputs": [],
   "source": [
    "from sklearn.tree import export_graphviz\n",
    "\n",
    "encoding = export_graphviz(tree_model, impurity=False, filled=True, rounded=True,\n",
    "                           feature_names=cancer_data.feature_names,\n",
    "                           class_names=cancer_data.target_names)\n",
    "#print(encoding)"
   ]
  },
  {
   "cell_type": "markdown",
   "metadata": {},
   "source": [
    "**Write-up!** What was the maximum depth of the decision tree?"
   ]
  },
  {
   "cell_type": "raw",
   "metadata": {},
   "source": [
    "# your response here\n",
    "Maximum depth is 7. "
   ]
  },
  {
   "cell_type": "markdown",
   "metadata": {},
   "source": [
    "### Problem 3.2\n",
    "\n",
    "Let's evaluate the performance of the \"max-depth\" decision tree we just visualized.\n",
    "\n",
    "**Try this!** In the cell below, compute the accuracy of the `tree_model` on our testing data."
   ]
  },
  {
   "cell_type": "code",
   "execution_count": 16,
   "metadata": {},
   "outputs": [
    {
     "data": {
      "text/plain": [
       "0.9064327485380117"
      ]
     },
     "execution_count": 16,
     "metadata": {},
     "output_type": "execute_result"
    }
   ],
   "source": [
    "# your code here\n",
    "y_pred = tree_model.predict(X_test)\n",
    "correct_predictions = 0\n",
    "for i in range(len(y_pred)):\n",
    "    if y_pred[i] == y_test[i]:\n",
    "        correct_predictions+=1\n",
    "accurate_p = correct_predictions/len(y_pred)\n",
    "accurate_p"
   ]
  },
  {
   "cell_type": "markdown",
   "metadata": {},
   "source": [
    "**Write-up!** How does this compare to the performance of our linear model?"
   ]
  },
  {
   "cell_type": "raw",
   "metadata": {},
   "source": [
    "# your response here\n",
    "They are the same."
   ]
  },
  {
   "cell_type": "markdown",
   "metadata": {},
   "source": [
    "## 4. Model Selection\n",
    "In the lecture we saw that higher-order polynomials can give us more complex models. Typically increasing model complexity can help improving the performance. However, only to a certain extent. At some point you start to overfit and the performance on a held-out test set will start to decrease again. For decision trees model complexity increases with the depth of the trees used. It is pretty easy to see that by using a sufficient number of splits, you can classify the entire training set correctly. That is classic _overfitting_. "
   ]
  },
  {
   "cell_type": "markdown",
   "metadata": {},
   "source": [
    "### Problem 4.1\n",
    "\n",
    "**Try this!** In the cell below, compute the training and validation error of decision tree classifiers with depths from `1` to `10`."
   ]
  },
  {
   "cell_type": "code",
   "execution_count": 17,
   "metadata": {},
   "outputs": [
    {
     "name": "stdout",
     "output_type": "stream",
     "text": [
      "Depth = 1\n",
      "training error: 0.07537688442211055\n",
      "validation error: 0.10588235294117643\n",
      "Depth = 2\n",
      "training error: 0.055276381909547756\n",
      "validation error: 0.07058823529411762\n",
      "Depth = 3\n",
      "training error: 0.02010050251256279\n",
      "validation error: 0.07058823529411762\n",
      "Depth = 4\n",
      "training error: 0.015075376884422065\n",
      "validation error: 0.07058823529411762\n",
      "Depth = 5\n",
      "training error: 0.01005025125628145\n",
      "validation error: 0.07058823529411762\n",
      "Depth = 6\n",
      "training error: 0.002512562814070307\n",
      "validation error: 0.08235294117647063\n",
      "Depth = 7\n",
      "training error: 0.0\n",
      "validation error: 0.10588235294117643\n",
      "Depth = 8\n",
      "training error: 0.0\n",
      "validation error: 0.08235294117647063\n",
      "Depth = 9\n",
      "training error: 0.0\n",
      "validation error: 0.07058823529411762\n",
      "Depth = 10\n",
      "training error: 0.0\n",
      "validation error: 0.10588235294117643\n"
     ]
    }
   ],
   "source": [
    "from sklearn.tree import DecisionTreeClassifier\n",
    "\n",
    "X_train, X_rest, y_train, y_rest = \\\n",
    "    train_test_split(X, y, test_size=0.3, stratify=y, random_state=10)\n",
    "X_val, X_test, y_val, y_test = \\\n",
    "    train_test_split(X_rest, y_rest, test_size=0.5, stratify=y_rest, random_state=10)\n",
    "\n",
    "\n",
    "# your code here\n",
    "training_error_all = np.zeros(10)\n",
    "v_error_all = np.zeros(10)\n",
    "depth = np.arange(1,11)\n",
    "\n",
    "for i in depth:\n",
    "    tree = DecisionTreeClassifier(max_depth=i)\n",
    "    tree.fit(X_train, y_train)\n",
    "    \n",
    "    training_error = 1-tree.score(X_train, y_train)\n",
    "    training_error_all[i-1] = training_error\n",
    "    val_error = 1-tree.score(X_val, y_val)\n",
    "    v_error_all[i-1] = val_error\n",
    "    print('Depth =', end = ' '),\n",
    "    print(i)\n",
    "    print('training error:', end = ' '),\n",
    "    print(training_error)\n",
    "    print('validation error:',end = ' '),\n",
    "    print(val_error)"
   ]
  },
  {
   "cell_type": "markdown",
   "metadata": {},
   "source": [
    "**Try this!** Plot the training and validation error curves against the depth that produced them."
   ]
  },
  {
   "cell_type": "code",
   "execution_count": 18,
   "metadata": {},
   "outputs": [
    {
     "data": {
      "text/plain": [
       "<function matplotlib.pyplot.show(*args, **kw)>"
      ]
     },
     "execution_count": 18,
     "metadata": {},
     "output_type": "execute_result"
    },
    {
     "data": {
      "image/png": "[encoded data removed]",
      "text/plain": [
       "<Figure size 1152x648 with 1 Axes>"
      ]
     },
     "metadata": {},
     "output_type": "display_data"
    }
   ],
   "source": [
    "import numpy as np\n",
    "import matplotlib.pyplot as plt\n",
    "\n",
    "# your code here\n",
    "ax1, = plt.plot(depth, training_error_all, color = 'pink')\n",
    "ax2, = plt.plot(depth, v_error_all, color = 'c')\n",
    "plt.title('Training and Validation Error of Tree Model')\n",
    "plt.legend((ax1, ax2),('training error', 'validation error'))\n",
    "plt.xlabel('Depth')\n",
    "plt.ylabel('Error Rate')\n",
    "plt.show"
   ]
  },
  {
   "cell_type": "markdown",
   "metadata": {},
   "source": [
    "**Write-up!** Which model (which depths) would you choose and why? "
   ]
  },
  {
   "cell_type": "raw",
   "metadata": {},
   "source": [
    "# your response here\n",
    "I would choose model with depth 5 because it has the lowest validation error and relatively low training error. "
   ]
  },
  {
   "cell_type": "markdown",
   "metadata": {},
   "source": [
    "### Problem 4.2\n",
    "Evaluate the model you selected above by computing the test error. Print the test error. \n",
    "> Hint: You will have to retrain your model. "
   ]
  },
  {
   "cell_type": "code",
   "execution_count": 19,
   "metadata": {},
   "outputs": [
    {
     "name": "stdout",
     "output_type": "stream",
     "text": [
      "Depth = 1\n",
      "test error: 0.06976744186046513\n",
      "Depth = 2\n",
      "test error: 0.09302325581395354\n",
      "Depth = 3\n",
      "test error: 0.10465116279069764\n",
      "Depth = 4\n",
      "test error: 0.08139534883720934\n",
      "Depth = 5\n",
      "test error: 0.10465116279069764\n",
      "Depth = 6\n",
      "test error: 0.10465116279069764\n",
      "Depth = 7\n",
      "test error: 0.10465116279069764\n",
      "Depth = 8\n",
      "test error: 0.13953488372093026\n",
      "Depth = 9\n",
      "test error: 0.10465116279069764\n",
      "Depth = 10\n",
      "test error: 0.09302325581395354\n"
     ]
    }
   ],
   "source": [
    "# your code here\n",
    "for i in depth:\n",
    "    tree = DecisionTreeClassifier(max_depth=i)\n",
    "    tree.fit(X_train, y_train)\n",
    "    test_score = 0\n",
    "    for j in range(len(X_test)):\n",
    "        if tree.predict(X_test)[j]==y_test[j]:\n",
    "            test_score+=1\n",
    "    test_error = 1-test_score/len(y_test)\n",
    "    print('Depth =', end = ' '),\n",
    "    print(i)\n",
    "    print('test error:', end = ' '),\n",
    "    print(test_error)"
   ]
  },
  {
   "cell_type": "markdown",
   "metadata": {},
   "source": [
    "And that's it!"
   ]
  }
 ],
 "metadata": {
  "kernelspec": {
   "display_name": "Python 3",
   "language": "python",
   "name": "python3"
  },
  "language_info": {
   "codemirror_mode": {
    "name": "ipython",
    "version": 3
   },
   "file_extension": ".py",
   "mimetype": "text/x-python",
   "name": "python",
   "nbconvert_exporter": "python",
   "pygments_lexer": "ipython3",
   "version": "3.7.6"
  }
 },
 "nbformat": 4,
 "nbformat_minor": 4
}
