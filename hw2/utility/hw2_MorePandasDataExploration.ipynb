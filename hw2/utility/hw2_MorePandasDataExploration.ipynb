{
 "cells": [
  {
   "cell_type": "markdown",
   "metadata": {},
   "source": [
    "# Hw 2: More Pandas and Data Exploration! 🐼"
   ]
  },
  {
   "cell_type": "markdown",
   "metadata": {},
   "source": [
    "Name: Steve Li\n",
    "\n",
    "Student ID: 464163\n",
    "\n",
    "Collaborators:"
   ]
  },
  {
   "cell_type": "markdown",
   "metadata": {},
   "source": [
    "## Instructions\n",
    "\n",
    "For this homework, work through **Lab 2 (Analyzing the MoMA Data)** first. In general, you should feel free to import any package that we have previously used in class. Ensure that all plots have the necessary components that a plot should have (e.g. axes labels, a title, a legend).\n",
    "\n",
    "Frequently **save** your notebook!"
   ]
  },
  {
   "cell_type": "markdown",
   "metadata": {},
   "source": [
    "### Collaborators and Sources\n",
    "Furthermore, in addition to recording your **collaborators** on this homework, please also remember to **cite/indicate all external sources** used when finishing this assignment. \n",
    "> This includes peers, TAs, and links to online sources. \n",
    "\n",
    "Note that these citations will be taken into account during the grading and regrading process."
   ]
  },
  {
   "cell_type": "code",
   "execution_count": 132,
   "metadata": {},
   "outputs": [],
   "source": [
    "# collaborators and sources:\n",
    "# Albert Einstein and Marie Curie\n",
    "# https://developers.google.com/edu/python/strings\n",
    "\n",
    "# your code here\n",
    "answer = 'my answer'"
   ]
  },
  {
   "cell_type": "markdown",
   "metadata": {},
   "source": [
    "### Submission instructions\n",
    "* Submit this python notebook including your answers in the code cells as homework submission.\n",
    "* **Do not change the number of cells!** Your submission notebook should have exactly one code cell per problem. \n",
    "* Do **not** remove the `# your code here` line and add you solution after that line. "
   ]
  },
  {
   "cell_type": "markdown",
   "metadata": {},
   "source": [
    "## 1. Pandas!\n",
    "\n",
    "In lab, we used a Python package called [Pandas](https://pandas.pydata.org), a tool for manupulating tabular data (i.e. data that is stored in the form of tables). Let's recap some of its capabilities."
   ]
  },
  {
   "cell_type": "code",
   "execution_count": 3,
   "metadata": {},
   "outputs": [],
   "source": [
    "import pandas as pd"
   ]
  },
  {
   "cell_type": "markdown",
   "metadata": {},
   "source": [
    "For example, consider the following table:\n",
    "\n",
    "| id | name     | rating |\n",
    "|:--:|:-------- |:------:|\n",
    "| 1  | Sandwich | 3      |\n",
    "| 2  | Steak    | 4      |\n",
    "| 3  | Pizza    | 5      |"
   ]
  },
  {
   "cell_type": "markdown",
   "metadata": {},
   "source": [
    "### Problem 1.1\n",
    "\n",
    "Let's load in the rest of the data — the complete file is located in `utility/data/food-data.csv`.\n",
    "\n",
    "**Try this!** Navigate to the file containing the data and take a look at it. Based on the format of the data, choose the most applicable Pandas reader from [this list](https://pandas.pydata.org/pandas-docs/stable/user_guide/io.html) and load the data into `food_data`. Evaluate the variable to see the contents of the dataset."
   ]
  },
  {
   "cell_type": "code",
   "execution_count": 134,
   "metadata": {},
   "outputs": [
    {
     "data": {
      "text/html": [
       "<div>\n",
       "<style scoped>\n",
       "    .dataframe tbody tr th:only-of-type {\n",
       "        vertical-align: middle;\n",
       "    }\n",
       "\n",
       "    .dataframe tbody tr th {\n",
       "        vertical-align: top;\n",
       "    }\n",
       "\n",
       "    .dataframe thead th {\n",
       "        text-align: right;\n",
       "    }\n",
       "</style>\n",
       "<table border=\"1\" class=\"dataframe\">\n",
       "  <thead>\n",
       "    <tr style=\"text-align: right;\">\n",
       "      <th></th>\n",
       "      <th>id</th>\n",
       "      <th>name</th>\n",
       "      <th>rating</th>\n",
       "    </tr>\n",
       "  </thead>\n",
       "  <tbody>\n",
       "    <tr>\n",
       "      <th>0</th>\n",
       "      <td>1</td>\n",
       "      <td>sandwich</td>\n",
       "      <td>3</td>\n",
       "    </tr>\n",
       "    <tr>\n",
       "      <th>1</th>\n",
       "      <td>2</td>\n",
       "      <td>steak</td>\n",
       "      <td>4</td>\n",
       "    </tr>\n",
       "    <tr>\n",
       "      <th>2</th>\n",
       "      <td>3</td>\n",
       "      <td>pizza</td>\n",
       "      <td>5</td>\n",
       "    </tr>\n",
       "    <tr>\n",
       "      <th>3</th>\n",
       "      <td>4</td>\n",
       "      <td>cheese burger</td>\n",
       "      <td>4</td>\n",
       "    </tr>\n",
       "    <tr>\n",
       "      <th>4</th>\n",
       "      <td>5</td>\n",
       "      <td>tator tots</td>\n",
       "      <td>1</td>\n",
       "    </tr>\n",
       "    <tr>\n",
       "      <th>5</th>\n",
       "      <td>6</td>\n",
       "      <td>hotdog</td>\n",
       "      <td>2</td>\n",
       "    </tr>\n",
       "    <tr>\n",
       "      <th>6</th>\n",
       "      <td>7</td>\n",
       "      <td>philly cheesesteak</td>\n",
       "      <td>3</td>\n",
       "    </tr>\n",
       "    <tr>\n",
       "      <th>7</th>\n",
       "      <td>8</td>\n",
       "      <td>nachos</td>\n",
       "      <td>2</td>\n",
       "    </tr>\n",
       "    <tr>\n",
       "      <th>8</th>\n",
       "      <td>9</td>\n",
       "      <td>blueberry cobbler</td>\n",
       "      <td>1</td>\n",
       "    </tr>\n",
       "    <tr>\n",
       "      <th>9</th>\n",
       "      <td>10</td>\n",
       "      <td>chocolate-chip cookies</td>\n",
       "      <td>4</td>\n",
       "    </tr>\n",
       "  </tbody>\n",
       "</table>\n",
       "</div>"
      ],
      "text/plain": [
       "   id                    name  rating\n",
       "0   1                sandwich       3\n",
       "1   2                   steak       4\n",
       "2   3                   pizza       5\n",
       "3   4           cheese burger       4\n",
       "4   5              tator tots       1\n",
       "5   6                  hotdog       2\n",
       "6   7      philly cheesesteak       3\n",
       "7   8                  nachos       2\n",
       "8   9       blueberry cobbler       1\n",
       "9  10  chocolate-chip cookies       4"
      ]
     },
     "execution_count": 134,
     "metadata": {},
     "output_type": "execute_result"
    }
   ],
   "source": [
    "# your code here\n",
    "food_data = pd.read_csv(\"./utility/data/food-data.csv\")\n",
    "food_data"
   ]
  },
  {
   "cell_type": "markdown",
   "metadata": {},
   "source": [
    "The core data structure of Pandas is called a [DataFrame](https://pandas.pydata.org/pandas-docs/stable/reference/api/pandas.DataFrame.html). It provides an API that allows you to interact with tabular data easily. For example, you can display the first 5 rows quickly by using the `head` method."
   ]
  },
  {
   "cell_type": "code",
   "execution_count": 135,
   "metadata": {},
   "outputs": [
    {
     "data": {
      "text/html": [
       "<div>\n",
       "<style scoped>\n",
       "    .dataframe tbody tr th:only-of-type {\n",
       "        vertical-align: middle;\n",
       "    }\n",
       "\n",
       "    .dataframe tbody tr th {\n",
       "        vertical-align: top;\n",
       "    }\n",
       "\n",
       "    .dataframe thead th {\n",
       "        text-align: right;\n",
       "    }\n",
       "</style>\n",
       "<table border=\"1\" class=\"dataframe\">\n",
       "  <thead>\n",
       "    <tr style=\"text-align: right;\">\n",
       "      <th></th>\n",
       "      <th>id</th>\n",
       "      <th>name</th>\n",
       "      <th>rating</th>\n",
       "    </tr>\n",
       "  </thead>\n",
       "  <tbody>\n",
       "    <tr>\n",
       "      <th>0</th>\n",
       "      <td>1</td>\n",
       "      <td>sandwich</td>\n",
       "      <td>3</td>\n",
       "    </tr>\n",
       "    <tr>\n",
       "      <th>1</th>\n",
       "      <td>2</td>\n",
       "      <td>steak</td>\n",
       "      <td>4</td>\n",
       "    </tr>\n",
       "    <tr>\n",
       "      <th>2</th>\n",
       "      <td>3</td>\n",
       "      <td>pizza</td>\n",
       "      <td>5</td>\n",
       "    </tr>\n",
       "    <tr>\n",
       "      <th>3</th>\n",
       "      <td>4</td>\n",
       "      <td>cheese burger</td>\n",
       "      <td>4</td>\n",
       "    </tr>\n",
       "    <tr>\n",
       "      <th>4</th>\n",
       "      <td>5</td>\n",
       "      <td>tator tots</td>\n",
       "      <td>1</td>\n",
       "    </tr>\n",
       "  </tbody>\n",
       "</table>\n",
       "</div>"
      ],
      "text/plain": [
       "   id           name  rating\n",
       "0   1       sandwich       3\n",
       "1   2          steak       4\n",
       "2   3          pizza       5\n",
       "3   4  cheese burger       4\n",
       "4   5     tator tots       1"
      ]
     },
     "execution_count": 135,
     "metadata": {},
     "output_type": "execute_result"
    }
   ],
   "source": [
    "food_data.head()"
   ]
  },
  {
   "cell_type": "markdown",
   "metadata": {},
   "source": [
    "Since CSV is a standard format, Pandas new how to read the data and even assumed that the first row was the header row containing the column headers. You can access these column names in the `columns` property of a DataFrame."
   ]
  },
  {
   "cell_type": "code",
   "execution_count": 136,
   "metadata": {},
   "outputs": [
    {
     "data": {
      "text/plain": [
       "Index(['id', 'name', 'rating'], dtype='object')"
      ]
     },
     "execution_count": 136,
     "metadata": {},
     "output_type": "execute_result"
    }
   ],
   "source": [
    "food_data.columns"
   ]
  },
  {
   "cell_type": "markdown",
   "metadata": {},
   "source": [
    "Some data is stored without a header row. If this is the case, the data will usually be accompanied by some documentation explaining what each column should be. Pandas readers allow you to customize whether or not it should expect a header row, and many other table features, to your dataset. Try evaluating the reader function you used in [Problem 1.1](#Problem-1.1) after appending a [`?`🔗](https://ipython.readthedocs.io/en/stable/interactive/python-ipython-diff.html#accessing-help) to it."
   ]
  },
  {
   "cell_type": "code",
   "execution_count": 137,
   "metadata": {},
   "outputs": [
    {
     "data": {
      "text/plain": [
       "\u001b[0;31mType:\u001b[0m        DataFrame\n",
       "\u001b[0;31mString form:\u001b[0m\n",
       "id                    name  rating\n",
       "           0   1                sandwich       3\n",
       "           1   2                 <...>        nachos       2\n",
       "           8   9       blueberry cobbler       1\n",
       "           9  10  chocolate-chip cookies       4\n",
       "\u001b[0;31mLength:\u001b[0m      10\n",
       "\u001b[0;31mFile:\u001b[0m        /anaconda3/lib/python3.7/site-packages/pandas/core/frame.py\n",
       "\u001b[0;31mDocstring:\u001b[0m  \n",
       "Two-dimensional size-mutable, potentially heterogeneous tabular data\n",
       "structure with labeled axes (rows and columns). Arithmetic operations\n",
       "align on both row and column labels. Can be thought of as a dict-like\n",
       "container for Series objects. The primary pandas data structure.\n",
       "\n",
       "Parameters\n",
       "----------\n",
       "data : ndarray (structured or homogeneous), Iterable, dict, or DataFrame\n",
       "    Dict can contain Series, arrays, constants, or list-like objects\n",
       "\n",
       "    .. versionchanged :: 0.23.0\n",
       "       If data is a dict, argument order is maintained for Python 3.6\n",
       "       and later.\n",
       "\n",
       "index : Index or array-like\n",
       "    Index to use for resulting frame. Will default to RangeIndex if\n",
       "    no indexing information part of input data and no index provided\n",
       "columns : Index or array-like\n",
       "    Column labels to use for resulting frame. Will default to\n",
       "    RangeIndex (0, 1, 2, ..., n) if no column labels are provided\n",
       "dtype : dtype, default None\n",
       "    Data type to force. Only a single dtype is allowed. If None, infer\n",
       "copy : boolean, default False\n",
       "    Copy data from inputs. Only affects DataFrame / 2d ndarray input\n",
       "\n",
       "See Also\n",
       "--------\n",
       "DataFrame.from_records : Constructor from tuples, also record arrays.\n",
       "DataFrame.from_dict : From dicts of Series, arrays, or dicts.\n",
       "DataFrame.from_items : From sequence of (key, value) pairs\n",
       "    pandas.read_csv, pandas.read_table, pandas.read_clipboard.\n",
       "\n",
       "Examples\n",
       "--------\n",
       "Constructing DataFrame from a dictionary.\n",
       "\n",
       ">>> d = {'col1': [1, 2], 'col2': [3, 4]}\n",
       ">>> df = pd.DataFrame(data=d)\n",
       ">>> df\n",
       "   col1  col2\n",
       "0     1     3\n",
       "1     2     4\n",
       "\n",
       "Notice that the inferred dtype is int64.\n",
       "\n",
       ">>> df.dtypes\n",
       "col1    int64\n",
       "col2    int64\n",
       "dtype: object\n",
       "\n",
       "To enforce a single dtype:\n",
       "\n",
       ">>> df = pd.DataFrame(data=d, dtype=np.int8)\n",
       ">>> df.dtypes\n",
       "col1    int8\n",
       "col2    int8\n",
       "dtype: object\n",
       "\n",
       "Constructing DataFrame from numpy ndarray:\n",
       "\n",
       ">>> df2 = pd.DataFrame(np.array([[1, 2, 3], [4, 5, 6], [7, 8, 9]]),\n",
       "...                    columns=['a', 'b', 'c'])\n",
       ">>> df2\n",
       "   a  b  c\n",
       "0  1  2  3\n",
       "1  4  5  6\n",
       "2  7  8  9\n"
      ]
     },
     "metadata": {},
     "output_type": "display_data"
    }
   ],
   "source": [
    "food_data?"
   ]
  },
  {
   "cell_type": "markdown",
   "metadata": {},
   "source": [
    "### 1.1 Indexing with DataFrames\n",
    "\n",
    "You can access specific columns by indexing into the DataFrame by the column's name. For example, if we wanted to get the values in the `name` column, we would do this:"
   ]
  },
  {
   "cell_type": "code",
   "execution_count": 138,
   "metadata": {},
   "outputs": [
    {
     "data": {
      "text/plain": [
       "0                  sandwich\n",
       "1                     steak\n",
       "2                     pizza\n",
       "3             cheese burger\n",
       "4                tator tots\n",
       "5                    hotdog\n",
       "6        philly cheesesteak\n",
       "7                    nachos\n",
       "8         blueberry cobbler\n",
       "9    chocolate-chip cookies\n",
       "Name: name, dtype: object"
      ]
     },
     "execution_count": 138,
     "metadata": {},
     "output_type": "execute_result"
    }
   ],
   "source": [
    "food_data['name']"
   ]
  },
  {
   "cell_type": "markdown",
   "metadata": {},
   "source": [
    "Columns are also accessible as properties on the DataFrame object so the following cell is equivalent to the previous one."
   ]
  },
  {
   "cell_type": "code",
   "execution_count": 139,
   "metadata": {},
   "outputs": [
    {
     "data": {
      "text/plain": [
       "0                  sandwich\n",
       "1                     steak\n",
       "2                     pizza\n",
       "3             cheese burger\n",
       "4                tator tots\n",
       "5                    hotdog\n",
       "6        philly cheesesteak\n",
       "7                    nachos\n",
       "8         blueberry cobbler\n",
       "9    chocolate-chip cookies\n",
       "Name: name, dtype: object"
      ]
     },
     "execution_count": 139,
     "metadata": {},
     "output_type": "execute_result"
    }
   ],
   "source": [
    "food_data.name"
   ]
  },
  {
   "cell_type": "markdown",
   "metadata": {},
   "source": [
    "You can also access multiple columns by specifying a list of columns to retrieve."
   ]
  },
  {
   "cell_type": "code",
   "execution_count": 140,
   "metadata": {},
   "outputs": [
    {
     "data": {
      "text/html": [
       "<div>\n",
       "<style scoped>\n",
       "    .dataframe tbody tr th:only-of-type {\n",
       "        vertical-align: middle;\n",
       "    }\n",
       "\n",
       "    .dataframe tbody tr th {\n",
       "        vertical-align: top;\n",
       "    }\n",
       "\n",
       "    .dataframe thead th {\n",
       "        text-align: right;\n",
       "    }\n",
       "</style>\n",
       "<table border=\"1\" class=\"dataframe\">\n",
       "  <thead>\n",
       "    <tr style=\"text-align: right;\">\n",
       "      <th></th>\n",
       "      <th>name</th>\n",
       "      <th>rating</th>\n",
       "    </tr>\n",
       "  </thead>\n",
       "  <tbody>\n",
       "    <tr>\n",
       "      <th>0</th>\n",
       "      <td>sandwich</td>\n",
       "      <td>3</td>\n",
       "    </tr>\n",
       "    <tr>\n",
       "      <th>1</th>\n",
       "      <td>steak</td>\n",
       "      <td>4</td>\n",
       "    </tr>\n",
       "    <tr>\n",
       "      <th>2</th>\n",
       "      <td>pizza</td>\n",
       "      <td>5</td>\n",
       "    </tr>\n",
       "    <tr>\n",
       "      <th>3</th>\n",
       "      <td>cheese burger</td>\n",
       "      <td>4</td>\n",
       "    </tr>\n",
       "    <tr>\n",
       "      <th>4</th>\n",
       "      <td>tator tots</td>\n",
       "      <td>1</td>\n",
       "    </tr>\n",
       "    <tr>\n",
       "      <th>5</th>\n",
       "      <td>hotdog</td>\n",
       "      <td>2</td>\n",
       "    </tr>\n",
       "    <tr>\n",
       "      <th>6</th>\n",
       "      <td>philly cheesesteak</td>\n",
       "      <td>3</td>\n",
       "    </tr>\n",
       "    <tr>\n",
       "      <th>7</th>\n",
       "      <td>nachos</td>\n",
       "      <td>2</td>\n",
       "    </tr>\n",
       "    <tr>\n",
       "      <th>8</th>\n",
       "      <td>blueberry cobbler</td>\n",
       "      <td>1</td>\n",
       "    </tr>\n",
       "    <tr>\n",
       "      <th>9</th>\n",
       "      <td>chocolate-chip cookies</td>\n",
       "      <td>4</td>\n",
       "    </tr>\n",
       "  </tbody>\n",
       "</table>\n",
       "</div>"
      ],
      "text/plain": [
       "                     name  rating\n",
       "0                sandwich       3\n",
       "1                   steak       4\n",
       "2                   pizza       5\n",
       "3           cheese burger       4\n",
       "4              tator tots       1\n",
       "5                  hotdog       2\n",
       "6      philly cheesesteak       3\n",
       "7                  nachos       2\n",
       "8       blueberry cobbler       1\n",
       "9  chocolate-chip cookies       4"
      ]
     },
     "execution_count": 140,
     "metadata": {},
     "output_type": "execute_result"
    }
   ],
   "source": [
    "food_data[['name', 'rating']]"
   ]
  },
  {
   "cell_type": "markdown",
   "metadata": {},
   "source": [
    "You can imagine this being particularly useful when we want to select only a few, meaningful data features from a large dataset to explore in more detail."
   ]
  },
  {
   "cell_type": "markdown",
   "metadata": {},
   "source": [
    "DataFrames also have a `loc` property that allows you to write more complex indexing operations on the DataFrame. Here we are indexing in to both axes of the DataFrame to get the `name` and `rating` values of the first three rows. Try evaluating `food_data.loc?` as well for more infomation."
   ]
  },
  {
   "cell_type": "code",
   "execution_count": 141,
   "metadata": {},
   "outputs": [
    {
     "data": {
      "text/html": [
       "<div>\n",
       "<style scoped>\n",
       "    .dataframe tbody tr th:only-of-type {\n",
       "        vertical-align: middle;\n",
       "    }\n",
       "\n",
       "    .dataframe tbody tr th {\n",
       "        vertical-align: top;\n",
       "    }\n",
       "\n",
       "    .dataframe thead th {\n",
       "        text-align: right;\n",
       "    }\n",
       "</style>\n",
       "<table border=\"1\" class=\"dataframe\">\n",
       "  <thead>\n",
       "    <tr style=\"text-align: right;\">\n",
       "      <th></th>\n",
       "      <th>name</th>\n",
       "      <th>rating</th>\n",
       "    </tr>\n",
       "  </thead>\n",
       "  <tbody>\n",
       "    <tr>\n",
       "      <th>0</th>\n",
       "      <td>sandwich</td>\n",
       "      <td>3</td>\n",
       "    </tr>\n",
       "    <tr>\n",
       "      <th>1</th>\n",
       "      <td>steak</td>\n",
       "      <td>4</td>\n",
       "    </tr>\n",
       "    <tr>\n",
       "      <th>2</th>\n",
       "      <td>pizza</td>\n",
       "      <td>5</td>\n",
       "    </tr>\n",
       "    <tr>\n",
       "      <th>3</th>\n",
       "      <td>cheese burger</td>\n",
       "      <td>4</td>\n",
       "    </tr>\n",
       "  </tbody>\n",
       "</table>\n",
       "</div>"
      ],
      "text/plain": [
       "            name  rating\n",
       "0       sandwich       3\n",
       "1          steak       4\n",
       "2          pizza       5\n",
       "3  cheese burger       4"
      ]
     },
     "execution_count": 141,
     "metadata": {},
     "output_type": "execute_result"
    }
   ],
   "source": [
    "food_data.loc[:3, ['name', 'rating']]"
   ]
  },
  {
   "cell_type": "markdown",
   "metadata": {},
   "source": [
    "In HW1, we practiced using boolean indexing to access specific elements in NumPy arrays. We can do the same with Pandas DataFrames. In the following cell, we check for the rows that have a rating less than 3."
   ]
  },
  {
   "cell_type": "code",
   "execution_count": 142,
   "metadata": {},
   "outputs": [
    {
     "data": {
      "text/plain": [
       "0    False\n",
       "1    False\n",
       "2    False\n",
       "3    False\n",
       "4     True\n",
       "5     True\n",
       "6    False\n",
       "7     True\n",
       "8     True\n",
       "9    False\n",
       "Name: rating, dtype: bool"
      ]
     },
     "execution_count": 142,
     "metadata": {},
     "output_type": "execute_result"
    }
   ],
   "source": [
    "food_data['rating'] < 3"
   ]
  },
  {
   "cell_type": "markdown",
   "metadata": {},
   "source": [
    "This gives us a boolean `Series`, the Pandas name for a 1D object — it is analogous to a 1D NumPy boolean array. We can then use this boolean array to get the rows that meet the condition."
   ]
  },
  {
   "cell_type": "code",
   "execution_count": 143,
   "metadata": {},
   "outputs": [
    {
     "data": {
      "text/html": [
       "<div>\n",
       "<style scoped>\n",
       "    .dataframe tbody tr th:only-of-type {\n",
       "        vertical-align: middle;\n",
       "    }\n",
       "\n",
       "    .dataframe tbody tr th {\n",
       "        vertical-align: top;\n",
       "    }\n",
       "\n",
       "    .dataframe thead th {\n",
       "        text-align: right;\n",
       "    }\n",
       "</style>\n",
       "<table border=\"1\" class=\"dataframe\">\n",
       "  <thead>\n",
       "    <tr style=\"text-align: right;\">\n",
       "      <th></th>\n",
       "      <th>id</th>\n",
       "      <th>name</th>\n",
       "      <th>rating</th>\n",
       "    </tr>\n",
       "  </thead>\n",
       "  <tbody>\n",
       "    <tr>\n",
       "      <th>4</th>\n",
       "      <td>5</td>\n",
       "      <td>tator tots</td>\n",
       "      <td>1</td>\n",
       "    </tr>\n",
       "    <tr>\n",
       "      <th>5</th>\n",
       "      <td>6</td>\n",
       "      <td>hotdog</td>\n",
       "      <td>2</td>\n",
       "    </tr>\n",
       "    <tr>\n",
       "      <th>7</th>\n",
       "      <td>8</td>\n",
       "      <td>nachos</td>\n",
       "      <td>2</td>\n",
       "    </tr>\n",
       "    <tr>\n",
       "      <th>8</th>\n",
       "      <td>9</td>\n",
       "      <td>blueberry cobbler</td>\n",
       "      <td>1</td>\n",
       "    </tr>\n",
       "  </tbody>\n",
       "</table>\n",
       "</div>"
      ],
      "text/plain": [
       "   id               name  rating\n",
       "4   5         tator tots       1\n",
       "5   6             hotdog       2\n",
       "7   8             nachos       2\n",
       "8   9  blueberry cobbler       1"
      ]
     },
     "execution_count": 143,
     "metadata": {},
     "output_type": "execute_result"
    }
   ],
   "source": [
    "food_data[food_data['rating'] < 3]"
   ]
  },
  {
   "cell_type": "code",
   "execution_count": 144,
   "metadata": {},
   "outputs": [
    {
     "data": {
      "text/html": [
       "<div>\n",
       "<style scoped>\n",
       "    .dataframe tbody tr th:only-of-type {\n",
       "        vertical-align: middle;\n",
       "    }\n",
       "\n",
       "    .dataframe tbody tr th {\n",
       "        vertical-align: top;\n",
       "    }\n",
       "\n",
       "    .dataframe thead th {\n",
       "        text-align: right;\n",
       "    }\n",
       "</style>\n",
       "<table border=\"1\" class=\"dataframe\">\n",
       "  <thead>\n",
       "    <tr style=\"text-align: right;\">\n",
       "      <th></th>\n",
       "      <th>id</th>\n",
       "      <th>name</th>\n",
       "      <th>rating</th>\n",
       "    </tr>\n",
       "  </thead>\n",
       "  <tbody>\n",
       "    <tr>\n",
       "      <th>0</th>\n",
       "      <td>1</td>\n",
       "      <td>sandwich</td>\n",
       "      <td>3</td>\n",
       "    </tr>\n",
       "    <tr>\n",
       "      <th>6</th>\n",
       "      <td>7</td>\n",
       "      <td>philly cheesesteak</td>\n",
       "      <td>3</td>\n",
       "    </tr>\n",
       "  </tbody>\n",
       "</table>\n",
       "</div>"
      ],
      "text/plain": [
       "   id                name  rating\n",
       "0   1            sandwich       3\n",
       "6   7  philly cheesesteak       3"
      ]
     },
     "execution_count": 144,
     "metadata": {},
     "output_type": "execute_result"
    }
   ],
   "source": [
    "food_data[food_data['rating'] == 3]"
   ]
  },
  {
   "cell_type": "markdown",
   "metadata": {},
   "source": [
    "We can also sample a specific number of rows from a dataset using the `sample` method."
   ]
  },
  {
   "cell_type": "code",
   "execution_count": 145,
   "metadata": {},
   "outputs": [
    {
     "data": {
      "text/html": [
       "<div>\n",
       "<style scoped>\n",
       "    .dataframe tbody tr th:only-of-type {\n",
       "        vertical-align: middle;\n",
       "    }\n",
       "\n",
       "    .dataframe tbody tr th {\n",
       "        vertical-align: top;\n",
       "    }\n",
       "\n",
       "    .dataframe thead th {\n",
       "        text-align: right;\n",
       "    }\n",
       "</style>\n",
       "<table border=\"1\" class=\"dataframe\">\n",
       "  <thead>\n",
       "    <tr style=\"text-align: right;\">\n",
       "      <th></th>\n",
       "      <th>id</th>\n",
       "      <th>name</th>\n",
       "      <th>rating</th>\n",
       "    </tr>\n",
       "  </thead>\n",
       "  <tbody>\n",
       "    <tr>\n",
       "      <th>8</th>\n",
       "      <td>9</td>\n",
       "      <td>blueberry cobbler</td>\n",
       "      <td>1</td>\n",
       "    </tr>\n",
       "    <tr>\n",
       "      <th>5</th>\n",
       "      <td>6</td>\n",
       "      <td>hotdog</td>\n",
       "      <td>2</td>\n",
       "    </tr>\n",
       "    <tr>\n",
       "      <th>6</th>\n",
       "      <td>7</td>\n",
       "      <td>philly cheesesteak</td>\n",
       "      <td>3</td>\n",
       "    </tr>\n",
       "    <tr>\n",
       "      <th>7</th>\n",
       "      <td>8</td>\n",
       "      <td>nachos</td>\n",
       "      <td>2</td>\n",
       "    </tr>\n",
       "    <tr>\n",
       "      <th>1</th>\n",
       "      <td>2</td>\n",
       "      <td>steak</td>\n",
       "      <td>4</td>\n",
       "    </tr>\n",
       "  </tbody>\n",
       "</table>\n",
       "</div>"
      ],
      "text/plain": [
       "   id                name  rating\n",
       "8   9   blueberry cobbler       1\n",
       "5   6              hotdog       2\n",
       "6   7  philly cheesesteak       3\n",
       "7   8              nachos       2\n",
       "1   2               steak       4"
      ]
     },
     "execution_count": 145,
     "metadata": {},
     "output_type": "execute_result"
    }
   ],
   "source": [
    "food_data.sample(5)"
   ]
  },
  {
   "cell_type": "markdown",
   "metadata": {},
   "source": [
    "### 1.2 Data Exploration with DataFrames"
   ]
  },
  {
   "cell_type": "markdown",
   "metadata": {},
   "source": [
    "In addition to indexing operations, DataFrames also provide common summary statistics for the data exploration like `mean`, `max`, etc."
   ]
  },
  {
   "cell_type": "code",
   "execution_count": 146,
   "metadata": {},
   "outputs": [
    {
     "data": {
      "text/plain": [
       "2.9"
      ]
     },
     "execution_count": 146,
     "metadata": {},
     "output_type": "execute_result"
    }
   ],
   "source": [
    "food_data['rating'].mean()"
   ]
  },
  {
   "cell_type": "code",
   "execution_count": 147,
   "metadata": {},
   "outputs": [
    {
     "data": {
      "text/plain": [
       "5"
      ]
     },
     "execution_count": 147,
     "metadata": {},
     "output_type": "execute_result"
    }
   ],
   "source": [
    "food_data['rating'].max()"
   ]
  },
  {
   "cell_type": "markdown",
   "metadata": {},
   "source": [
    "We can also get the shape of a dataset quickly from a DataFrame."
   ]
  },
  {
   "cell_type": "code",
   "execution_count": 148,
   "metadata": {},
   "outputs": [
    {
     "data": {
      "text/plain": [
       "(10, 3)"
      ]
     },
     "execution_count": 148,
     "metadata": {},
     "output_type": "execute_result"
    }
   ],
   "source": [
    "food_data.shape"
   ]
  },
  {
   "cell_type": "markdown",
   "metadata": {},
   "source": [
    "The data in a DataFrame is stored in a form that is similar to a NumPy array so it can easily be converted to one."
   ]
  },
  {
   "cell_type": "code",
   "execution_count": 149,
   "metadata": {},
   "outputs": [
    {
     "data": {
      "text/plain": [
       "array([[1, 'sandwich', 3],\n",
       "       [2, 'steak', 4],\n",
       "       [3, 'pizza', 5],\n",
       "       [4, 'cheese burger', 4],\n",
       "       [5, 'tator tots', 1],\n",
       "       [6, 'hotdog', 2],\n",
       "       [7, 'philly cheesesteak', 3],\n",
       "       [8, 'nachos', 2],\n",
       "       [9, 'blueberry cobbler', 1],\n",
       "       [10, 'chocolate-chip cookies', 4]], dtype=object)"
      ]
     },
     "execution_count": 149,
     "metadata": {},
     "output_type": "execute_result"
    }
   ],
   "source": [
    "food_data.values"
   ]
  },
  {
   "cell_type": "markdown",
   "metadata": {},
   "source": [
    "Finally, Pandas provides some convenience functions that allow us to quickly, but minimalistically, visualize our data. This is great for initial exploration, but you'll want to implement your own plots for communicating your results."
   ]
  },
  {
   "cell_type": "code",
   "execution_count": 150,
   "metadata": {},
   "outputs": [
    {
     "data": {
      "text/plain": [
       "<matplotlib.axes._subplots.AxesSubplot at 0x116d77b38>"
      ]
     },
     "execution_count": 150,
     "metadata": {},
     "output_type": "execute_result"
    },
    {
     "data": {
      "image/png": "[encoded data removed]",
      "text/plain": [
       "<Figure size 432x288 with 1 Axes>"
      ]
     },
     "metadata": {
      "needs_background": "light"
     },
     "output_type": "display_data"
    }
   ],
   "source": [
    "food_data['rating'].hist()"
   ]
  },
  {
   "cell_type": "markdown",
   "metadata": {},
   "source": [
    "## 2. Getting Familiar with the Data Set\n",
    "\n",
    "In the following section, we will take a look at some data and do some preliminary exploration. The data set we will be using is from the [World Happiness Report from 2019](https://worldhappiness.report)."
   ]
  },
  {
   "cell_type": "markdown",
   "metadata": {},
   "source": [
    "### Problem 2.1\n",
    "\n",
    "First, let's load in the data into `happiness`.\n",
    "\n",
    "**Try this!** In the cell below, load the data set in `happiness.csv`. If the following cell fails, please make sure that you have downloaded the data."
   ]
  },
  {
   "cell_type": "code",
   "execution_count": 4,
   "metadata": {},
   "outputs": [],
   "source": [
    "import os\n",
    "\n",
    "data = 'utility/data'\n",
    "\n",
    "assert os.path.exists(data), \\\n",
    "    'Unable to find data; make sure that you have the `utility` directory'\n",
    "\n",
    "# your code here\n",
    "happiness = pd.read_csv(\"./utility/data/happiness.csv\")"
   ]
  },
  {
   "cell_type": "markdown",
   "metadata": {},
   "source": [
    "### Problem 2.2\n",
    "\n",
    "Next, let's get to know our data set.\n",
    "\n",
    "**Try this!** Use the cell below to investigate the data set as you answer the following questions."
   ]
  },
  {
   "cell_type": "code",
   "execution_count": 152,
   "metadata": {},
   "outputs": [
    {
     "data": {
      "text/html": [
       "<div>\n",
       "<style scoped>\n",
       "    .dataframe tbody tr th:only-of-type {\n",
       "        vertical-align: middle;\n",
       "    }\n",
       "\n",
       "    .dataframe tbody tr th {\n",
       "        vertical-align: top;\n",
       "    }\n",
       "\n",
       "    .dataframe thead th {\n",
       "        text-align: right;\n",
       "    }\n",
       "</style>\n",
       "<table border=\"1\" class=\"dataframe\">\n",
       "  <thead>\n",
       "    <tr style=\"text-align: right;\">\n",
       "      <th></th>\n",
       "      <th>Country</th>\n",
       "      <th>Score</th>\n",
       "      <th>Region</th>\n",
       "      <th>GDP per capita</th>\n",
       "      <th>Social support</th>\n",
       "      <th>Healthy life expectancy</th>\n",
       "      <th>Freedom to make life choices</th>\n",
       "      <th>Generosity</th>\n",
       "      <th>Perceptions of corruption</th>\n",
       "    </tr>\n",
       "  </thead>\n",
       "  <tbody>\n",
       "    <tr>\n",
       "      <th>0</th>\n",
       "      <td>Finland</td>\n",
       "      <td>7.769</td>\n",
       "      <td>Europe</td>\n",
       "      <td>1.340</td>\n",
       "      <td>1.587</td>\n",
       "      <td>0.986</td>\n",
       "      <td>0.596</td>\n",
       "      <td>0.153</td>\n",
       "      <td>0.393</td>\n",
       "    </tr>\n",
       "    <tr>\n",
       "      <th>1</th>\n",
       "      <td>Denmark</td>\n",
       "      <td>7.600</td>\n",
       "      <td>Europe</td>\n",
       "      <td>1.383</td>\n",
       "      <td>1.573</td>\n",
       "      <td>0.996</td>\n",
       "      <td>0.592</td>\n",
       "      <td>0.252</td>\n",
       "      <td>0.410</td>\n",
       "    </tr>\n",
       "    <tr>\n",
       "      <th>2</th>\n",
       "      <td>Norway</td>\n",
       "      <td>7.554</td>\n",
       "      <td>Europe</td>\n",
       "      <td>1.488</td>\n",
       "      <td>1.582</td>\n",
       "      <td>1.028</td>\n",
       "      <td>0.603</td>\n",
       "      <td>0.271</td>\n",
       "      <td>0.341</td>\n",
       "    </tr>\n",
       "    <tr>\n",
       "      <th>3</th>\n",
       "      <td>Iceland</td>\n",
       "      <td>7.494</td>\n",
       "      <td>Europe</td>\n",
       "      <td>1.380</td>\n",
       "      <td>1.624</td>\n",
       "      <td>1.026</td>\n",
       "      <td>0.591</td>\n",
       "      <td>0.354</td>\n",
       "      <td>0.118</td>\n",
       "    </tr>\n",
       "    <tr>\n",
       "      <th>4</th>\n",
       "      <td>Netherlands</td>\n",
       "      <td>7.488</td>\n",
       "      <td>Europe</td>\n",
       "      <td>1.396</td>\n",
       "      <td>1.522</td>\n",
       "      <td>0.999</td>\n",
       "      <td>0.557</td>\n",
       "      <td>0.322</td>\n",
       "      <td>0.298</td>\n",
       "    </tr>\n",
       "    <tr>\n",
       "      <th>5</th>\n",
       "      <td>Switzerland</td>\n",
       "      <td>7.480</td>\n",
       "      <td>Europe</td>\n",
       "      <td>1.452</td>\n",
       "      <td>1.526</td>\n",
       "      <td>1.052</td>\n",
       "      <td>0.572</td>\n",
       "      <td>0.263</td>\n",
       "      <td>0.343</td>\n",
       "    </tr>\n",
       "    <tr>\n",
       "      <th>6</th>\n",
       "      <td>Sweden</td>\n",
       "      <td>7.343</td>\n",
       "      <td>Europe</td>\n",
       "      <td>1.387</td>\n",
       "      <td>1.487</td>\n",
       "      <td>1.009</td>\n",
       "      <td>0.574</td>\n",
       "      <td>0.267</td>\n",
       "      <td>0.373</td>\n",
       "    </tr>\n",
       "    <tr>\n",
       "      <th>7</th>\n",
       "      <td>New Zealand</td>\n",
       "      <td>7.307</td>\n",
       "      <td>Asia &amp; Pacific</td>\n",
       "      <td>1.303</td>\n",
       "      <td>1.557</td>\n",
       "      <td>1.026</td>\n",
       "      <td>0.585</td>\n",
       "      <td>0.330</td>\n",
       "      <td>0.380</td>\n",
       "    </tr>\n",
       "    <tr>\n",
       "      <th>8</th>\n",
       "      <td>Canada</td>\n",
       "      <td>7.278</td>\n",
       "      <td>North America</td>\n",
       "      <td>1.365</td>\n",
       "      <td>1.505</td>\n",
       "      <td>1.039</td>\n",
       "      <td>0.584</td>\n",
       "      <td>0.285</td>\n",
       "      <td>0.308</td>\n",
       "    </tr>\n",
       "    <tr>\n",
       "      <th>9</th>\n",
       "      <td>Austria</td>\n",
       "      <td>7.246</td>\n",
       "      <td>Europe</td>\n",
       "      <td>1.376</td>\n",
       "      <td>1.475</td>\n",
       "      <td>1.016</td>\n",
       "      <td>0.532</td>\n",
       "      <td>0.244</td>\n",
       "      <td>0.226</td>\n",
       "    </tr>\n",
       "    <tr>\n",
       "      <th>10</th>\n",
       "      <td>Australia</td>\n",
       "      <td>7.228</td>\n",
       "      <td>Asia &amp; Pacific</td>\n",
       "      <td>1.372</td>\n",
       "      <td>1.548</td>\n",
       "      <td>1.036</td>\n",
       "      <td>0.557</td>\n",
       "      <td>0.332</td>\n",
       "      <td>0.290</td>\n",
       "    </tr>\n",
       "    <tr>\n",
       "      <th>11</th>\n",
       "      <td>Costa Rica</td>\n",
       "      <td>7.167</td>\n",
       "      <td>South/Latin America</td>\n",
       "      <td>1.034</td>\n",
       "      <td>1.441</td>\n",
       "      <td>0.963</td>\n",
       "      <td>0.558</td>\n",
       "      <td>0.144</td>\n",
       "      <td>0.093</td>\n",
       "    </tr>\n",
       "    <tr>\n",
       "      <th>12</th>\n",
       "      <td>Israel</td>\n",
       "      <td>7.139</td>\n",
       "      <td>Europe</td>\n",
       "      <td>1.276</td>\n",
       "      <td>1.455</td>\n",
       "      <td>1.029</td>\n",
       "      <td>0.371</td>\n",
       "      <td>0.261</td>\n",
       "      <td>0.082</td>\n",
       "    </tr>\n",
       "    <tr>\n",
       "      <th>13</th>\n",
       "      <td>Luxembourg</td>\n",
       "      <td>7.090</td>\n",
       "      <td>Europe</td>\n",
       "      <td>1.609</td>\n",
       "      <td>1.479</td>\n",
       "      <td>1.012</td>\n",
       "      <td>0.526</td>\n",
       "      <td>0.194</td>\n",
       "      <td>0.316</td>\n",
       "    </tr>\n",
       "    <tr>\n",
       "      <th>14</th>\n",
       "      <td>United Kingdom</td>\n",
       "      <td>7.054</td>\n",
       "      <td>Europe</td>\n",
       "      <td>1.333</td>\n",
       "      <td>1.538</td>\n",
       "      <td>0.996</td>\n",
       "      <td>0.450</td>\n",
       "      <td>0.348</td>\n",
       "      <td>0.278</td>\n",
       "    </tr>\n",
       "    <tr>\n",
       "      <th>15</th>\n",
       "      <td>Ireland</td>\n",
       "      <td>7.021</td>\n",
       "      <td>Europe</td>\n",
       "      <td>1.499</td>\n",
       "      <td>1.553</td>\n",
       "      <td>0.999</td>\n",
       "      <td>0.516</td>\n",
       "      <td>0.298</td>\n",
       "      <td>0.310</td>\n",
       "    </tr>\n",
       "    <tr>\n",
       "      <th>16</th>\n",
       "      <td>Germany</td>\n",
       "      <td>6.985</td>\n",
       "      <td>Europe</td>\n",
       "      <td>1.373</td>\n",
       "      <td>1.454</td>\n",
       "      <td>0.987</td>\n",
       "      <td>0.495</td>\n",
       "      <td>0.261</td>\n",
       "      <td>0.265</td>\n",
       "    </tr>\n",
       "    <tr>\n",
       "      <th>17</th>\n",
       "      <td>Belgium</td>\n",
       "      <td>6.923</td>\n",
       "      <td>Europe</td>\n",
       "      <td>1.356</td>\n",
       "      <td>1.504</td>\n",
       "      <td>0.986</td>\n",
       "      <td>0.473</td>\n",
       "      <td>0.160</td>\n",
       "      <td>0.210</td>\n",
       "    </tr>\n",
       "    <tr>\n",
       "      <th>18</th>\n",
       "      <td>United States</td>\n",
       "      <td>6.892</td>\n",
       "      <td>North America</td>\n",
       "      <td>1.433</td>\n",
       "      <td>1.457</td>\n",
       "      <td>0.874</td>\n",
       "      <td>0.454</td>\n",
       "      <td>0.280</td>\n",
       "      <td>0.128</td>\n",
       "    </tr>\n",
       "    <tr>\n",
       "      <th>19</th>\n",
       "      <td>Czech Republic</td>\n",
       "      <td>6.852</td>\n",
       "      <td>Europe</td>\n",
       "      <td>1.269</td>\n",
       "      <td>1.487</td>\n",
       "      <td>0.920</td>\n",
       "      <td>0.457</td>\n",
       "      <td>0.046</td>\n",
       "      <td>0.036</td>\n",
       "    </tr>\n",
       "    <tr>\n",
       "      <th>20</th>\n",
       "      <td>United Arab Emirates</td>\n",
       "      <td>6.825</td>\n",
       "      <td>Middle east</td>\n",
       "      <td>1.503</td>\n",
       "      <td>1.310</td>\n",
       "      <td>0.825</td>\n",
       "      <td>0.598</td>\n",
       "      <td>0.262</td>\n",
       "      <td>0.182</td>\n",
       "    </tr>\n",
       "    <tr>\n",
       "      <th>21</th>\n",
       "      <td>Malta</td>\n",
       "      <td>6.726</td>\n",
       "      <td>Europe</td>\n",
       "      <td>1.300</td>\n",
       "      <td>1.520</td>\n",
       "      <td>0.999</td>\n",
       "      <td>0.564</td>\n",
       "      <td>0.375</td>\n",
       "      <td>0.151</td>\n",
       "    </tr>\n",
       "    <tr>\n",
       "      <th>22</th>\n",
       "      <td>Mexico</td>\n",
       "      <td>6.595</td>\n",
       "      <td>South/Latin America</td>\n",
       "      <td>1.070</td>\n",
       "      <td>1.323</td>\n",
       "      <td>0.861</td>\n",
       "      <td>0.433</td>\n",
       "      <td>0.074</td>\n",
       "      <td>0.073</td>\n",
       "    </tr>\n",
       "    <tr>\n",
       "      <th>23</th>\n",
       "      <td>France</td>\n",
       "      <td>6.592</td>\n",
       "      <td>Europe</td>\n",
       "      <td>1.324</td>\n",
       "      <td>1.472</td>\n",
       "      <td>1.045</td>\n",
       "      <td>0.436</td>\n",
       "      <td>0.111</td>\n",
       "      <td>0.183</td>\n",
       "    </tr>\n",
       "    <tr>\n",
       "      <th>24</th>\n",
       "      <td>Taiwan</td>\n",
       "      <td>6.446</td>\n",
       "      <td>Asia &amp; Pacific</td>\n",
       "      <td>1.368</td>\n",
       "      <td>1.430</td>\n",
       "      <td>0.914</td>\n",
       "      <td>0.351</td>\n",
       "      <td>0.242</td>\n",
       "      <td>0.097</td>\n",
       "    </tr>\n",
       "    <tr>\n",
       "      <th>25</th>\n",
       "      <td>Chile</td>\n",
       "      <td>6.444</td>\n",
       "      <td>South/Latin America</td>\n",
       "      <td>1.159</td>\n",
       "      <td>1.369</td>\n",
       "      <td>0.920</td>\n",
       "      <td>0.357</td>\n",
       "      <td>0.187</td>\n",
       "      <td>0.056</td>\n",
       "    </tr>\n",
       "    <tr>\n",
       "      <th>26</th>\n",
       "      <td>Guatemala</td>\n",
       "      <td>6.436</td>\n",
       "      <td>South/Latin America</td>\n",
       "      <td>0.800</td>\n",
       "      <td>1.269</td>\n",
       "      <td>0.746</td>\n",
       "      <td>0.535</td>\n",
       "      <td>0.175</td>\n",
       "      <td>0.078</td>\n",
       "    </tr>\n",
       "    <tr>\n",
       "      <th>27</th>\n",
       "      <td>Saudi Arabia</td>\n",
       "      <td>6.375</td>\n",
       "      <td>Middle east</td>\n",
       "      <td>1.403</td>\n",
       "      <td>1.357</td>\n",
       "      <td>0.795</td>\n",
       "      <td>0.439</td>\n",
       "      <td>0.080</td>\n",
       "      <td>0.132</td>\n",
       "    </tr>\n",
       "    <tr>\n",
       "      <th>28</th>\n",
       "      <td>Qatar</td>\n",
       "      <td>6.374</td>\n",
       "      <td>Middle east</td>\n",
       "      <td>1.684</td>\n",
       "      <td>1.313</td>\n",
       "      <td>0.871</td>\n",
       "      <td>0.555</td>\n",
       "      <td>0.220</td>\n",
       "      <td>0.167</td>\n",
       "    </tr>\n",
       "    <tr>\n",
       "      <th>29</th>\n",
       "      <td>Spain</td>\n",
       "      <td>6.354</td>\n",
       "      <td>Europe</td>\n",
       "      <td>1.286</td>\n",
       "      <td>1.484</td>\n",
       "      <td>1.062</td>\n",
       "      <td>0.362</td>\n",
       "      <td>0.153</td>\n",
       "      <td>0.079</td>\n",
       "    </tr>\n",
       "    <tr>\n",
       "      <th>...</th>\n",
       "      <td>...</td>\n",
       "      <td>...</td>\n",
       "      <td>...</td>\n",
       "      <td>...</td>\n",
       "      <td>...</td>\n",
       "      <td>...</td>\n",
       "      <td>...</td>\n",
       "      <td>...</td>\n",
       "      <td>...</td>\n",
       "    </tr>\n",
       "    <tr>\n",
       "      <th>126</th>\n",
       "      <td>Congo (Kinshasa)</td>\n",
       "      <td>4.418</td>\n",
       "      <td>Africa</td>\n",
       "      <td>0.094</td>\n",
       "      <td>1.125</td>\n",
       "      <td>0.357</td>\n",
       "      <td>0.269</td>\n",
       "      <td>0.212</td>\n",
       "      <td>0.053</td>\n",
       "    </tr>\n",
       "    <tr>\n",
       "      <th>127</th>\n",
       "      <td>Mali</td>\n",
       "      <td>4.390</td>\n",
       "      <td>Africa</td>\n",
       "      <td>0.385</td>\n",
       "      <td>1.105</td>\n",
       "      <td>0.308</td>\n",
       "      <td>0.327</td>\n",
       "      <td>0.153</td>\n",
       "      <td>0.052</td>\n",
       "    </tr>\n",
       "    <tr>\n",
       "      <th>128</th>\n",
       "      <td>Sierra Leone</td>\n",
       "      <td>4.374</td>\n",
       "      <td>Africa</td>\n",
       "      <td>0.268</td>\n",
       "      <td>0.841</td>\n",
       "      <td>0.242</td>\n",
       "      <td>0.309</td>\n",
       "      <td>0.252</td>\n",
       "      <td>0.045</td>\n",
       "    </tr>\n",
       "    <tr>\n",
       "      <th>129</th>\n",
       "      <td>Sri Lanka</td>\n",
       "      <td>4.366</td>\n",
       "      <td>Asia &amp; Pacific</td>\n",
       "      <td>0.949</td>\n",
       "      <td>1.265</td>\n",
       "      <td>0.831</td>\n",
       "      <td>0.470</td>\n",
       "      <td>0.244</td>\n",
       "      <td>0.047</td>\n",
       "    </tr>\n",
       "    <tr>\n",
       "      <th>130</th>\n",
       "      <td>Myanmar</td>\n",
       "      <td>4.360</td>\n",
       "      <td>Asia &amp; Pacific</td>\n",
       "      <td>0.710</td>\n",
       "      <td>1.181</td>\n",
       "      <td>0.555</td>\n",
       "      <td>0.525</td>\n",
       "      <td>0.566</td>\n",
       "      <td>0.172</td>\n",
       "    </tr>\n",
       "    <tr>\n",
       "      <th>131</th>\n",
       "      <td>Chad</td>\n",
       "      <td>4.350</td>\n",
       "      <td>Africa</td>\n",
       "      <td>0.350</td>\n",
       "      <td>0.766</td>\n",
       "      <td>0.192</td>\n",
       "      <td>0.174</td>\n",
       "      <td>0.198</td>\n",
       "      <td>0.078</td>\n",
       "    </tr>\n",
       "    <tr>\n",
       "      <th>132</th>\n",
       "      <td>Ukraine</td>\n",
       "      <td>4.332</td>\n",
       "      <td>Europe</td>\n",
       "      <td>0.820</td>\n",
       "      <td>1.390</td>\n",
       "      <td>0.739</td>\n",
       "      <td>0.178</td>\n",
       "      <td>0.187</td>\n",
       "      <td>0.010</td>\n",
       "    </tr>\n",
       "    <tr>\n",
       "      <th>133</th>\n",
       "      <td>Ethiopia</td>\n",
       "      <td>4.286</td>\n",
       "      <td>Africa</td>\n",
       "      <td>0.336</td>\n",
       "      <td>1.033</td>\n",
       "      <td>0.532</td>\n",
       "      <td>0.344</td>\n",
       "      <td>0.209</td>\n",
       "      <td>0.100</td>\n",
       "    </tr>\n",
       "    <tr>\n",
       "      <th>134</th>\n",
       "      <td>Swaziland</td>\n",
       "      <td>4.212</td>\n",
       "      <td>Africa</td>\n",
       "      <td>0.811</td>\n",
       "      <td>1.149</td>\n",
       "      <td>0.000</td>\n",
       "      <td>0.313</td>\n",
       "      <td>0.074</td>\n",
       "      <td>0.135</td>\n",
       "    </tr>\n",
       "    <tr>\n",
       "      <th>135</th>\n",
       "      <td>Uganda</td>\n",
       "      <td>4.189</td>\n",
       "      <td>Africa</td>\n",
       "      <td>0.332</td>\n",
       "      <td>1.069</td>\n",
       "      <td>0.443</td>\n",
       "      <td>0.356</td>\n",
       "      <td>0.252</td>\n",
       "      <td>0.060</td>\n",
       "    </tr>\n",
       "    <tr>\n",
       "      <th>136</th>\n",
       "      <td>Egypt</td>\n",
       "      <td>4.166</td>\n",
       "      <td>Middle east</td>\n",
       "      <td>0.913</td>\n",
       "      <td>1.039</td>\n",
       "      <td>0.644</td>\n",
       "      <td>0.241</td>\n",
       "      <td>0.076</td>\n",
       "      <td>0.067</td>\n",
       "    </tr>\n",
       "    <tr>\n",
       "      <th>137</th>\n",
       "      <td>Zambia</td>\n",
       "      <td>4.107</td>\n",
       "      <td>Africa</td>\n",
       "      <td>0.578</td>\n",
       "      <td>1.058</td>\n",
       "      <td>0.426</td>\n",
       "      <td>0.431</td>\n",
       "      <td>0.247</td>\n",
       "      <td>0.087</td>\n",
       "    </tr>\n",
       "    <tr>\n",
       "      <th>138</th>\n",
       "      <td>Togo</td>\n",
       "      <td>4.085</td>\n",
       "      <td>Africa</td>\n",
       "      <td>0.275</td>\n",
       "      <td>0.572</td>\n",
       "      <td>0.410</td>\n",
       "      <td>0.293</td>\n",
       "      <td>0.177</td>\n",
       "      <td>0.085</td>\n",
       "    </tr>\n",
       "    <tr>\n",
       "      <th>139</th>\n",
       "      <td>India</td>\n",
       "      <td>4.015</td>\n",
       "      <td>Asia &amp; Pacific</td>\n",
       "      <td>0.755</td>\n",
       "      <td>0.765</td>\n",
       "      <td>0.588</td>\n",
       "      <td>0.498</td>\n",
       "      <td>0.200</td>\n",
       "      <td>0.085</td>\n",
       "    </tr>\n",
       "    <tr>\n",
       "      <th>140</th>\n",
       "      <td>Liberia</td>\n",
       "      <td>3.975</td>\n",
       "      <td>Africa</td>\n",
       "      <td>0.073</td>\n",
       "      <td>0.922</td>\n",
       "      <td>0.443</td>\n",
       "      <td>0.370</td>\n",
       "      <td>0.233</td>\n",
       "      <td>0.033</td>\n",
       "    </tr>\n",
       "    <tr>\n",
       "      <th>141</th>\n",
       "      <td>Comoros</td>\n",
       "      <td>3.973</td>\n",
       "      <td>Arab States</td>\n",
       "      <td>0.274</td>\n",
       "      <td>0.757</td>\n",
       "      <td>0.505</td>\n",
       "      <td>0.142</td>\n",
       "      <td>0.275</td>\n",
       "      <td>0.078</td>\n",
       "    </tr>\n",
       "    <tr>\n",
       "      <th>142</th>\n",
       "      <td>Madagascar</td>\n",
       "      <td>3.933</td>\n",
       "      <td>Africa</td>\n",
       "      <td>0.274</td>\n",
       "      <td>0.916</td>\n",
       "      <td>0.555</td>\n",
       "      <td>0.148</td>\n",
       "      <td>0.169</td>\n",
       "      <td>0.041</td>\n",
       "    </tr>\n",
       "    <tr>\n",
       "      <th>143</th>\n",
       "      <td>Lesotho</td>\n",
       "      <td>3.802</td>\n",
       "      <td>Africa</td>\n",
       "      <td>0.489</td>\n",
       "      <td>1.169</td>\n",
       "      <td>0.168</td>\n",
       "      <td>0.359</td>\n",
       "      <td>0.107</td>\n",
       "      <td>0.093</td>\n",
       "    </tr>\n",
       "    <tr>\n",
       "      <th>144</th>\n",
       "      <td>Burundi</td>\n",
       "      <td>3.775</td>\n",
       "      <td>Africa</td>\n",
       "      <td>0.046</td>\n",
       "      <td>0.447</td>\n",
       "      <td>0.380</td>\n",
       "      <td>0.220</td>\n",
       "      <td>0.176</td>\n",
       "      <td>0.180</td>\n",
       "    </tr>\n",
       "    <tr>\n",
       "      <th>145</th>\n",
       "      <td>Zimbabwe</td>\n",
       "      <td>3.663</td>\n",
       "      <td>Africa</td>\n",
       "      <td>0.366</td>\n",
       "      <td>1.114</td>\n",
       "      <td>0.433</td>\n",
       "      <td>0.361</td>\n",
       "      <td>0.151</td>\n",
       "      <td>0.089</td>\n",
       "    </tr>\n",
       "    <tr>\n",
       "      <th>146</th>\n",
       "      <td>Haiti</td>\n",
       "      <td>3.597</td>\n",
       "      <td>South/Latin America</td>\n",
       "      <td>0.323</td>\n",
       "      <td>0.688</td>\n",
       "      <td>0.449</td>\n",
       "      <td>0.026</td>\n",
       "      <td>0.419</td>\n",
       "      <td>0.110</td>\n",
       "    </tr>\n",
       "    <tr>\n",
       "      <th>147</th>\n",
       "      <td>Botswana</td>\n",
       "      <td>3.488</td>\n",
       "      <td>Africa</td>\n",
       "      <td>1.041</td>\n",
       "      <td>1.145</td>\n",
       "      <td>0.538</td>\n",
       "      <td>0.455</td>\n",
       "      <td>0.025</td>\n",
       "      <td>0.100</td>\n",
       "    </tr>\n",
       "    <tr>\n",
       "      <th>148</th>\n",
       "      <td>Syria</td>\n",
       "      <td>3.462</td>\n",
       "      <td>Asia &amp; Pacific</td>\n",
       "      <td>0.619</td>\n",
       "      <td>0.378</td>\n",
       "      <td>0.440</td>\n",
       "      <td>0.013</td>\n",
       "      <td>0.331</td>\n",
       "      <td>0.141</td>\n",
       "    </tr>\n",
       "    <tr>\n",
       "      <th>149</th>\n",
       "      <td>Malawi</td>\n",
       "      <td>3.410</td>\n",
       "      <td>Africa</td>\n",
       "      <td>0.191</td>\n",
       "      <td>0.560</td>\n",
       "      <td>0.495</td>\n",
       "      <td>0.443</td>\n",
       "      <td>0.218</td>\n",
       "      <td>0.089</td>\n",
       "    </tr>\n",
       "    <tr>\n",
       "      <th>150</th>\n",
       "      <td>Yemen</td>\n",
       "      <td>3.380</td>\n",
       "      <td>Middle east</td>\n",
       "      <td>0.287</td>\n",
       "      <td>1.163</td>\n",
       "      <td>0.463</td>\n",
       "      <td>0.143</td>\n",
       "      <td>0.108</td>\n",
       "      <td>0.077</td>\n",
       "    </tr>\n",
       "    <tr>\n",
       "      <th>151</th>\n",
       "      <td>Rwanda</td>\n",
       "      <td>3.334</td>\n",
       "      <td>Africa</td>\n",
       "      <td>0.359</td>\n",
       "      <td>0.711</td>\n",
       "      <td>0.614</td>\n",
       "      <td>0.555</td>\n",
       "      <td>0.217</td>\n",
       "      <td>0.411</td>\n",
       "    </tr>\n",
       "    <tr>\n",
       "      <th>152</th>\n",
       "      <td>Tanzania</td>\n",
       "      <td>3.231</td>\n",
       "      <td>Africa</td>\n",
       "      <td>0.476</td>\n",
       "      <td>0.885</td>\n",
       "      <td>0.499</td>\n",
       "      <td>0.417</td>\n",
       "      <td>0.276</td>\n",
       "      <td>0.147</td>\n",
       "    </tr>\n",
       "    <tr>\n",
       "      <th>153</th>\n",
       "      <td>Afghanistan</td>\n",
       "      <td>3.203</td>\n",
       "      <td>Asia &amp; Pacific</td>\n",
       "      <td>0.350</td>\n",
       "      <td>0.517</td>\n",
       "      <td>0.361</td>\n",
       "      <td>0.000</td>\n",
       "      <td>0.158</td>\n",
       "      <td>0.025</td>\n",
       "    </tr>\n",
       "    <tr>\n",
       "      <th>154</th>\n",
       "      <td>Central African Republic</td>\n",
       "      <td>3.083</td>\n",
       "      <td>Africa</td>\n",
       "      <td>0.026</td>\n",
       "      <td>0.000</td>\n",
       "      <td>0.105</td>\n",
       "      <td>0.225</td>\n",
       "      <td>0.235</td>\n",
       "      <td>0.035</td>\n",
       "    </tr>\n",
       "    <tr>\n",
       "      <th>155</th>\n",
       "      <td>South Sudan</td>\n",
       "      <td>2.853</td>\n",
       "      <td>Africa</td>\n",
       "      <td>0.306</td>\n",
       "      <td>0.575</td>\n",
       "      <td>0.295</td>\n",
       "      <td>0.010</td>\n",
       "      <td>0.202</td>\n",
       "      <td>0.091</td>\n",
       "    </tr>\n",
       "  </tbody>\n",
       "</table>\n",
       "<p>156 rows × 9 columns</p>\n",
       "</div>"
      ],
      "text/plain": [
       "                      Country  Score               Region  GDP per capita  \\\n",
       "0                     Finland  7.769               Europe           1.340   \n",
       "1                     Denmark  7.600               Europe           1.383   \n",
       "2                      Norway  7.554               Europe           1.488   \n",
       "3                     Iceland  7.494               Europe           1.380   \n",
       "4                 Netherlands  7.488               Europe           1.396   \n",
       "5                 Switzerland  7.480               Europe           1.452   \n",
       "6                      Sweden  7.343               Europe           1.387   \n",
       "7                 New Zealand  7.307       Asia & Pacific           1.303   \n",
       "8                      Canada  7.278        North America           1.365   \n",
       "9                     Austria  7.246               Europe           1.376   \n",
       "10                  Australia  7.228       Asia & Pacific           1.372   \n",
       "11                 Costa Rica  7.167  South/Latin America           1.034   \n",
       "12                     Israel  7.139               Europe           1.276   \n",
       "13                 Luxembourg  7.090               Europe           1.609   \n",
       "14             United Kingdom  7.054               Europe           1.333   \n",
       "15                    Ireland  7.021               Europe           1.499   \n",
       "16                    Germany  6.985               Europe           1.373   \n",
       "17                    Belgium  6.923               Europe           1.356   \n",
       "18              United States  6.892        North America           1.433   \n",
       "19             Czech Republic  6.852               Europe           1.269   \n",
       "20       United Arab Emirates  6.825          Middle east           1.503   \n",
       "21                      Malta  6.726               Europe           1.300   \n",
       "22                     Mexico  6.595  South/Latin America           1.070   \n",
       "23                     France  6.592               Europe           1.324   \n",
       "24                     Taiwan  6.446       Asia & Pacific           1.368   \n",
       "25                      Chile  6.444  South/Latin America           1.159   \n",
       "26                  Guatemala  6.436  South/Latin America           0.800   \n",
       "27               Saudi Arabia  6.375          Middle east           1.403   \n",
       "28                      Qatar  6.374          Middle east           1.684   \n",
       "29                      Spain  6.354               Europe           1.286   \n",
       "..                        ...    ...                  ...             ...   \n",
       "126          Congo (Kinshasa)  4.418               Africa           0.094   \n",
       "127                      Mali  4.390               Africa           0.385   \n",
       "128              Sierra Leone  4.374               Africa           0.268   \n",
       "129                 Sri Lanka  4.366       Asia & Pacific           0.949   \n",
       "130                   Myanmar  4.360       Asia & Pacific           0.710   \n",
       "131                      Chad  4.350               Africa           0.350   \n",
       "132                   Ukraine  4.332               Europe           0.820   \n",
       "133                  Ethiopia  4.286               Africa           0.336   \n",
       "134                 Swaziland  4.212               Africa           0.811   \n",
       "135                    Uganda  4.189               Africa           0.332   \n",
       "136                     Egypt  4.166          Middle east           0.913   \n",
       "137                    Zambia  4.107               Africa           0.578   \n",
       "138                      Togo  4.085               Africa           0.275   \n",
       "139                     India  4.015       Asia & Pacific           0.755   \n",
       "140                   Liberia  3.975               Africa           0.073   \n",
       "141                   Comoros  3.973          Arab States           0.274   \n",
       "142                Madagascar  3.933               Africa           0.274   \n",
       "143                   Lesotho  3.802               Africa           0.489   \n",
       "144                   Burundi  3.775               Africa           0.046   \n",
       "145                  Zimbabwe  3.663               Africa           0.366   \n",
       "146                     Haiti  3.597  South/Latin America           0.323   \n",
       "147                  Botswana  3.488               Africa           1.041   \n",
       "148                     Syria  3.462       Asia & Pacific           0.619   \n",
       "149                    Malawi  3.410               Africa           0.191   \n",
       "150                     Yemen  3.380          Middle east           0.287   \n",
       "151                    Rwanda  3.334               Africa           0.359   \n",
       "152                  Tanzania  3.231               Africa           0.476   \n",
       "153               Afghanistan  3.203       Asia & Pacific           0.350   \n",
       "154  Central African Republic  3.083               Africa           0.026   \n",
       "155               South Sudan  2.853               Africa           0.306   \n",
       "\n",
       "     Social support  Healthy life expectancy  Freedom to make life choices  \\\n",
       "0             1.587                    0.986                         0.596   \n",
       "1             1.573                    0.996                         0.592   \n",
       "2             1.582                    1.028                         0.603   \n",
       "3             1.624                    1.026                         0.591   \n",
       "4             1.522                    0.999                         0.557   \n",
       "5             1.526                    1.052                         0.572   \n",
       "6             1.487                    1.009                         0.574   \n",
       "7             1.557                    1.026                         0.585   \n",
       "8             1.505                    1.039                         0.584   \n",
       "9             1.475                    1.016                         0.532   \n",
       "10            1.548                    1.036                         0.557   \n",
       "11            1.441                    0.963                         0.558   \n",
       "12            1.455                    1.029                         0.371   \n",
       "13            1.479                    1.012                         0.526   \n",
       "14            1.538                    0.996                         0.450   \n",
       "15            1.553                    0.999                         0.516   \n",
       "16            1.454                    0.987                         0.495   \n",
       "17            1.504                    0.986                         0.473   \n",
       "18            1.457                    0.874                         0.454   \n",
       "19            1.487                    0.920                         0.457   \n",
       "20            1.310                    0.825                         0.598   \n",
       "21            1.520                    0.999                         0.564   \n",
       "22            1.323                    0.861                         0.433   \n",
       "23            1.472                    1.045                         0.436   \n",
       "24            1.430                    0.914                         0.351   \n",
       "25            1.369                    0.920                         0.357   \n",
       "26            1.269                    0.746                         0.535   \n",
       "27            1.357                    0.795                         0.439   \n",
       "28            1.313                    0.871                         0.555   \n",
       "29            1.484                    1.062                         0.362   \n",
       "..              ...                      ...                           ...   \n",
       "126           1.125                    0.357                         0.269   \n",
       "127           1.105                    0.308                         0.327   \n",
       "128           0.841                    0.242                         0.309   \n",
       "129           1.265                    0.831                         0.470   \n",
       "130           1.181                    0.555                         0.525   \n",
       "131           0.766                    0.192                         0.174   \n",
       "132           1.390                    0.739                         0.178   \n",
       "133           1.033                    0.532                         0.344   \n",
       "134           1.149                    0.000                         0.313   \n",
       "135           1.069                    0.443                         0.356   \n",
       "136           1.039                    0.644                         0.241   \n",
       "137           1.058                    0.426                         0.431   \n",
       "138           0.572                    0.410                         0.293   \n",
       "139           0.765                    0.588                         0.498   \n",
       "140           0.922                    0.443                         0.370   \n",
       "141           0.757                    0.505                         0.142   \n",
       "142           0.916                    0.555                         0.148   \n",
       "143           1.169                    0.168                         0.359   \n",
       "144           0.447                    0.380                         0.220   \n",
       "145           1.114                    0.433                         0.361   \n",
       "146           0.688                    0.449                         0.026   \n",
       "147           1.145                    0.538                         0.455   \n",
       "148           0.378                    0.440                         0.013   \n",
       "149           0.560                    0.495                         0.443   \n",
       "150           1.163                    0.463                         0.143   \n",
       "151           0.711                    0.614                         0.555   \n",
       "152           0.885                    0.499                         0.417   \n",
       "153           0.517                    0.361                         0.000   \n",
       "154           0.000                    0.105                         0.225   \n",
       "155           0.575                    0.295                         0.010   \n",
       "\n",
       "     Generosity  Perceptions of corruption  \n",
       "0         0.153                      0.393  \n",
       "1         0.252                      0.410  \n",
       "2         0.271                      0.341  \n",
       "3         0.354                      0.118  \n",
       "4         0.322                      0.298  \n",
       "5         0.263                      0.343  \n",
       "6         0.267                      0.373  \n",
       "7         0.330                      0.380  \n",
       "8         0.285                      0.308  \n",
       "9         0.244                      0.226  \n",
       "10        0.332                      0.290  \n",
       "11        0.144                      0.093  \n",
       "12        0.261                      0.082  \n",
       "13        0.194                      0.316  \n",
       "14        0.348                      0.278  \n",
       "15        0.298                      0.310  \n",
       "16        0.261                      0.265  \n",
       "17        0.160                      0.210  \n",
       "18        0.280                      0.128  \n",
       "19        0.046                      0.036  \n",
       "20        0.262                      0.182  \n",
       "21        0.375                      0.151  \n",
       "22        0.074                      0.073  \n",
       "23        0.111                      0.183  \n",
       "24        0.242                      0.097  \n",
       "25        0.187                      0.056  \n",
       "26        0.175                      0.078  \n",
       "27        0.080                      0.132  \n",
       "28        0.220                      0.167  \n",
       "29        0.153                      0.079  \n",
       "..          ...                        ...  \n",
       "126       0.212                      0.053  \n",
       "127       0.153                      0.052  \n",
       "128       0.252                      0.045  \n",
       "129       0.244                      0.047  \n",
       "130       0.566                      0.172  \n",
       "131       0.198                      0.078  \n",
       "132       0.187                      0.010  \n",
       "133       0.209                      0.100  \n",
       "134       0.074                      0.135  \n",
       "135       0.252                      0.060  \n",
       "136       0.076                      0.067  \n",
       "137       0.247                      0.087  \n",
       "138       0.177                      0.085  \n",
       "139       0.200                      0.085  \n",
       "140       0.233                      0.033  \n",
       "141       0.275                      0.078  \n",
       "142       0.169                      0.041  \n",
       "143       0.107                      0.093  \n",
       "144       0.176                      0.180  \n",
       "145       0.151                      0.089  \n",
       "146       0.419                      0.110  \n",
       "147       0.025                      0.100  \n",
       "148       0.331                      0.141  \n",
       "149       0.218                      0.089  \n",
       "150       0.108                      0.077  \n",
       "151       0.217                      0.411  \n",
       "152       0.276                      0.147  \n",
       "153       0.158                      0.025  \n",
       "154       0.235                      0.035  \n",
       "155       0.202                      0.091  \n",
       "\n",
       "[156 rows x 9 columns]"
      ]
     },
     "execution_count": 152,
     "metadata": {},
     "output_type": "execute_result"
    }
   ],
   "source": [
    "# your code here\n",
    "happiness"
   ]
  },
  {
   "cell_type": "markdown",
   "metadata": {},
   "source": [
    "**Write-up!** How many observations are in our dataset? How many features does each one have?"
   ]
  },
  {
   "cell_type": "raw",
   "metadata": {},
   "source": [
    "# your response here\n",
    "156 observations are in our dataset, and each has 9 features."
   ]
  },
  {
   "cell_type": "markdown",
   "metadata": {},
   "source": [
    "**Write-up!** What are the features? What types are each of them? How are they represented?"
   ]
  },
  {
   "cell_type": "raw",
   "metadata": {},
   "source": [
    "# your response here\n",
    "Features | Data Type | Representation\n",
    "------------------------------------------------\n",
    "Country  | categorical |  Letters in English alphabet to represent the country's name\n",
    "Score    | continuous | Numbers with the max 7.769 and min 2.853\n",
    "Region   | categorical | Letters in English alphabet to represent the country's continent\n",
    "GDP per capita | continuous | Numbers ranging from about 0 to 1.5\n",
    "Social support | continuous | Numbers ranging from about 0 to 1.6\n",
    "Healthy life expectancy | continuous | Numbers ranging from about 0.1 to 1\n",
    "Freedom to make life choices | continuous | Numbers ranging from about 0.01 to 0.6\n",
    "Generosity | continuous | Numbers ranging from about 0.1 to 0.5\n",
    "Perceptions of corruption | continuous | Numbers ranging from about 0 to 0.5"
   ]
  },
  {
   "cell_type": "markdown",
   "metadata": {},
   "source": [
    "### Problem 2.3\n",
    "\n",
    "**Write-up!** What does this data set seem to be about? If this data set was used to build a model, which features could be the targets? Which would be the inputs?\n",
    "\n",
    "Here is the data set again."
   ]
  },
  {
   "cell_type": "code",
   "execution_count": 153,
   "metadata": {},
   "outputs": [
    {
     "data": {
      "text/html": [
       "<div>\n",
       "<style scoped>\n",
       "    .dataframe tbody tr th:only-of-type {\n",
       "        vertical-align: middle;\n",
       "    }\n",
       "\n",
       "    .dataframe tbody tr th {\n",
       "        vertical-align: top;\n",
       "    }\n",
       "\n",
       "    .dataframe thead th {\n",
       "        text-align: right;\n",
       "    }\n",
       "</style>\n",
       "<table border=\"1\" class=\"dataframe\">\n",
       "  <thead>\n",
       "    <tr style=\"text-align: right;\">\n",
       "      <th></th>\n",
       "      <th>Country</th>\n",
       "      <th>Score</th>\n",
       "      <th>Region</th>\n",
       "      <th>GDP per capita</th>\n",
       "      <th>Social support</th>\n",
       "      <th>Healthy life expectancy</th>\n",
       "      <th>Freedom to make life choices</th>\n",
       "      <th>Generosity</th>\n",
       "      <th>Perceptions of corruption</th>\n",
       "    </tr>\n",
       "  </thead>\n",
       "  <tbody>\n",
       "    <tr>\n",
       "      <th>0</th>\n",
       "      <td>Finland</td>\n",
       "      <td>7.769</td>\n",
       "      <td>Europe</td>\n",
       "      <td>1.340</td>\n",
       "      <td>1.587</td>\n",
       "      <td>0.986</td>\n",
       "      <td>0.596</td>\n",
       "      <td>0.153</td>\n",
       "      <td>0.393</td>\n",
       "    </tr>\n",
       "    <tr>\n",
       "      <th>1</th>\n",
       "      <td>Denmark</td>\n",
       "      <td>7.600</td>\n",
       "      <td>Europe</td>\n",
       "      <td>1.383</td>\n",
       "      <td>1.573</td>\n",
       "      <td>0.996</td>\n",
       "      <td>0.592</td>\n",
       "      <td>0.252</td>\n",
       "      <td>0.410</td>\n",
       "    </tr>\n",
       "    <tr>\n",
       "      <th>2</th>\n",
       "      <td>Norway</td>\n",
       "      <td>7.554</td>\n",
       "      <td>Europe</td>\n",
       "      <td>1.488</td>\n",
       "      <td>1.582</td>\n",
       "      <td>1.028</td>\n",
       "      <td>0.603</td>\n",
       "      <td>0.271</td>\n",
       "      <td>0.341</td>\n",
       "    </tr>\n",
       "    <tr>\n",
       "      <th>3</th>\n",
       "      <td>Iceland</td>\n",
       "      <td>7.494</td>\n",
       "      <td>Europe</td>\n",
       "      <td>1.380</td>\n",
       "      <td>1.624</td>\n",
       "      <td>1.026</td>\n",
       "      <td>0.591</td>\n",
       "      <td>0.354</td>\n",
       "      <td>0.118</td>\n",
       "    </tr>\n",
       "    <tr>\n",
       "      <th>4</th>\n",
       "      <td>Netherlands</td>\n",
       "      <td>7.488</td>\n",
       "      <td>Europe</td>\n",
       "      <td>1.396</td>\n",
       "      <td>1.522</td>\n",
       "      <td>0.999</td>\n",
       "      <td>0.557</td>\n",
       "      <td>0.322</td>\n",
       "      <td>0.298</td>\n",
       "    </tr>\n",
       "  </tbody>\n",
       "</table>\n",
       "</div>"
      ],
      "text/plain": [
       "       Country  Score  Region  GDP per capita  Social support  \\\n",
       "0      Finland  7.769  Europe           1.340           1.587   \n",
       "1      Denmark  7.600  Europe           1.383           1.573   \n",
       "2       Norway  7.554  Europe           1.488           1.582   \n",
       "3      Iceland  7.494  Europe           1.380           1.624   \n",
       "4  Netherlands  7.488  Europe           1.396           1.522   \n",
       "\n",
       "   Healthy life expectancy  Freedom to make life choices  Generosity  \\\n",
       "0                    0.986                         0.596       0.153   \n",
       "1                    0.996                         0.592       0.252   \n",
       "2                    1.028                         0.603       0.271   \n",
       "3                    1.026                         0.591       0.354   \n",
       "4                    0.999                         0.557       0.322   \n",
       "\n",
       "   Perceptions of corruption  \n",
       "0                      0.393  \n",
       "1                      0.410  \n",
       "2                      0.341  \n",
       "3                      0.118  \n",
       "4                      0.298  "
      ]
     },
     "execution_count": 153,
     "metadata": {},
     "output_type": "execute_result"
    }
   ],
   "source": [
    "happiness.head()"
   ]
  },
  {
   "cell_type": "raw",
   "metadata": {},
   "source": [
    "# your response here\n",
    "The data set seems to be a report about a list of social factors converted into continuous numerical representation. The overall score could be the target and the rest would be the inputs to predict this overall happiness score."
   ]
  },
  {
   "cell_type": "markdown",
   "metadata": {},
   "source": [
    "## 3. Exploring The Features\n",
    "\n",
    "Next, let's take a look at the features individually."
   ]
  },
  {
   "cell_type": "markdown",
   "metadata": {},
   "source": [
    "### Problem 3.1\n",
    "\n",
    "**Try this!** In the cell below, create an indexer that can be used to get the numerical columns of the `happiness` DataFrame and store it in `numerical`. For example, if we evaluated `happiness[numerical]`, we would get all columns with names in `numerical`."
   ]
  },
  {
   "cell_type": "code",
   "execution_count": 5,
   "metadata": {},
   "outputs": [
    {
     "ename": "ValueError",
     "evalue": "Must pass DataFrame with boolean values only",
     "output_type": "error",
     "traceback": [
      "\u001b[0;31m---------------------------------------------------------------------------\u001b[0m",
      "\u001b[0;31mValueError\u001b[0m                                Traceback (most recent call last)",
      "\u001b[0;32m<ipython-input-5-ba757747cbb6>\u001b[0m in \u001b[0;36m<module>\u001b[0;34m\u001b[0m\n\u001b[1;32m      2\u001b[0m \u001b[0mnumerical\u001b[0m \u001b[0;34m=\u001b[0m \u001b[0mhappiness\u001b[0m\u001b[0;34m.\u001b[0m\u001b[0m_get_numeric_data\u001b[0m\u001b[0;34m(\u001b[0m\u001b[0;34m)\u001b[0m\u001b[0;34m\u001b[0m\u001b[0;34m\u001b[0m\u001b[0m\n\u001b[1;32m      3\u001b[0m \u001b[0mnumerical\u001b[0m\u001b[0;34m.\u001b[0m\u001b[0mhead\u001b[0m\u001b[0;34m(\u001b[0m\u001b[0;34m)\u001b[0m\u001b[0;34m\u001b[0m\u001b[0;34m\u001b[0m\u001b[0m\n\u001b[0;32m----> 4\u001b[0;31m \u001b[0mhappiness\u001b[0m\u001b[0;34m[\u001b[0m\u001b[0mnumerical\u001b[0m\u001b[0;34m]\u001b[0m\u001b[0;34m\u001b[0m\u001b[0;34m\u001b[0m\u001b[0m\n\u001b[0m",
      "\u001b[0;32m~/.local/lib/python3.6/site-packages/pandas/core/frame.py\u001b[0m in \u001b[0;36m__getitem__\u001b[0;34m(self, key)\u001b[0m\n\u001b[1;32m   2980\u001b[0m         \u001b[0;31m# Do we have a (boolean) DataFrame?\u001b[0m\u001b[0;34m\u001b[0m\u001b[0;34m\u001b[0m\u001b[0;34m\u001b[0m\u001b[0m\n\u001b[1;32m   2981\u001b[0m         \u001b[0;32mif\u001b[0m \u001b[0misinstance\u001b[0m\u001b[0;34m(\u001b[0m\u001b[0mkey\u001b[0m\u001b[0;34m,\u001b[0m \u001b[0mDataFrame\u001b[0m\u001b[0;34m)\u001b[0m\u001b[0;34m:\u001b[0m\u001b[0;34m\u001b[0m\u001b[0;34m\u001b[0m\u001b[0m\n\u001b[0;32m-> 2982\u001b[0;31m             \u001b[0;32mreturn\u001b[0m \u001b[0mself\u001b[0m\u001b[0;34m.\u001b[0m\u001b[0m_getitem_frame\u001b[0m\u001b[0;34m(\u001b[0m\u001b[0mkey\u001b[0m\u001b[0;34m)\u001b[0m\u001b[0;34m\u001b[0m\u001b[0;34m\u001b[0m\u001b[0m\n\u001b[0m\u001b[1;32m   2983\u001b[0m \u001b[0;34m\u001b[0m\u001b[0m\n\u001b[1;32m   2984\u001b[0m         \u001b[0;31m# Do we have a (boolean) 1d indexer?\u001b[0m\u001b[0;34m\u001b[0m\u001b[0;34m\u001b[0m\u001b[0;34m\u001b[0m\u001b[0m\n",
      "\u001b[0;32m~/.local/lib/python3.6/site-packages/pandas/core/frame.py\u001b[0m in \u001b[0;36m_getitem_frame\u001b[0;34m(self, key)\u001b[0m\n\u001b[1;32m   3079\u001b[0m     \u001b[0;32mdef\u001b[0m \u001b[0m_getitem_frame\u001b[0m\u001b[0;34m(\u001b[0m\u001b[0mself\u001b[0m\u001b[0;34m,\u001b[0m \u001b[0mkey\u001b[0m\u001b[0;34m)\u001b[0m\u001b[0;34m:\u001b[0m\u001b[0;34m\u001b[0m\u001b[0;34m\u001b[0m\u001b[0m\n\u001b[1;32m   3080\u001b[0m         \u001b[0;32mif\u001b[0m \u001b[0mkey\u001b[0m\u001b[0;34m.\u001b[0m\u001b[0mvalues\u001b[0m\u001b[0;34m.\u001b[0m\u001b[0msize\u001b[0m \u001b[0;32mand\u001b[0m \u001b[0;32mnot\u001b[0m \u001b[0mis_bool_dtype\u001b[0m\u001b[0;34m(\u001b[0m\u001b[0mkey\u001b[0m\u001b[0;34m.\u001b[0m\u001b[0mvalues\u001b[0m\u001b[0;34m)\u001b[0m\u001b[0;34m:\u001b[0m\u001b[0;34m\u001b[0m\u001b[0;34m\u001b[0m\u001b[0m\n\u001b[0;32m-> 3081\u001b[0;31m             \u001b[0;32mraise\u001b[0m \u001b[0mValueError\u001b[0m\u001b[0;34m(\u001b[0m\u001b[0;34m\"Must pass DataFrame with boolean values only\"\u001b[0m\u001b[0;34m)\u001b[0m\u001b[0;34m\u001b[0m\u001b[0;34m\u001b[0m\u001b[0m\n\u001b[0m\u001b[1;32m   3082\u001b[0m         \u001b[0;32mreturn\u001b[0m \u001b[0mself\u001b[0m\u001b[0;34m.\u001b[0m\u001b[0mwhere\u001b[0m\u001b[0;34m(\u001b[0m\u001b[0mkey\u001b[0m\u001b[0;34m)\u001b[0m\u001b[0;34m\u001b[0m\u001b[0;34m\u001b[0m\u001b[0m\n\u001b[1;32m   3083\u001b[0m \u001b[0;34m\u001b[0m\u001b[0m\n",
      "\u001b[0;31mValueError\u001b[0m: Must pass DataFrame with boolean values only"
     ]
    }
   ],
   "source": [
    "# your code here\n",
    "numerical = happiness._get_numeric_data()\n",
    "numerical.head()"
   ]
  },
  {
   "cell_type": "markdown",
   "metadata": {},
   "source": [
    "### Problem 3.2\n",
    "\n",
    "**Try this!** Use the cell below to investigate the data set as you answer the following questions."
   ]
  },
  {
   "cell_type": "code",
   "execution_count": 155,
   "metadata": {},
   "outputs": [
    {
     "name": "stdout",
     "output_type": "stream",
     "text": [
      "Score 5.407096153846153\n",
      "GDP per capita 0.9051474358974363\n",
      "Social support 1.2088141025641024\n",
      "Healthy life expectancy 0.7252435897435898\n",
      "Freedom to make life choices 0.3925705128205128\n",
      "Generosity 0.18484615384615383\n",
      "Perceptions of corruption 0.11060256410256411\n",
      "\n",
      "Largest std entry:  Score\n",
      "Smallest std entry:  Perceptions of corruption\n"
     ]
    }
   ],
   "source": [
    "# your code here\n",
    "for i in numerical.columns:\n",
    "    print(i, numerical[i].mean())\n",
    "\n",
    "print()\n",
    "largest_std = numerical.std().idxmax()\n",
    "print(\"Largest std entry: \", largest_std)\n",
    "smallest_std = numerical.std().idxmin()\n",
    "print(\"Smallest std entry: \", smallest_std)"
   ]
  },
  {
   "cell_type": "markdown",
   "metadata": {},
   "source": [
    "**Write-up!** What are the average values for each numeric feature?"
   ]
  },
  {
   "cell_type": "raw",
   "metadata": {},
   "source": [
    "# your response here\n",
    "Score 5.407096153846153\n",
    "GDP per capita 0.9051474358974363\n",
    "Social support 1.2088141025641024\n",
    "Healthy life expectancy 0.7252435897435898\n",
    "Freedom to make life choices 0.3925705128205128\n",
    "Generosity 0.18484615384615383\n",
    "Perceptions of corruption 0.11060256410256411"
   ]
  },
  {
   "cell_type": "markdown",
   "metadata": {},
   "source": [
    "Recall, sample standard deviation is given by\n",
    "$$\\text{std}(x) = s_X = \\sqrt{\\dfrac{\\sum_{i=1}^n (x_i - \\mu)^2}{N - 1}}.$$\n",
    "\n",
    "**Write-up!** Which feature has the largest sample standard deviation? Which one has the lowest?\n",
    "\n",
    "> Note that this is just for practicing how to retrieve these values. Since the scales for each may be different, we cannot meaningfully compare each standard deviation value."
   ]
  },
  {
   "cell_type": "raw",
   "metadata": {},
   "source": [
    "# your response here\n",
    "Score has the largest sample standard deviation while perceptions of corruption has the lowest."
   ]
  },
  {
   "cell_type": "markdown",
   "metadata": {},
   "source": [
    "### Problem 3.3\n",
    "\n",
    "Let's implement a median finding function.\n",
    "\n",
    "**Try this!** Complete the function below so that it returns the `median` of an array `x`. Be sure to use vectorized NumPy operations to do this, but do not use NumPy's built-in median function."
   ]
  },
  {
   "cell_type": "code",
   "execution_count": 8,
   "metadata": {},
   "outputs": [
    {
     "data": {
      "text/plain": [
       "0.3330893251052952"
      ]
     },
     "execution_count": 8,
     "metadata": {},
     "output_type": "execute_result"
    }
   ],
   "source": [
    "import numpy as np\n",
    "\n",
    "def compute_median(x, axis=0):\n",
    "    '''\n",
    "    Returns the median average for an array X. AXIS specifies the axis of the\n",
    "    array to take the averages across.\n",
    "    '''\n",
    "    \n",
    "    # your code here\n",
    "    if len(x.shape) == 1:\n",
    "        arrLength = len(x)\n",
    "        x = sorted(x)\n",
    "        if arrLength % 2 != 0:\n",
    "            median = x[arrLength//2]      # // floor division;  / true division\n",
    "        else:\n",
    "            median = (x[arrLength//2] + x[(arrLength-1)//2])/2\n",
    "    else:\n",
    "        median = np.array([])\n",
    "        for i in range(x.shape[1]):\n",
    "            arr = x[:, i]\n",
    "            arr = sorted(arr)\n",
    "            if len(arr) % 2 != 0:\n",
    "                med = x[len(arr)//2]\n",
    "                #print(arr.shape)\n",
    "                np.append(median, med)\n",
    "            else:\n",
    "                med = (x[len(arr)//2] + x[(len(arr)-1)//2])/2\n",
    "                #print(arr.shape)\n",
    "                np.append(median, med)\n",
    "    \n",
    "    assert np.isclose(median, np.median(x)), \\\n",
    "        \"👀 Please double check your implementation's result as it does not match NumPy's.\"\n",
    "    \n",
    "    return median\n",
    "\n",
    "# even number of values\n",
    "x = np.random.rand(10)\n",
    "compute_median(x)\n",
    "\n",
    "# odd number of values\n",
    "x = np.random.rand(9)\n",
    "compute_median(x)"
   ]
  },
  {
   "cell_type": "markdown",
   "metadata": {},
   "source": [
    "Let's try using your implementation to compute the median values for each feature.\n",
    "\n",
    "**Try this!** Use the [`apply`🔗](https://pandas.pydata.org/pandas-docs/stable/reference/api/pandas.DataFrame.apply.html) method on DataFrames to compute the medians for each feature and store the result in `medians`."
   ]
  },
  {
   "cell_type": "code",
   "execution_count": 9,
   "metadata": {},
   "outputs": [
    {
     "name": "stderr",
     "output_type": "stream",
     "text": [
      "/home/ray/.local/lib/python3.6/site-packages/ipykernel_launcher.py:31: DeprecationWarning: The truth value of an empty array is ambiguous. Returning False, but in future this will result in an error. Use `array.size > 0` to check that an array is not empty.\n"
     ]
    },
    {
     "ename": "AssertionError",
     "evalue": "👀 Please double check your implementation's result as it does not match NumPy's.",
     "output_type": "error",
     "traceback": [
      "\u001b[0;31m---------------------------------------------------------------------------\u001b[0m",
      "\u001b[0;31mAssertionError\u001b[0m                            Traceback (most recent call last)",
      "\u001b[0;32m<ipython-input-9-be7db7cc0844>\u001b[0m in \u001b[0;36m<module>\u001b[0;34m\u001b[0m\n\u001b[1;32m      1\u001b[0m \u001b[0;31m# your code here\u001b[0m\u001b[0;34m\u001b[0m\u001b[0;34m\u001b[0m\u001b[0;34m\u001b[0m\u001b[0m\n\u001b[0;32m----> 2\u001b[0;31m \u001b[0mmedians\u001b[0m \u001b[0;34m=\u001b[0m \u001b[0mhappiness\u001b[0m\u001b[0;34m.\u001b[0m\u001b[0mapply\u001b[0m\u001b[0;34m(\u001b[0m\u001b[0mcompute_median\u001b[0m\u001b[0;34m(\u001b[0m\u001b[0mnumerical\u001b[0m\u001b[0;34m.\u001b[0m\u001b[0mvalues\u001b[0m\u001b[0;34m)\u001b[0m\u001b[0;34m)\u001b[0m\u001b[0;34m\u001b[0m\u001b[0;34m\u001b[0m\u001b[0m\n\u001b[0m\u001b[1;32m      3\u001b[0m \u001b[0;34m\u001b[0m\u001b[0m\n\u001b[1;32m      4\u001b[0m \u001b[0;32massert\u001b[0m \u001b[0mnp\u001b[0m\u001b[0;34m.\u001b[0m\u001b[0mall\u001b[0m\u001b[0;34m(\u001b[0m\u001b[0mmedians\u001b[0m \u001b[0;34m==\u001b[0m \u001b[0mhappiness\u001b[0m\u001b[0;34m.\u001b[0m\u001b[0mmedian\u001b[0m\u001b[0;34m(\u001b[0m\u001b[0;34m)\u001b[0m\u001b[0;34m)\u001b[0m\u001b[0;34m,\u001b[0m\u001b[0;31m \u001b[0m\u001b[0;31m\\\u001b[0m\u001b[0;34m\u001b[0m\u001b[0;34m\u001b[0m\u001b[0m\n\u001b[1;32m      5\u001b[0m     \u001b[0;34m'👀 There seems to be an issue with your implementation. Please double check.'\u001b[0m\u001b[0;34m\u001b[0m\u001b[0;34m\u001b[0m\u001b[0m\n",
      "\u001b[0;32m<ipython-input-8-ed13284bab45>\u001b[0m in \u001b[0;36mcompute_median\u001b[0;34m(x, axis)\u001b[0m\n\u001b[1;32m     30\u001b[0m \u001b[0;34m\u001b[0m\u001b[0m\n\u001b[1;32m     31\u001b[0m     \u001b[0;32massert\u001b[0m \u001b[0mnp\u001b[0m\u001b[0;34m.\u001b[0m\u001b[0misclose\u001b[0m\u001b[0;34m(\u001b[0m\u001b[0mmedian\u001b[0m\u001b[0;34m,\u001b[0m \u001b[0mnp\u001b[0m\u001b[0;34m.\u001b[0m\u001b[0mmedian\u001b[0m\u001b[0;34m(\u001b[0m\u001b[0mx\u001b[0m\u001b[0;34m)\u001b[0m\u001b[0;34m)\u001b[0m\u001b[0;34m,\u001b[0m\u001b[0;31m \u001b[0m\u001b[0;31m\\\u001b[0m\u001b[0;34m\u001b[0m\u001b[0;34m\u001b[0m\u001b[0m\n\u001b[0;32m---> 32\u001b[0;31m         \u001b[0;34m\"👀 Please double check your implementation's result as it does not match NumPy's.\"\u001b[0m\u001b[0;34m\u001b[0m\u001b[0;34m\u001b[0m\u001b[0m\n\u001b[0m\u001b[1;32m     33\u001b[0m \u001b[0;34m\u001b[0m\u001b[0m\n\u001b[1;32m     34\u001b[0m     \u001b[0;32mreturn\u001b[0m \u001b[0mmedian\u001b[0m\u001b[0;34m\u001b[0m\u001b[0;34m\u001b[0m\u001b[0m\n",
      "\u001b[0;31mAssertionError\u001b[0m: 👀 Please double check your implementation's result as it does not match NumPy's."
     ]
    }
   ],
   "source": [
    "# your code here\n",
    "medians = happiness.apply(compute_median(numerical.values))\n",
    "\n",
    "assert np.all(medians == happiness.median()), \\\n",
    "    '👀 There seems to be an issue with your implementation. Please double check.'\n",
    "\n",
    "medians"
   ]
  },
  {
   "cell_type": "markdown",
   "metadata": {},
   "source": [
    "### Problem 3.4\n",
    "\n",
    "Let's create some plots.\n",
    "\n",
    "**Try this!** In the cell below, create a plot with box plots for each numerical feature. You can use the `.values` property of DataFrames to get a NumPy array. Ensure that your plot has all of the necessary components.\n",
    "\n",
    "> Optional: Try using a [`violin plot`🔗](https://matplotlib.org/api/_as_gen/matplotlib.pyplot.violinplot.html?highlight=violinplot#matplotlib.pyplot.violinplot) to visualize each feature. You can use this function the same way as you would use `boxplot`."
   ]
  },
  {
   "cell_type": "code",
   "execution_count": 10,
   "metadata": {},
   "outputs": [
    {
     "data": {
      "image/png": "[encoded data removed]",
      "text/plain": [
       "<Figure size 1152x648 with 1 Axes>"
      ]
     },
     "metadata": {},
     "output_type": "display_data"
    }
   ],
   "source": [
    "import matplotlib.pyplot as plt\n",
    "from utility.util import configure_plots\n",
    "\n",
    "configure_plots()\n",
    "\n",
    "# your code here\n",
    "plt.boxplot(numerical.values)\n",
    "plt.xticks([1,2,3,4,5,6,7], numerical.columns)\n",
    "plt.xticks(rotation=90)\n",
    "plt.title(\"Boxplots for Numerical Features in 2019 World Happiness Report \")\n",
    "plt.xlabel(\"Numerical Features\")\n",
    "plt.ylabel(\"Scale\")\n",
    "plt.show()"
   ]
  },
  {
   "cell_type": "markdown",
   "metadata": {},
   "source": [
    "**Write-up!** What does the box plot tell you about the features? Specifically, what can we say about Social support, Generosity, and Perceptions of Corruption?"
   ]
  },
  {
   "cell_type": "raw",
   "metadata": {},
   "source": [
    "# your response here\n",
    "Score, GDP per capita, and generosity are approximately symmetrical that follow a normal distribution, whereas the others are more skewed. For social support, generosity, and perceptions of corruption, there are a lot of outliers in those three numerical features especially in perceptions of corruption, which shows that different people have extremely disparate and subjective opinions about these three features."
   ]
  },
  {
   "cell_type": "markdown",
   "metadata": {},
   "source": [
    "## 4. Comparing Pairs of Features\n",
    "\n",
    "Now that we have a sense of what each of the features look like, we can start examining their relationships with each other."
   ]
  },
  {
   "cell_type": "markdown",
   "metadata": {},
   "source": [
    "### Problem 4.1\n",
    "\n",
    "**Try this!** Complete the function below so that it will display a scatter plot given a data frame and two column names."
   ]
  },
  {
   "cell_type": "code",
   "execution_count": 176,
   "metadata": {},
   "outputs": [],
   "source": [
    "def scatter_columns(df, first_column, second_column):\n",
    "    '''\n",
    "    Creates a scatter plot of two columns of a data frame.\n",
    "    '''\n",
    "    \n",
    "    # your code here\n",
    "    plt.scatter(df[first_column], df[second_column])\n",
    "    plt.xlabel(first_column)\n",
    "    plt.ylabel(second_column)\n",
    "    plt.title(first_column + \" vs. \" + second_column)\n",
    "    plt.show()"
   ]
  },
  {
   "cell_type": "markdown",
   "metadata": {},
   "source": [
    "**Try this!** Using the function `scatter_columns` from above, explore various combinations of features to see which ones show some kind of trend or pattern."
   ]
  },
  {
   "cell_type": "code",
   "execution_count": 180,
   "metadata": {},
   "outputs": [
    {
     "data": {
      "image/png": "[encoded data removed]",
      "text/plain": [
       "<Figure size 1152x648 with 1 Axes>"
      ]
     },
     "metadata": {},
     "output_type": "display_data"
    }
   ],
   "source": [
    "# your code here\n",
    "scatter_columns(numerical, \"Score\", \"GDP per capita\")"
   ]
  },
  {
   "cell_type": "markdown",
   "metadata": {},
   "source": [
    "**Write-up!** Which pairs of features show the most trend? Describe these trends? Additionally, given this information, what might you conclude? Were you surprised by your plots?"
   ]
  },
  {
   "cell_type": "raw",
   "metadata": {},
   "source": [
    "# your response here\n",
    "Score and GDP per capita show the most trend. There is a positive correlation about 0.8 between these two features. The higher is the overall score, the higher GDP per capita would be. I'm not surprised by the plots since a higher GDP per capita implies a higher life standard and quality which in turn gives rise to a higher life satisfaction and happiness."
   ]
  },
  {
   "cell_type": "markdown",
   "metadata": {},
   "source": [
    "### Pearson Correlation\n",
    "\n",
    "There are several ways to quantify trends, but let's pick one to discuss today. The [Pearson Correlation Coefficient](https://en.wikipedia.org/wiki/Pearson_correlation_coefficient) (commonly denoted by $\\rho$ or $r$) is a frequently used statistic for quantifying linear relationships between two variables (or features in our case). It has a value of $+1$ if there is a positive linear trend, a value of $-1$ if there is a negative trend, and a value of $0$ if there is no trend.\n",
    "\n",
    "<img src=\"utility/pics/correlation.png\" alt=\"correlation\" width=\"80%\"/>\n",
    "\n",
    "We can compute the sample correlation coefficient, $r$, with the following formula:\n",
    "\n",
    "$$\n",
    "r(X, Y) = \\dfrac{\\text{Cov}(X, Y)}{s_X s_Y} = \\dfrac{\\sum_{i=1}^n (X_i - \\mu_X)(Y_i - \\mu_Y)}{(n-1) s_X s_Y},\n",
    "$$\n",
    "\n",
    "where $X$ and $Y$ are variables, $\\mu$ is a mean, and $s$ is a [\"corrected\" sample standard deviation](https://en.wikipedia.org/wiki/Standard_deviation#Corrected_sample_standard_deviation),\n",
    "\n",
    "$$\n",
    "s_X = \\sqrt{\\displaystyle \\dfrac{1}{n-1} \\sum_{i=1}^n (X - \\mu_X)^2}.\n",
    "$$\n",
    "\n",
    "Note that NumPy's std computes an uncorrected sample standard deviation which assumes that the sample represents the population, which may not be the case since our dataset only contains a subset of all of the countries in the world. Likewise, our estimate of covariance, should also be corrected."
   ]
  },
  {
   "cell_type": "markdown",
   "metadata": {},
   "source": [
    "### Problem 4.2\n",
    "\n",
    "**Try this!** Complete the `correlation` function in the following cell so that it computes the correlation coefficient between two arrays `x` and `y`. Remember to use vectorized operations, but do not use NumPy's built in functions for variance, covariance, standard deviation, or correlation coefficient. _**Hint**: It may be helpful to work out the math for the equations. You can start by [\"foiling\"](https://en.wikipedia.org/wiki/FOIL_method) the numerator._"
   ]
  },
  {
   "cell_type": "code",
   "execution_count": 11,
   "metadata": {},
   "outputs": [
    {
     "data": {
      "text/plain": [
       "0.07582369490389654"
      ]
     },
     "execution_count": 11,
     "metadata": {},
     "output_type": "execute_result"
    }
   ],
   "source": [
    "def correlation(x, y):\n",
    "    '''\n",
    "    Returns the sample Pearson Correlation Coefficient between arrays X and Y.\n",
    "    '''\n",
    "    \n",
    "    \n",
    "    # your code here\n",
    "    covariance = 0\n",
    "    mean_x = np.mean(x)\n",
    "    mean_y = np.mean(y)\n",
    "    sumx, sumy = 0\n",
    "    for x in data: \n",
    "        suma += ((x - sum(data)/len(data))**2)  # every iteration subtracks the mean value of a list [sum(data)/len(data)]  from every [x] element of a list and then raises to the second power [**2]\n",
    "    std_x(suma/(len(data)-1))**0.5\n",
    "    std_x = np.std(x)*np.sqrt(len(x)/(len(x)-1))\n",
    "    std_y = np.std(y)*np.sqrt(len(y)/(len(y)-1))\n",
    "    for i in range(len(x)):\n",
    "        covariance += (x[i]-mean_x)*(y[i]-mean_y)\n",
    "    denom = (len(x)-1)*std_x*std_y\n",
    "    corr = covariance/denom\n",
    "    \n",
    "    assert np.isclose(corr, np.corrcoef(x, y)[0,1]), \\\n",
    "        \"👀 Please double check your implementation's result as it does not match NumPy's.\"\n",
    "    \n",
    "    return corr\n",
    "\n",
    "correlation(happiness.Score, happiness.Generosity)"
   ]
  },
  {
   "cell_type": "markdown",
   "metadata": {},
   "source": [
    "Let's try using your implementation to compute some correlation coefficients.\n",
    "\n",
    "**Try this!** In the cell below, compute the correlation coefficient values between `Score` and every other feature, pairwise, and store them in `corrs`. _**Hint**: Use `numerical` from [Problem 3.1](#Problem-3.1) and the `.columns` property of DataFrames to get the names of the columns that you need._"
   ]
  },
  {
   "cell_type": "code",
   "execution_count": 13,
   "metadata": {},
   "outputs": [
    {
     "ename": "ValueError",
     "evalue": "operands could not be broadcast together with shapes (6,) (7,) ",
     "output_type": "error",
     "traceback": [
      "\u001b[0;31m---------------------------------------------------------------------------\u001b[0m",
      "\u001b[0;31mValueError\u001b[0m                                Traceback (most recent call last)",
      "\u001b[0;32m<ipython-input-13-b86fa69fcaca>\u001b[0m in \u001b[0;36m<module>\u001b[0;34m\u001b[0m\n\u001b[1;32m      7\u001b[0m \u001b[0;34m\u001b[0m\u001b[0m\n\u001b[1;32m      8\u001b[0m \u001b[0;31m# comparing your implementation to Pandas\u001b[0m\u001b[0;34m\u001b[0m\u001b[0;34m\u001b[0m\u001b[0;34m\u001b[0m\u001b[0m\n\u001b[0;32m----> 9\u001b[0;31m \u001b[0;32massert\u001b[0m \u001b[0mnp\u001b[0m\u001b[0;34m.\u001b[0m\u001b[0misclose\u001b[0m\u001b[0;34m(\u001b[0m\u001b[0mcorrs\u001b[0m\u001b[0;34m,\u001b[0m \u001b[0mhappiness\u001b[0m\u001b[0;34m.\u001b[0m\u001b[0mcorr\u001b[0m\u001b[0;34m(\u001b[0m\u001b[0;34m)\u001b[0m\u001b[0;34m.\u001b[0m\u001b[0miloc\u001b[0m\u001b[0;34m[\u001b[0m\u001b[0;36m0\u001b[0m\u001b[0;34m,\u001b[0m \u001b[0;34m:\u001b[0m\u001b[0;34m]\u001b[0m\u001b[0;34m)\u001b[0m\u001b[0;34m.\u001b[0m\u001b[0mall\u001b[0m\u001b[0;34m(\u001b[0m\u001b[0;34m)\u001b[0m\u001b[0;34m,\u001b[0m\u001b[0;31m \u001b[0m\u001b[0;31m\\\u001b[0m\u001b[0;34m\u001b[0m\u001b[0;34m\u001b[0m\u001b[0m\n\u001b[0m\u001b[1;32m     10\u001b[0m     \u001b[0;34m'👀 There seems to be an issue with your implementation. Please double check.'\u001b[0m\u001b[0;34m\u001b[0m\u001b[0;34m\u001b[0m\u001b[0m\n\u001b[1;32m     11\u001b[0m \u001b[0;34m\u001b[0m\u001b[0m\n",
      "\u001b[0;32m<__array_function__ internals>\u001b[0m in \u001b[0;36misclose\u001b[0;34m(*args, **kwargs)\u001b[0m\n",
      "\u001b[0;32m~/.local/lib/python3.6/site-packages/numpy/core/numeric.py\u001b[0m in \u001b[0;36misclose\u001b[0;34m(a, b, rtol, atol, equal_nan)\u001b[0m\n\u001b[1;32m   2258\u001b[0m     \u001b[0myfin\u001b[0m \u001b[0;34m=\u001b[0m \u001b[0misfinite\u001b[0m\u001b[0;34m(\u001b[0m\u001b[0my\u001b[0m\u001b[0;34m)\u001b[0m\u001b[0;34m\u001b[0m\u001b[0;34m\u001b[0m\u001b[0m\n\u001b[1;32m   2259\u001b[0m     \u001b[0;32mif\u001b[0m \u001b[0mall\u001b[0m\u001b[0;34m(\u001b[0m\u001b[0mxfin\u001b[0m\u001b[0;34m)\u001b[0m \u001b[0;32mand\u001b[0m \u001b[0mall\u001b[0m\u001b[0;34m(\u001b[0m\u001b[0myfin\u001b[0m\u001b[0;34m)\u001b[0m\u001b[0;34m:\u001b[0m\u001b[0;34m\u001b[0m\u001b[0;34m\u001b[0m\u001b[0m\n\u001b[0;32m-> 2260\u001b[0;31m         \u001b[0;32mreturn\u001b[0m \u001b[0mwithin_tol\u001b[0m\u001b[0;34m(\u001b[0m\u001b[0mx\u001b[0m\u001b[0;34m,\u001b[0m \u001b[0my\u001b[0m\u001b[0;34m,\u001b[0m \u001b[0matol\u001b[0m\u001b[0;34m,\u001b[0m \u001b[0mrtol\u001b[0m\u001b[0;34m)\u001b[0m\u001b[0;34m\u001b[0m\u001b[0;34m\u001b[0m\u001b[0m\n\u001b[0m\u001b[1;32m   2261\u001b[0m     \u001b[0;32melse\u001b[0m\u001b[0;34m:\u001b[0m\u001b[0;34m\u001b[0m\u001b[0;34m\u001b[0m\u001b[0m\n\u001b[1;32m   2262\u001b[0m         \u001b[0mfinite\u001b[0m \u001b[0;34m=\u001b[0m \u001b[0mxfin\u001b[0m \u001b[0;34m&\u001b[0m \u001b[0myfin\u001b[0m\u001b[0;34m\u001b[0m\u001b[0;34m\u001b[0m\u001b[0m\n",
      "\u001b[0;32m~/.local/lib/python3.6/site-packages/numpy/core/numeric.py\u001b[0m in \u001b[0;36mwithin_tol\u001b[0;34m(x, y, atol, rtol)\u001b[0m\n\u001b[1;32m   2244\u001b[0m     \u001b[0;32mdef\u001b[0m \u001b[0mwithin_tol\u001b[0m\u001b[0;34m(\u001b[0m\u001b[0mx\u001b[0m\u001b[0;34m,\u001b[0m \u001b[0my\u001b[0m\u001b[0;34m,\u001b[0m \u001b[0matol\u001b[0m\u001b[0;34m,\u001b[0m \u001b[0mrtol\u001b[0m\u001b[0;34m)\u001b[0m\u001b[0;34m:\u001b[0m\u001b[0;34m\u001b[0m\u001b[0;34m\u001b[0m\u001b[0m\n\u001b[1;32m   2245\u001b[0m         \u001b[0;32mwith\u001b[0m \u001b[0merrstate\u001b[0m\u001b[0;34m(\u001b[0m\u001b[0minvalid\u001b[0m\u001b[0;34m=\u001b[0m\u001b[0;34m'ignore'\u001b[0m\u001b[0;34m)\u001b[0m\u001b[0;34m:\u001b[0m\u001b[0;34m\u001b[0m\u001b[0;34m\u001b[0m\u001b[0m\n\u001b[0;32m-> 2246\u001b[0;31m             \u001b[0;32mreturn\u001b[0m \u001b[0mless_equal\u001b[0m\u001b[0;34m(\u001b[0m\u001b[0mabs\u001b[0m\u001b[0;34m(\u001b[0m\u001b[0mx\u001b[0m\u001b[0;34m-\u001b[0m\u001b[0my\u001b[0m\u001b[0;34m)\u001b[0m\u001b[0;34m,\u001b[0m \u001b[0matol\u001b[0m \u001b[0;34m+\u001b[0m \u001b[0mrtol\u001b[0m \u001b[0;34m*\u001b[0m \u001b[0mabs\u001b[0m\u001b[0;34m(\u001b[0m\u001b[0my\u001b[0m\u001b[0;34m)\u001b[0m\u001b[0;34m)\u001b[0m\u001b[0;34m\u001b[0m\u001b[0;34m\u001b[0m\u001b[0m\n\u001b[0m\u001b[1;32m   2247\u001b[0m \u001b[0;34m\u001b[0m\u001b[0m\n\u001b[1;32m   2248\u001b[0m     \u001b[0mx\u001b[0m \u001b[0;34m=\u001b[0m \u001b[0masanyarray\u001b[0m\u001b[0;34m(\u001b[0m\u001b[0ma\u001b[0m\u001b[0;34m)\u001b[0m\u001b[0;34m\u001b[0m\u001b[0;34m\u001b[0m\u001b[0m\n",
      "\u001b[0;31mValueError\u001b[0m: operands could not be broadcast together with shapes (6,) (7,) "
     ]
    }
   ],
   "source": [
    "# your code here\n",
    "corrs = np.array([])\n",
    "for i in numerical.columns:\n",
    "    if i != \"Score\":\n",
    "        cor = correlation(happiness[\"Score\"], happiness[i])\n",
    "        corrs = np.append(corrs, cor)\n",
    "\n",
    "# comparing your implementation to Pandas\n",
    "assert np.isclose(corrs, happiness.corr().iloc[0, :]).all(), \\\n",
    "    '👀 There seems to be an issue with your implementation. Please double check.'\n",
    "\n",
    "corrs"
   ]
  },
  {
   "cell_type": "markdown",
   "metadata": {},
   "source": [
    "Let's visualize these correlation values. To do this, we will use [Seaborn's](https://seaborn.pydata.org) `heatmap` function."
   ]
  },
  {
   "cell_type": "code",
   "execution_count": null,
   "metadata": {},
   "outputs": [],
   "source": [
    "import seaborn as sns\n",
    "\n",
    "plt.figure(figsize=(1, 6))\n",
    "sns.heatmap(corrs[:,None], cmap=sns.cm.vlag, vmin=-1)\n",
    "plt.xticks([0.5], ['Score'], rotation=0)\n",
    "plt.yticks(np.arange(corrs.shape[0]) + 0.5, happiness.loc[:,numerical].columns, rotation=0)\n",
    "plt.title('Correlation: Score vs Rest')"
   ]
  },
  {
   "cell_type": "markdown",
   "metadata": {},
   "source": [
    "🤔"
   ]
  },
  {
   "cell_type": "markdown",
   "metadata": {},
   "source": [
    "As you may have seen in the assertion at the end of an earlier cell, we can get the _Correlation Matrix_ of pairwise correlation values by using the `.corr` method on DataFrames."
   ]
  },
  {
   "cell_type": "code",
   "execution_count": null,
   "metadata": {},
   "outputs": [],
   "source": [
    "happiness.corr()"
   ]
  },
  {
   "cell_type": "code",
   "execution_count": null,
   "metadata": {},
   "outputs": [],
   "source": [
    "sns.heatmap(happiness.corr(), cmap=sns.cm.vlag, vmin=-1)\n",
    "plt.xticks(rotation=45)\n",
    "plt.title('Happiness: Correlation Matrix')"
   ]
  }
 ],
 "metadata": {
  "kernelspec": {
   "display_name": "Python 3",
   "language": "python",
   "name": "python3"
  },
  "language_info": {
   "codemirror_mode": {
    "name": "ipython",
    "version": 3
   },
   "file_extension": ".py",
   "mimetype": "text/x-python",
   "name": "python",
   "nbconvert_exporter": "python",
   "pygments_lexer": "ipython3",
   "version": "3.6.9"
  }
 },
 "nbformat": 4,
 "nbformat_minor": 4
}
