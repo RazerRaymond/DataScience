{
 "cells": [
  {
   "cell_type": "markdown",
   "metadata": {},
   "source": [
    "# Homework 6: Exploring Study Reflection Responses 🗞"
   ]
  },
  {
   "cell_type": "markdown",
   "metadata": {},
   "source": [
    "Name: Steve Li\n",
    "\n",
    "Student ID: 464163\n",
    "\n",
    "Collaborators:\n"
   ]
  },
  {
   "cell_type": "markdown",
   "metadata": {},
   "source": [
    "## Instructions\n",
    "\n",
    "In this homework, we will be reviewing the exploratory data analysis (EDA) process. It might be helpful to review **Lab 2 (Analyzing the MoMA Data)** first. Most of the things we ask you to do in this homework are explained in the lab. In general, you should feel free to import any package that we have previously used in class. Ensure that all plots have the necessary components that a plot should have (e.g. axes labels, a title, a legend).\n",
    "\n",
    "Additionally, note that this homework will have a slightly different structure than in the past. One of the reasons why Jupyter Notebooks are so popular in the field is because you can really treat them like notebooks to explain your findings as you discover them. In this assignment, we provide some **Problem** stubs following the EDA process and you will need to fill in the analysis and structure as you go.\n",
    "\n",
    "Furthermore, in addition to recording your collaborators on this homework, please also remember to cite/indicate all external sources used when finishing this assignment. This includes peers, TAs, and links to online sources. Note that these citations will not free you from your obligation to submit your _own_ code and write-ups, however, they will be taken into account during the grading and regrading process.\n",
    "\n",
    "### Submission instructions\n",
    "* Submit this python notebook including your answers in the code cells as homework submission.\n",
    "* **Feel free to add as many cells as you need to** — just make sure you don't change what we gave you. \n",
    "* **Does it spark joy?** Note that you will be partially graded on the presentation (_cleanliness, clarity, comments_) of your notebook so make sure you [Marie Kondo](https://lifehacker.com/marie-kondo-is-not-a-verb-1833373654) your notebook before submitting it."
   ]
  },
  {
   "cell_type": "markdown",
   "metadata": {},
   "source": [
    "## 1. Introduction\n",
    "\n",
    "For our EDA this week, we'll take a look at _anonymized_ exam study reflection responses. You will find a blank copy of the reflection survey in `utility/data` along with a CSV containing the data and a README.txt file that explains what each value represents. Our goal will be to use this dataset to gain some insight about how students study and _perhaps_ find some patterns in this data."
   ]
  },
  {
   "cell_type": "markdown",
   "metadata": {},
   "source": [
    "In general, we will be following the EDA process:\n",
    "1. Get the data and gain **basic understanding**\n",
    "2. **Wrangle** the data\n",
    "3. **Profile** the data\n",
    "4. Develop questions to investigate (form a **hypotheses**)\n",
    "5. Use the data to **investigate** hypothesis\n",
    "6. **Summarize** results and answer questions "
   ]
  },
  {
   "cell_type": "markdown",
   "metadata": {},
   "source": [
    "## 2. Getting Familiar with the Data\n",
    "\n",
    "In this section, we will get a feel for our data and tidy it up so that we can analyize it later."
   ]
  },
  {
   "cell_type": "markdown",
   "metadata": {},
   "source": [
    "### Problem 1\n",
    "\n",
    "Let's take a look at the files in `utility/data` and think about what we can and will need to do with it.\n",
    "\n",
    "**Write-up!** Describe the data in `MidtermStudyReflection.csv`, answering questions including, but not limited to, these: How many examples and features does the dataset have? What kinds of features are in the dataset? What values can these features take?\n",
    "> `Hint` Consider the steps of EDA; what would you like to know about this dataset. "
   ]
  },
  {
   "cell_type": "markdown",
   "metadata": {},
   "source": [
    "#### Imports and Environment Setup\n",
    "The following blocks of code sets up the lab environment."
   ]
  },
  {
   "cell_type": "code",
   "execution_count": 34,
   "metadata": {
    "ExecuteTime": {
     "end_time": "2018-09-26T06:03:23.184314Z",
     "start_time": "2018-09-26T06:03:20.924416Z"
    }
   },
   "outputs": [],
   "source": [
    "# basic wrangling\n",
    "import pandas as pd\n",
    "\n",
    "# plotting\n",
    "from matplotlib import pyplot as plt"
   ]
  },
  {
   "cell_type": "markdown",
   "metadata": {},
   "source": [
    "#### Load Raw Data\n",
    "\n",
    "Load the data into **midterm_reflection**."
   ]
  },
  {
   "cell_type": "code",
   "execution_count": 35,
   "metadata": {},
   "outputs": [
    {
     "data": {
      "text/plain": [
       "(89, 20)"
      ]
     },
     "execution_count": 35,
     "metadata": {},
     "output_type": "execute_result"
    }
   ],
   "source": [
    "# load data\n",
    "midterm_reflection = pd.read_csv(\"./utility/data/MidtermStudyReflection.csv\")\n",
    "\n",
    "# get the shape of the data\n",
    "midterm_reflection.shape"
   ]
  },
  {
   "cell_type": "code",
   "execution_count": 36,
   "metadata": {},
   "outputs": [
    {
     "data": {
      "text/html": [
       "<div>\n",
       "<style scoped>\n",
       "    .dataframe tbody tr th:only-of-type {\n",
       "        vertical-align: middle;\n",
       "    }\n",
       "\n",
       "    .dataframe tbody tr th {\n",
       "        vertical-align: top;\n",
       "    }\n",
       "\n",
       "    .dataframe thead th {\n",
       "        text-align: right;\n",
       "    }\n",
       "</style>\n",
       "<table border=\"1\" class=\"dataframe\">\n",
       "  <thead>\n",
       "    <tr style=\"text-align: right;\">\n",
       "      <th></th>\n",
       "      <th>Midterm Score</th>\n",
       "      <th>How much did you rely on the following studying methods to prepare for this exam? 1 indicates \"Not at all\" and 5 indicates \"Very heavily.\" [Reviewing slides]</th>\n",
       "      <th>How much did you rely on the following studying methods to prepare for this exam? 1 indicates \"Not at all\" and 5 indicates \"Very heavily.\" [Attending lecture]</th>\n",
       "      <th>How much did you rely on the following studying methods to prepare for this exam? 1 indicates \"Not at all\" and 5 indicates \"Very heavily.\" [Taking lecture notes]</th>\n",
       "      <th>How much did you rely on the following studying methods to prepare for this exam? 1 indicates \"Not at all\" and 5 indicates \"Very heavily.\" [Reviewing lecture notes]</th>\n",
       "      <th>How much did you rely on the following studying methods to prepare for this exam? 1 indicates \"Not at all\" and 5 indicates \"Very heavily.\" [Completing assigned readings]</th>\n",
       "      <th>How much did you rely on the following studying methods to prepare for this exam? 1 indicates \"Not at all\" and 5 indicates \"Very heavily.\" [Attending a study group]</th>\n",
       "      <th>How much did you rely on the following studying methods to prepare for this exam? 1 indicates \"Not at all\" and 5 indicates \"Very heavily.\" [Talking with a professor / TA]</th>\n",
       "      <th>How much did you rely on the following studying methods to prepare for this exam? 1 indicates \"Not at all\" and 5 indicates \"Very heavily.\" [Reviewing homeworks]</th>\n",
       "      <th>How much did you rely on the following studying methods to prepare for this exam? 1 indicates \"Not at all\" and 5 indicates \"Very heavily.\" [Reviewing labs]</th>\n",
       "      <th>Who did you study with? (1 indicates \"Not at all\" and 5 indicates \"Very heavily.\") [One other student from class]</th>\n",
       "      <th>How much did you rely on the following studying methods to prepare for this exam? 1 indicates \"Not at all\" and 5 indicates \"Very heavily.\" [Reviewing past quizzes]</th>\n",
       "      <th>How much did you rely on the following studying methods to prepare for this exam? 1 indicates \"Not at all\" and 5 indicates \"Very heavily.\" [Completing worksheet problems]</th>\n",
       "      <th>Who did you study with? (1 indicates \"Not at all\" and 5 indicates \"Very heavily.\") [Study group with other students/friends]</th>\n",
       "      <th>Who did you study with? (1 indicates \"Not at all\" and 5 indicates \"Very heavily.\") [Alone]</th>\n",
       "      <th>How many hours in total did you study for this exam? (Answer using numerals, e.g. \"5\" and not \"five\")</th>\n",
       "      <th>Who did you study with? (1 indicates \"Not at all\" and 5 indicates \"Very heavily.\") [Tutor / friend not in this class]</th>\n",
       "      <th>What was the hardest concept to grasp?</th>\n",
       "      <th>How many days before the exam did you start studying? (Answer using numerals, e.g. \"5\" and not \"five\")</th>\n",
       "      <th>Why was it hard? (Please note this question is optional)</th>\n",
       "    </tr>\n",
       "  </thead>\n",
       "  <tbody>\n",
       "    <tr>\n",
       "      <th>0</th>\n",
       "      <td>59.5</td>\n",
       "      <td>2</td>\n",
       "      <td>5</td>\n",
       "      <td>3</td>\n",
       "      <td>2</td>\n",
       "      <td>1</td>\n",
       "      <td>1</td>\n",
       "      <td>1</td>\n",
       "      <td>2</td>\n",
       "      <td>4</td>\n",
       "      <td>3</td>\n",
       "      <td>1</td>\n",
       "      <td>5</td>\n",
       "      <td>1</td>\n",
       "      <td>5</td>\n",
       "      <td>2.0</td>\n",
       "      <td>1</td>\n",
       "      <td>Logistic Regression</td>\n",
       "      <td>5</td>\n",
       "      <td>simply don't remember</td>\n",
       "    </tr>\n",
       "    <tr>\n",
       "      <th>1</th>\n",
       "      <td>81.0</td>\n",
       "      <td>1</td>\n",
       "      <td>1</td>\n",
       "      <td>1</td>\n",
       "      <td>1</td>\n",
       "      <td>1</td>\n",
       "      <td>1</td>\n",
       "      <td>1</td>\n",
       "      <td>1</td>\n",
       "      <td>1</td>\n",
       "      <td>1</td>\n",
       "      <td>1</td>\n",
       "      <td>1</td>\n",
       "      <td>1</td>\n",
       "      <td>5</td>\n",
       "      <td>0.0</td>\n",
       "      <td>1</td>\n",
       "      <td>Logistic Regression</td>\n",
       "      <td>0</td>\n",
       "      <td>NaN</td>\n",
       "    </tr>\n",
       "    <tr>\n",
       "      <th>2</th>\n",
       "      <td>72.5</td>\n",
       "      <td>5</td>\n",
       "      <td>2</td>\n",
       "      <td>1</td>\n",
       "      <td>2</td>\n",
       "      <td>1</td>\n",
       "      <td>3</td>\n",
       "      <td>2</td>\n",
       "      <td>3</td>\n",
       "      <td>4</td>\n",
       "      <td>2</td>\n",
       "      <td>4</td>\n",
       "      <td>1</td>\n",
       "      <td>3</td>\n",
       "      <td>4</td>\n",
       "      <td>6.0</td>\n",
       "      <td>1</td>\n",
       "      <td>Logistic Regression</td>\n",
       "      <td>1</td>\n",
       "      <td>Wasn't explained clearly</td>\n",
       "    </tr>\n",
       "    <tr>\n",
       "      <th>3</th>\n",
       "      <td>74.5</td>\n",
       "      <td>4</td>\n",
       "      <td>4</td>\n",
       "      <td>4</td>\n",
       "      <td>4</td>\n",
       "      <td>1</td>\n",
       "      <td>1</td>\n",
       "      <td>1</td>\n",
       "      <td>3</td>\n",
       "      <td>3</td>\n",
       "      <td>4</td>\n",
       "      <td>1</td>\n",
       "      <td>3</td>\n",
       "      <td>1</td>\n",
       "      <td>4</td>\n",
       "      <td>5.0</td>\n",
       "      <td>1</td>\n",
       "      <td>Logistic Regression</td>\n",
       "      <td>1</td>\n",
       "      <td>Wasn't explained clearly</td>\n",
       "    </tr>\n",
       "    <tr>\n",
       "      <th>4</th>\n",
       "      <td>67.5</td>\n",
       "      <td>3</td>\n",
       "      <td>5</td>\n",
       "      <td>1</td>\n",
       "      <td>1</td>\n",
       "      <td>1</td>\n",
       "      <td>1</td>\n",
       "      <td>3</td>\n",
       "      <td>4</td>\n",
       "      <td>3</td>\n",
       "      <td>1</td>\n",
       "      <td>2</td>\n",
       "      <td>4</td>\n",
       "      <td>1</td>\n",
       "      <td>5</td>\n",
       "      <td>5.0</td>\n",
       "      <td>1</td>\n",
       "      <td>Logistic Regression</td>\n",
       "      <td>4</td>\n",
       "      <td>Math was hard, don't have much math background</td>\n",
       "    </tr>\n",
       "    <tr>\n",
       "      <th>5</th>\n",
       "      <td>76.5</td>\n",
       "      <td>5</td>\n",
       "      <td>2</td>\n",
       "      <td>2</td>\n",
       "      <td>1</td>\n",
       "      <td>1</td>\n",
       "      <td>1</td>\n",
       "      <td>3</td>\n",
       "      <td>5</td>\n",
       "      <td>5</td>\n",
       "      <td>1</td>\n",
       "      <td>1</td>\n",
       "      <td>5</td>\n",
       "      <td>1</td>\n",
       "      <td>5</td>\n",
       "      <td>5.0</td>\n",
       "      <td>1</td>\n",
       "      <td>Logistic Regression</td>\n",
       "      <td>1</td>\n",
       "      <td>Have unanswered questions still lingering</td>\n",
       "    </tr>\n",
       "    <tr>\n",
       "      <th>6</th>\n",
       "      <td>78.5</td>\n",
       "      <td>4</td>\n",
       "      <td>5</td>\n",
       "      <td>1</td>\n",
       "      <td>1</td>\n",
       "      <td>1</td>\n",
       "      <td>1</td>\n",
       "      <td>5</td>\n",
       "      <td>5</td>\n",
       "      <td>5</td>\n",
       "      <td>1</td>\n",
       "      <td>1</td>\n",
       "      <td>5</td>\n",
       "      <td>2</td>\n",
       "      <td>4</td>\n",
       "      <td>5.0</td>\n",
       "      <td>1</td>\n",
       "      <td>Logistic Regression</td>\n",
       "      <td>1</td>\n",
       "      <td>Wasn't explained clearly</td>\n",
       "    </tr>\n",
       "    <tr>\n",
       "      <th>7</th>\n",
       "      <td>85.0</td>\n",
       "      <td>5</td>\n",
       "      <td>2</td>\n",
       "      <td>2</td>\n",
       "      <td>3</td>\n",
       "      <td>1</td>\n",
       "      <td>1</td>\n",
       "      <td>3</td>\n",
       "      <td>2</td>\n",
       "      <td>2</td>\n",
       "      <td>2</td>\n",
       "      <td>4</td>\n",
       "      <td>5</td>\n",
       "      <td>2</td>\n",
       "      <td>5</td>\n",
       "      <td>3.0</td>\n",
       "      <td>2</td>\n",
       "      <td>Exploratory Data Analysis</td>\n",
       "      <td>2</td>\n",
       "      <td>Subjective</td>\n",
       "    </tr>\n",
       "    <tr>\n",
       "      <th>8</th>\n",
       "      <td>92.0</td>\n",
       "      <td>5</td>\n",
       "      <td>5</td>\n",
       "      <td>2</td>\n",
       "      <td>2</td>\n",
       "      <td>1</td>\n",
       "      <td>1</td>\n",
       "      <td>1</td>\n",
       "      <td>5</td>\n",
       "      <td>4</td>\n",
       "      <td>1</td>\n",
       "      <td>1</td>\n",
       "      <td>4</td>\n",
       "      <td>1</td>\n",
       "      <td>5</td>\n",
       "      <td>4.0</td>\n",
       "      <td>1</td>\n",
       "      <td>Exploratory Data Analysis</td>\n",
       "      <td>3</td>\n",
       "      <td>NaN</td>\n",
       "    </tr>\n",
       "    <tr>\n",
       "      <th>9</th>\n",
       "      <td>90.0</td>\n",
       "      <td>3</td>\n",
       "      <td>3</td>\n",
       "      <td>4</td>\n",
       "      <td>5</td>\n",
       "      <td>2</td>\n",
       "      <td>1</td>\n",
       "      <td>1</td>\n",
       "      <td>4</td>\n",
       "      <td>4</td>\n",
       "      <td>3</td>\n",
       "      <td>1</td>\n",
       "      <td>5</td>\n",
       "      <td>3</td>\n",
       "      <td>5</td>\n",
       "      <td>8.0</td>\n",
       "      <td>1</td>\n",
       "      <td>Learning Principles</td>\n",
       "      <td>5</td>\n",
       "      <td>NaN</td>\n",
       "    </tr>\n",
       "  </tbody>\n",
       "</table>\n",
       "</div>"
      ],
      "text/plain": [
       "   Midterm Score  \\\n",
       "0           59.5   \n",
       "1           81.0   \n",
       "2           72.5   \n",
       "3           74.5   \n",
       "4           67.5   \n",
       "5           76.5   \n",
       "6           78.5   \n",
       "7           85.0   \n",
       "8           92.0   \n",
       "9           90.0   \n",
       "\n",
       "   How much did you rely on the following studying methods to prepare for this exam? 1 indicates \"Not at all\" and 5 indicates \"Very heavily.\" [Reviewing slides]  \\\n",
       "0                                                  2                                                                                                               \n",
       "1                                                  1                                                                                                               \n",
       "2                                                  5                                                                                                               \n",
       "3                                                  4                                                                                                               \n",
       "4                                                  3                                                                                                               \n",
       "5                                                  5                                                                                                               \n",
       "6                                                  4                                                                                                               \n",
       "7                                                  5                                                                                                               \n",
       "8                                                  5                                                                                                               \n",
       "9                                                  3                                                                                                               \n",
       "\n",
       "   How much did you rely on the following studying methods to prepare for this exam? 1 indicates \"Not at all\" and 5 indicates \"Very heavily.\" [Attending lecture]  \\\n",
       "0                                                  5                                                                                                                \n",
       "1                                                  1                                                                                                                \n",
       "2                                                  2                                                                                                                \n",
       "3                                                  4                                                                                                                \n",
       "4                                                  5                                                                                                                \n",
       "5                                                  2                                                                                                                \n",
       "6                                                  5                                                                                                                \n",
       "7                                                  2                                                                                                                \n",
       "8                                                  5                                                                                                                \n",
       "9                                                  3                                                                                                                \n",
       "\n",
       "   How much did you rely on the following studying methods to prepare for this exam? 1 indicates \"Not at all\" and 5 indicates \"Very heavily.\" [Taking lecture notes]  \\\n",
       "0                                                  3                                                                                                                   \n",
       "1                                                  1                                                                                                                   \n",
       "2                                                  1                                                                                                                   \n",
       "3                                                  4                                                                                                                   \n",
       "4                                                  1                                                                                                                   \n",
       "5                                                  2                                                                                                                   \n",
       "6                                                  1                                                                                                                   \n",
       "7                                                  2                                                                                                                   \n",
       "8                                                  2                                                                                                                   \n",
       "9                                                  4                                                                                                                   \n",
       "\n",
       "   How much did you rely on the following studying methods to prepare for this exam? 1 indicates \"Not at all\" and 5 indicates \"Very heavily.\" [Reviewing lecture notes]  \\\n",
       "0                                                  2                                                                                                                      \n",
       "1                                                  1                                                                                                                      \n",
       "2                                                  2                                                                                                                      \n",
       "3                                                  4                                                                                                                      \n",
       "4                                                  1                                                                                                                      \n",
       "5                                                  1                                                                                                                      \n",
       "6                                                  1                                                                                                                      \n",
       "7                                                  3                                                                                                                      \n",
       "8                                                  2                                                                                                                      \n",
       "9                                                  5                                                                                                                      \n",
       "\n",
       "   How much did you rely on the following studying methods to prepare for this exam? 1 indicates \"Not at all\" and 5 indicates \"Very heavily.\" [Completing assigned readings]  \\\n",
       "0                                                  1                                                                                                                           \n",
       "1                                                  1                                                                                                                           \n",
       "2                                                  1                                                                                                                           \n",
       "3                                                  1                                                                                                                           \n",
       "4                                                  1                                                                                                                           \n",
       "5                                                  1                                                                                                                           \n",
       "6                                                  1                                                                                                                           \n",
       "7                                                  1                                                                                                                           \n",
       "8                                                  1                                                                                                                           \n",
       "9                                                  2                                                                                                                           \n",
       "\n",
       "   How much did you rely on the following studying methods to prepare for this exam? 1 indicates \"Not at all\" and 5 indicates \"Very heavily.\" [Attending a study group]  \\\n",
       "0                                                  1                                                                                                                      \n",
       "1                                                  1                                                                                                                      \n",
       "2                                                  3                                                                                                                      \n",
       "3                                                  1                                                                                                                      \n",
       "4                                                  1                                                                                                                      \n",
       "5                                                  1                                                                                                                      \n",
       "6                                                  1                                                                                                                      \n",
       "7                                                  1                                                                                                                      \n",
       "8                                                  1                                                                                                                      \n",
       "9                                                  1                                                                                                                      \n",
       "\n",
       "   How much did you rely on the following studying methods to prepare for this exam? 1 indicates \"Not at all\" and 5 indicates \"Very heavily.\" [Talking with a professor / TA]  \\\n",
       "0                                                  1                                                                                                                            \n",
       "1                                                  1                                                                                                                            \n",
       "2                                                  2                                                                                                                            \n",
       "3                                                  1                                                                                                                            \n",
       "4                                                  3                                                                                                                            \n",
       "5                                                  3                                                                                                                            \n",
       "6                                                  5                                                                                                                            \n",
       "7                                                  3                                                                                                                            \n",
       "8                                                  1                                                                                                                            \n",
       "9                                                  1                                                                                                                            \n",
       "\n",
       "   How much did you rely on the following studying methods to prepare for this exam? 1 indicates \"Not at all\" and 5 indicates \"Very heavily.\" [Reviewing homeworks]  \\\n",
       "0                                                  2                                                                                                                  \n",
       "1                                                  1                                                                                                                  \n",
       "2                                                  3                                                                                                                  \n",
       "3                                                  3                                                                                                                  \n",
       "4                                                  4                                                                                                                  \n",
       "5                                                  5                                                                                                                  \n",
       "6                                                  5                                                                                                                  \n",
       "7                                                  2                                                                                                                  \n",
       "8                                                  5                                                                                                                  \n",
       "9                                                  4                                                                                                                  \n",
       "\n",
       "   How much did you rely on the following studying methods to prepare for this exam? 1 indicates \"Not at all\" and 5 indicates \"Very heavily.\" [Reviewing labs]  \\\n",
       "0                                                  4                                                                                                             \n",
       "1                                                  1                                                                                                             \n",
       "2                                                  4                                                                                                             \n",
       "3                                                  3                                                                                                             \n",
       "4                                                  3                                                                                                             \n",
       "5                                                  5                                                                                                             \n",
       "6                                                  5                                                                                                             \n",
       "7                                                  2                                                                                                             \n",
       "8                                                  4                                                                                                             \n",
       "9                                                  4                                                                                                             \n",
       "\n",
       "   Who did you study with? (1 indicates \"Not at all\" and 5 indicates \"Very heavily.\") [One other student from class]  \\\n",
       "0                                                  3                                                                   \n",
       "1                                                  1                                                                   \n",
       "2                                                  2                                                                   \n",
       "3                                                  4                                                                   \n",
       "4                                                  1                                                                   \n",
       "5                                                  1                                                                   \n",
       "6                                                  1                                                                   \n",
       "7                                                  2                                                                   \n",
       "8                                                  1                                                                   \n",
       "9                                                  3                                                                   \n",
       "\n",
       "   How much did you rely on the following studying methods to prepare for this exam? 1 indicates \"Not at all\" and 5 indicates \"Very heavily.\" [Reviewing past quizzes]  \\\n",
       "0                                                  1                                                                                                                     \n",
       "1                                                  1                                                                                                                     \n",
       "2                                                  4                                                                                                                     \n",
       "3                                                  1                                                                                                                     \n",
       "4                                                  2                                                                                                                     \n",
       "5                                                  1                                                                                                                     \n",
       "6                                                  1                                                                                                                     \n",
       "7                                                  4                                                                                                                     \n",
       "8                                                  1                                                                                                                     \n",
       "9                                                  1                                                                                                                     \n",
       "\n",
       "   How much did you rely on the following studying methods to prepare for this exam? 1 indicates \"Not at all\" and 5 indicates \"Very heavily.\" [Completing worksheet problems]  \\\n",
       "0                                                  5                                                                                                                            \n",
       "1                                                  1                                                                                                                            \n",
       "2                                                  1                                                                                                                            \n",
       "3                                                  3                                                                                                                            \n",
       "4                                                  4                                                                                                                            \n",
       "5                                                  5                                                                                                                            \n",
       "6                                                  5                                                                                                                            \n",
       "7                                                  5                                                                                                                            \n",
       "8                                                  4                                                                                                                            \n",
       "9                                                  5                                                                                                                            \n",
       "\n",
       "   Who did you study with? (1 indicates \"Not at all\" and 5 indicates \"Very heavily.\") [Study group with other students/friends]  \\\n",
       "0                                                  1                                                                              \n",
       "1                                                  1                                                                              \n",
       "2                                                  3                                                                              \n",
       "3                                                  1                                                                              \n",
       "4                                                  1                                                                              \n",
       "5                                                  1                                                                              \n",
       "6                                                  2                                                                              \n",
       "7                                                  2                                                                              \n",
       "8                                                  1                                                                              \n",
       "9                                                  3                                                                              \n",
       "\n",
       "   Who did you study with? (1 indicates \"Not at all\" and 5 indicates \"Very heavily.\") [Alone]  \\\n",
       "0                                                  5                                            \n",
       "1                                                  5                                            \n",
       "2                                                  4                                            \n",
       "3                                                  4                                            \n",
       "4                                                  5                                            \n",
       "5                                                  5                                            \n",
       "6                                                  4                                            \n",
       "7                                                  5                                            \n",
       "8                                                  5                                            \n",
       "9                                                  5                                            \n",
       "\n",
       "   How many hours in total did you study for this exam? (Answer using numerals, e.g. \"5\" and not \"five\")  \\\n",
       "0                                                2.0                                                       \n",
       "1                                                0.0                                                       \n",
       "2                                                6.0                                                       \n",
       "3                                                5.0                                                       \n",
       "4                                                5.0                                                       \n",
       "5                                                5.0                                                       \n",
       "6                                                5.0                                                       \n",
       "7                                                3.0                                                       \n",
       "8                                                4.0                                                       \n",
       "9                                                8.0                                                       \n",
       "\n",
       "   Who did you study with? (1 indicates \"Not at all\" and 5 indicates \"Very heavily.\") [Tutor / friend not in this class]  \\\n",
       "0                                                  1                                                                       \n",
       "1                                                  1                                                                       \n",
       "2                                                  1                                                                       \n",
       "3                                                  1                                                                       \n",
       "4                                                  1                                                                       \n",
       "5                                                  1                                                                       \n",
       "6                                                  1                                                                       \n",
       "7                                                  2                                                                       \n",
       "8                                                  1                                                                       \n",
       "9                                                  1                                                                       \n",
       "\n",
       "  What was the hardest concept to grasp?  \\\n",
       "0                    Logistic Regression   \n",
       "1                    Logistic Regression   \n",
       "2                    Logistic Regression   \n",
       "3                    Logistic Regression   \n",
       "4                    Logistic Regression   \n",
       "5                    Logistic Regression   \n",
       "6                    Logistic Regression   \n",
       "7              Exploratory Data Analysis   \n",
       "8              Exploratory Data Analysis   \n",
       "9                    Learning Principles   \n",
       "\n",
       "   How many days before the exam did you start studying? (Answer using numerals, e.g. \"5\" and not \"five\")  \\\n",
       "0                                                  5                                                        \n",
       "1                                                  0                                                        \n",
       "2                                                  1                                                        \n",
       "3                                                  1                                                        \n",
       "4                                                  4                                                        \n",
       "5                                                  1                                                        \n",
       "6                                                  1                                                        \n",
       "7                                                  2                                                        \n",
       "8                                                  3                                                        \n",
       "9                                                  5                                                        \n",
       "\n",
       "  Why was it hard? (Please note this question is optional)  \n",
       "0                              simply don't remember        \n",
       "1                                                NaN        \n",
       "2                           Wasn't explained clearly        \n",
       "3                           Wasn't explained clearly        \n",
       "4     Math was hard, don't have much math background        \n",
       "5          Have unanswered questions still lingering        \n",
       "6                           Wasn't explained clearly        \n",
       "7                                         Subjective        \n",
       "8                                                NaN        \n",
       "9                                                NaN        "
      ]
     },
     "execution_count": 36,
     "metadata": {},
     "output_type": "execute_result"
    }
   ],
   "source": [
    "# peek data\n",
    "midterm_reflection.head(10)"
   ]
  },
  {
   "cell_type": "raw",
   "metadata": {},
   "source": [
    "# your response here\n",
    "\n",
    "There are 89 examples and 20 features in the dataset. "
   ]
  },
  {
   "cell_type": "raw",
   "metadata": {},
   "source": [
    "For the features, there are 3 continuous features, 15 ordinal features, and 2 categorical features."
   ]
  },
  {
   "cell_type": "raw",
   "metadata": {},
   "source": [
    "The continuous features are midterm grades, the number of hours the students study for the exam, and the number of hours the student starts reviewing before the exam, so the first feature can take real values from 0 to 100 inclusive and the second and the third feature can take any nonnegative real values. All the 15 ordinal features can take any integer values from 1 to 5 inclusive. The two categorical features are about the hardest concept to grasp and if the exam was hard. The possible values that the first categorical feature can take are regression, logistic regression, exploratory data analysis, data science workflow, sentiment analysis, and learning principles. The possible values that the second categorical feature can take are \"Wasn't explained clearly\", \"Didn't have enough time to understand\", \"Have unanswered questions still lingering\", \"Math was hard, don't have much math background\"."
   ]
  },
  {
   "cell_type": "markdown",
   "metadata": {},
   "source": [
    "### Problem 2\n",
    "\n",
    "Let's do some data wrangling. Considering your description of the dataset from [Problem 1](#Problem-1), how should we clean this data?\n",
    "\n",
    "In the cells below, explain and perform the steps that you need to prepare this data for further analysis. Make sure that your analysis and work is presented well and effectively communicates your work. \n",
    "> `Hint` While our labs are not perfect, you can use them as an example of how you might do this. \n",
    "Also, you might want to come back to this step later on, since you might encounter problems with the data once you actually analyze it. Remember, you may add as many cells (for code and text) as you need below. Here — we gave you one for free!"
   ]
  },
  {
   "cell_type": "code",
   "execution_count": 37,
   "metadata": {},
   "outputs": [
    {
     "data": {
      "text/plain": [
       "Index(['Midterm Score',\n",
       "       'How much did you rely on the following studying methods to prepare for this exam? 1 indicates \"Not at all\" and 5 indicates \"Very heavily.\" [Reviewing slides]',\n",
       "       'How much did you rely on the following studying methods to prepare for this exam? 1 indicates \"Not at all\" and 5 indicates \"Very heavily.\" [Attending lecture]',\n",
       "       'How much did you rely on the following studying methods to prepare for this exam? 1 indicates \"Not at all\" and 5 indicates \"Very heavily.\" [Taking lecture notes]',\n",
       "       'How much did you rely on the following studying methods to prepare for this exam? 1 indicates \"Not at all\" and 5 indicates \"Very heavily.\" [Reviewing lecture notes]',\n",
       "       'How much did you rely on the following studying methods to prepare for this exam? 1 indicates \"Not at all\" and 5 indicates \"Very heavily.\" [Completing assigned readings]',\n",
       "       'How much did you rely on the following studying methods to prepare for this exam? 1 indicates \"Not at all\" and 5 indicates \"Very heavily.\" [Attending a study group]',\n",
       "       'How much did you rely on the following studying methods to prepare for this exam? 1 indicates \"Not at all\" and 5 indicates \"Very heavily.\" [Talking with a professor / TA]',\n",
       "       'How much did you rely on the following studying methods to prepare for this exam? 1 indicates \"Not at all\" and 5 indicates \"Very heavily.\" [Reviewing homeworks]',\n",
       "       'How much did you rely on the following studying methods to prepare for this exam? 1 indicates \"Not at all\" and 5 indicates \"Very heavily.\" [Reviewing labs]',\n",
       "       'Who did you study with? (1 indicates \"Not at all\" and 5 indicates \"Very heavily.\") [One other student from class]',\n",
       "       'How much did you rely on the following studying methods to prepare for this exam? 1 indicates \"Not at all\" and 5 indicates \"Very heavily.\" [Reviewing past quizzes]',\n",
       "       'How much did you rely on the following studying methods to prepare for this exam? 1 indicates \"Not at all\" and 5 indicates \"Very heavily.\" [Completing worksheet problems]',\n",
       "       'Who did you study with? (1 indicates \"Not at all\" and 5 indicates \"Very heavily.\") [Study group with other students/friends]',\n",
       "       'Who did you study with? (1 indicates \"Not at all\" and 5 indicates \"Very heavily.\") [Alone]',\n",
       "       'How many hours in total did you study for this exam? (Answer using numerals, e.g. \"5\" and not \"five\")',\n",
       "       'Who did you study with? (1 indicates \"Not at all\" and 5 indicates \"Very heavily.\") [Tutor / friend not in this class]',\n",
       "       'What was the hardest concept to grasp?',\n",
       "       'How many days before the exam did you start studying? (Answer using numerals, e.g. \"5\" and not \"five\")',\n",
       "       'Why was it hard? (Please note this question is optional)'],\n",
       "      dtype='object')"
      ]
     },
     "execution_count": 37,
     "metadata": {},
     "output_type": "execute_result"
    }
   ],
   "source": [
    "# peek the columns\n",
    "midterm_reflection.columns"
   ]
  },
  {
   "cell_type": "code",
   "execution_count": 38,
   "metadata": {},
   "outputs": [],
   "source": [
    "# rename the columns \n",
    "midterm_reflection.columns = ['score', 'review_slides', 'attend_lectures', 'take_notes', 'review_notes', 'complete_readings', 'attend_study_group', \n",
    "                              'talk_to_instructors', 'review_homeworks', 'review_labs', 'study_with_another_student', 'review_past_quizzes', 'complete_worksheets', \n",
    "                              'study_with_groups', 'study_alone', 'preparation_hours', 'study_with_tutors', 'hardest_concept', 'days_start_reviewing_beforehand', 'why_hard']"
   ]
  },
  {
   "cell_type": "code",
   "execution_count": 39,
   "metadata": {},
   "outputs": [],
   "source": [
    "# convert the appropriate columns from string to numeric\n",
    "numeric_cols = midterm_reflection.columns\n",
    "numeric_cols = numeric_cols.drop('why_hard')\n",
    "numeric_cols = numeric_cols.drop('hardest_concept')\n",
    "for col in numeric_cols:\n",
    "    midterm_reflection[col] = pd.to_numeric(midterm_reflection[col])"
   ]
  },
  {
   "cell_type": "code",
   "execution_count": 40,
   "metadata": {},
   "outputs": [
    {
     "name": "stdout",
     "output_type": "stream",
     "text": [
      "review_slides int64\n",
      "attend_lectures int64\n",
      "take_notes int64\n",
      "review_notes int64\n",
      "complete_readings int64\n",
      "attend_study_group int64\n",
      "talk_to_instructors int64\n",
      "review_homeworks int64\n",
      "review_labs int64\n",
      "study_with_another_student int64\n",
      "review_past_quizzes int64\n",
      "complete_worksheets int64\n",
      "study_with_groups int64\n",
      "study_alone int64\n",
      "study_with_tutors int64\n"
     ]
    },
    {
     "data": {
      "text/plain": [
       "(87, 20)"
      ]
     },
     "execution_count": 40,
     "metadata": {},
     "output_type": "execute_result"
    }
   ],
   "source": [
    "# filter out invalid data points (midterm score has to be within 0 and 100)\n",
    "discrete_cols = numeric_cols.drop('preparation_hours')\n",
    "discrete_cols = discrete_cols.drop('days_start_reviewing_beforehand')\n",
    "discrete_cols = discrete_cols.drop('score')\n",
    "\n",
    "# midterm score has to be within 0 and 100\n",
    "midterm_reflection = midterm_reflection[midterm_reflection.score >= 0.0]\n",
    "midterm_reflection = midterm_reflection[midterm_reflection.score <= 100]\n",
    "\n",
    "# all ordinal features must be between 1 and 5 and check if all appropriate features are int\n",
    "for col in discrete_cols:\n",
    "    midterm_reflection = midterm_reflection[midterm_reflection[col] >= 1]\n",
    "    midterm_reflection = midterm_reflection[midterm_reflection[col] <= 5]\n",
    "    print(col, midterm_reflection[col].dtypes)\n",
    "\n",
    "\n",
    "# preparation hours and days start reviewing beforehand must be nonnegative    \n",
    "midterm_reflection = midterm_reflection[midterm_reflection.preparation_hours >= 0.0]   \n",
    "midterm_reflection = midterm_reflection[midterm_reflection.days_start_reviewing_beforehand >= 0.0]\n",
    "\n",
    "midterm_reflection.shape"
   ]
  },
  {
   "cell_type": "markdown",
   "metadata": {},
   "source": [
    "Thus by looking at the shape of midterm_reflection, we can see that two noises have been removed from our dataset."
   ]
  },
  {
   "cell_type": "markdown",
   "metadata": {},
   "source": [
    "### Problem 3\n",
    "\n",
    "Now that we cleaned up our data, we are ready to look into it. In this problem, we want to profile our data and explore single variables.\n",
    "> `Hint` Note that the way the data is stored does not necesarily mean that each column should correspond to a seperate variable. Feel free to define your own variables based on the input data. Looking at the study reflection form might be helpful to figure out meaningful representations. Also note that there is no right or wrong representation here (since it is your job to find something interesting in the data, it is also up to you to choose  the data representation). Again, you might want to iterate over this step again later after doing some more exploration. \n",
    "\n",
    "Recall from Lab 2, this step usually involves computing summary statistics and basic plots _where applicable_. Try plotting some of the data (with appropriate plots). Then, highlight a few of the more interesting ones and discuss why you thought they were interesting — for both our sakes, **please only include the most interesting ones** in your actual submission. \n",
    "\n",
    "Once again, we have provided a _free_ cell for you to use; make as many as you need. Use text cells to describe what you are doing and what your findings are. "
   ]
  },
  {
   "cell_type": "code",
   "execution_count": 41,
   "metadata": {},
   "outputs": [
    {
     "name": "stdout",
     "output_type": "stream",
     "text": [
      "mean: 79.72988505747126\n",
      "median: 80.5\n",
      "standard deviation: 8.823134428842467\n",
      "min: 57.0\n",
      "max: 96.5\n"
     ]
    }
   ],
   "source": [
    "# Summary statistics for score\n",
    "print(f'mean: {midterm_reflection[\"score\"].mean()}')\n",
    "print(f'median: {midterm_reflection[\"score\"].median()}')\n",
    "print(f'standard deviation: {midterm_reflection[\"score\"].std()}')\n",
    "print(f'min: {midterm_reflection[\"score\"].min()}')\n",
    "print(f'max: {midterm_reflection[\"score\"].max()}')"
   ]
  },
  {
   "cell_type": "code",
   "execution_count": 42,
   "metadata": {},
   "outputs": [
    {
     "data": {
      "image/png": "[encoded data removed]",
      "text/plain": [
       "<Figure size 432x288 with 1 Axes>"
      ]
     },
     "metadata": {
      "needs_background": "light"
     },
     "output_type": "display_data"
    }
   ],
   "source": [
    "# Plot histogram of the score\n",
    "plt.hist(midterm_reflection.score, 30)\n",
    "plt.title(\"Distribution of midterm score\")\n",
    "plt.xlabel(\"score\")\n",
    "plt.ylabel(\"number of students\")\n",
    "plt.show()"
   ]
  },
  {
   "cell_type": "code",
   "execution_count": 43,
   "metadata": {},
   "outputs": [
    {
     "data": {
      "image/png": "[encoded data removed]",
      "text/plain": [
       "<Figure size 432x288 with 1 Axes>"
      ]
     },
     "metadata": {
      "needs_background": "light"
     },
     "output_type": "display_data"
    }
   ],
   "source": [
    "import numpy as np\n",
    "\n",
    "# count number of students for each degree of reliance from 1 to 5 inclusive\n",
    "count_worksheets = [0, 0, 0, 0, 0]\n",
    "bars = ['1', '2', '3', '4', '5']\n",
    "for i in midterm_reflection.complete_worksheets:\n",
    "    if i == 1:\n",
    "        count_worksheets[0] += 1\n",
    "    if i == 2:\n",
    "        count_worksheets[1] += 1\n",
    "    if i == 3:\n",
    "        count_worksheets[2] += 1\n",
    "    if i == 4:\n",
    "        count_worksheets[3] += 1\n",
    "    if i == 5:\n",
    "        count_worksheets[4] += 1\n",
    "\n",
    "# Plot bar plot of the completion of worksheets\n",
    "plt.bar(bars, count_worksheets)\n",
    "plt.title(\"Distribution of degree of reliance on the completion of worksheets\")\n",
    "plt.xlabel(\"degree of reliance\")\n",
    "plt.ylabel(\"number of students\")\n",
    "plt.show()"
   ]
  },
  {
   "cell_type": "code",
   "execution_count": 44,
   "metadata": {},
   "outputs": [
    {
     "name": "stdout",
     "output_type": "stream",
     "text": [
      "Degree of reliance on the completion of worksheets with 1 being not at all and 5 being very heavily:\n",
      "1 -> count: 7\n",
      "2 -> count: 5\n",
      "3 -> count: 15\n",
      "4 -> count: 18\n",
      "5 -> count: 42\n"
     ]
    }
   ],
   "source": [
    "# Summary statistics for the completion of worksheets\n",
    "i = 1\n",
    "print(\"Degree of reliance on the completion of worksheets with 1 being not at all and 5 being very heavily:\")\n",
    "for ct in count_worksheets:\n",
    "    print(i, \"-> count:\", ct)\n",
    "    i += 1"
   ]
  },
  {
   "cell_type": "code",
   "execution_count": 45,
   "metadata": {},
   "outputs": [
    {
     "data": {
      "image/png": "[encoded data removed]",
      "text/plain": [
       "<Figure size 432x288 with 1 Axes>"
      ]
     },
     "metadata": {
      "needs_background": "light"
     },
     "output_type": "display_data"
    }
   ],
   "source": [
    "# count number of students for each degree of reliance from 1 to 5 inclusive\n",
    "count_labs = [0, 0, 0, 0, 0]\n",
    "for i in midterm_reflection.review_labs:\n",
    "    if i == 1:\n",
    "        count_labs[0] += 1\n",
    "    if i == 2:\n",
    "        count_labs[1] += 1\n",
    "    if i == 3:\n",
    "        count_labs[2] += 1\n",
    "    if i == 4:\n",
    "        count_labs[3] += 1\n",
    "    if i == 5:\n",
    "        count_labs[4] += 1\n",
    "\n",
    "# Plot bar plot of the completion of worksheets\n",
    "plt.bar(bars, count_labs)\n",
    "plt.title(\"Distribution of degree of reliance on reviewing labs\")\n",
    "plt.xlabel(\"degree of reliance\")\n",
    "plt.ylabel(\"number of students\")\n",
    "plt.show()"
   ]
  },
  {
   "cell_type": "code",
   "execution_count": 46,
   "metadata": {},
   "outputs": [
    {
     "name": "stdout",
     "output_type": "stream",
     "text": [
      "Degree of reliance on reviewing labs with 1 being not at all and 5 being very heavily:\n",
      "1 -> count: 14\n",
      "2 -> count: 9\n",
      "3 -> count: 14\n",
      "4 -> count: 23\n",
      "5 -> count: 27\n"
     ]
    }
   ],
   "source": [
    "# Summary statistics for reviewing labs\n",
    "i = 1\n",
    "print(\"Degree of reliance on reviewing labs with 1 being not at all and 5 being very heavily:\")\n",
    "for ct in count_labs:\n",
    "    print(i, \"-> count:\", ct)\n",
    "    i += 1"
   ]
  },
  {
   "cell_type": "raw",
   "metadata": {},
   "source": [
    "First, I'm exploring the summary statistics and the distribution of the midterm score. From the above summary statistics and the histogram, we can observe that the distribution of the midterm score has a multimodal distribution and is skewed to the left since the mean is less than the median. It has a min of 57, a max of 96.5, thus a range of 39.5. In addition, it has four outliers around the score of 60.\n",
    "\n",
    "Then, by looking at the summary statistics and the distribution of the degree of reliance on the completion of worksheets, we can observe that the mode 5 has nearly 45 students, which account for about half of the population. In addition, there is an overall exponentially positive trend between the degree of reliance and the number of students.\n",
    "\n",
    "Lastly, by looking at the summary statistics and the distribution of the degree of reliance on reviewing labs, we can observe that the mode 5 has nearly 30 students, which account for about one thirds of the population."
   ]
  },
  {
   "cell_type": "markdown",
   "metadata": {},
   "source": [
    "## 3. Asking the Hard Questions\n",
    "\n",
    "By now we should know all of the ins and outs about this dataset (right?). Let's dive a little deeper into it and see if we can find anything interesting."
   ]
  },
  {
   "cell_type": "markdown",
   "metadata": {},
   "source": [
    "### Problem 4\n",
    "\n",
    "As you worked through the initial phase our this homework, did anything catch your interest? Let's formulate some questions and hypotheses that you could explore in depth.\n",
    "\n",
    "**Write-up** Formulate and describe a question and a hypothesis to answer it. What inspired your idea (provide specifics from [the last section](#2.-Getting-Familiar-with-the-Data), if any)? How can you use the data to support or reject your hypothesis?"
   ]
  },
  {
   "cell_type": "raw",
   "metadata": {},
   "source": [
    "# your response here\n",
    "\n",
    "Question: how does the reliance on the completion of worksheets and the degree of reliance on reviewing labs change over different midterm scores? Is there a stronger correlation between the former discrete feature and scores or between the latter discrete feature and scores?\n",
    "\n",
    "Hypothesis: as the test score increases, the more students rely on both the completion of worksheets and reviewing labs. In other words, there is a linear positive relationship between both the degree of reliance on the completion of worksheets and the reliance on reviewing labs and the midterm scores. Furthermore, I propose that the reliance on the completion of worksheets has a stronger positive correlation with scores.\n",
    "\n",
    "When I first looked at the first 10 \"heads\" of the dataset, except for one or two outliers, I observed that higher scores tend to report a higher degree of reliance on the completion of worksheets and reviewing labs in which the completion of worksheets have overall a larger number. Additionally, by observing the summary statistics and the distribution of those three features, I noticed that the mean and median both of nearly 80 for the score are relatively pretty high for a class average, despite it having a multimodal distribution. Then, for the degree of reliance on the completion of worksheets, its mode 5 accounts for nearly half of the population. Hence, I suspect there might be a linear positive relationship between the two features such that the mode 5 for the degree of reliance on the completion of worksheets would approximately account for the upper 50% percentile of the score. Then, for the degree of reliance on reviewing labs, most of its data are greater than 3 with a mode of 5 too. The same previous resoning also applies such that I suspect there might be a positive linear relationship between the two features such that the mode 5 and value 4 for the degree of reliance on reviewing labs would approximately account for the upper 50% percentile of the score. That's what inspired my idea. To investigate, I'm going to plot a scatterplot between the degree of reliance on the completion of worksheets and reviewing labs and midterm scores so that we are able to see the trend of the two plots and observe if there is a positive correlation between each pair of features. Then, I'm going to compute the Pearson Correlation between each pair of features and compare the results."
   ]
  },
  {
   "cell_type": "markdown",
   "metadata": {},
   "source": [
    "### Problem 5\n",
    "\n",
    "Let's explore your hypothesis. Find evidence from the data that supports or refutes your hypothesis and present it — recall that as a data scientist, one of you're goals is to discover and communicate your results to your audience, _me_. The more thorough your analysis, the better!\n",
    "\n",
    "Here's yet another _free_ cell; use as many as you need."
   ]
  },
  {
   "cell_type": "code",
   "execution_count": 47,
   "metadata": {},
   "outputs": [
    {
     "data": {
      "image/png": "[encoded data removed]",
      "text/plain": [
       "<Figure size 432x288 with 1 Axes>"
      ]
     },
     "metadata": {
      "needs_background": "light"
     },
     "output_type": "display_data"
    }
   ],
   "source": [
    "# Plot scatterplot between score and the completion of worksheets\n",
    "plt.scatter(midterm_reflection.score, midterm_reflection.complete_worksheets)\n",
    "plt.title(\"score vs. degree of reliance on the completion of worksheets\")\n",
    "plt.xlabel(\"score\")\n",
    "plt.ylabel(\"reliance\")\n",
    "plt.show()"
   ]
  },
  {
   "cell_type": "code",
   "execution_count": 48,
   "metadata": {},
   "outputs": [
    {
     "data": {
      "image/png": "[encoded data removed]",
      "text/plain": [
       "<Figure size 432x288 with 1 Axes>"
      ]
     },
     "metadata": {
      "needs_background": "light"
     },
     "output_type": "display_data"
    }
   ],
   "source": [
    "# Plot scatterplot between score and reviewing labs\n",
    "plt.scatter(midterm_reflection.score, midterm_reflection.review_labs)\n",
    "plt.title(\"score vs. degree of reliance on reviewing labs\")\n",
    "plt.xlabel(\"score\")\n",
    "plt.ylabel(\"reliance\")\n",
    "plt.show()"
   ]
  },
  {
   "cell_type": "code",
   "execution_count": 49,
   "metadata": {},
   "outputs": [
    {
     "name": "stdout",
     "output_type": "stream",
     "text": [
      "Pearson Correlation between the score and the degree of reliance on the completion of worksheets: 0.2671004675577137\n",
      "Pearson Correlation between the score and the degree of reliance on reviewing labs: -0.08363115569170484\n"
     ]
    }
   ],
   "source": [
    "corr_score_worksheets = midterm_reflection.score.corr(midterm_reflection.complete_worksheets)\n",
    "print(\"Pearson Correlation between the score and the degree of reliance on the completion of worksheets:\", corr_score_worksheets)\n",
    "\n",
    "corr_score_labs = midterm_reflection.score.corr(midterm_reflection.review_labs)\n",
    "print(\"Pearson Correlation between the score and the degree of reliance on reviewing labs:\", corr_score_labs)"
   ]
  },
  {
   "cell_type": "markdown",
   "metadata": {},
   "source": [
    "### Problem 6\n",
    "\n",
    "Did you find anything interesting in [Problem 5](#Problem-5)? If you did, tell me about it. Can you make any recommendations for us? What might we try to improve the class? Don't worry if you didn't anything — you should still tell us about what you found (negative results are results too!).\n",
    "\n",
    "It would be lovely if you could provide links to key figures in your discussion. See [this StackOverflow question](https://stackoverflow.com/questions/28080066/how-to-reference-a-ipython-notebook-cell-in-markdown) for details."
   ]
  },
  {
   "cell_type": "raw",
   "metadata": {},
   "source": [
    "# your response here\n",
    "It turns out my hypothesis is partially correct. There is indeed a weak positive correlation between the score and the degree of reliance on the completion of worksheets which is greater than the correlation between the score and the degree of reliance on reviewing labs, which turns out to be a very small negative number, showing almost no correlation. This result is a surprise to me that I expected a moderately strong positive correlation for both pairs of features. Possible causes that might account for this deviation might be that after taking the midterm exam, students are generally very tired and cannot wait to going on the spring break, which brought about that some students might fill in the survey without thorough consideration. From the result, I would recommend you to focus more on the contruction of the content of the labs so that most students can benefit from studying it when it comes to review for exams. But the good news is that the worksheets turned out to be pretty useful which is as expected since the problems on the actual exam are very similar to those on the worksheets."
   ]
  },
  {
   "cell_type": "markdown",
   "metadata": {},
   "source": [
    "### Problem 7\n",
    "\n",
    "One last step that we shouldn't skip is reviewing the data acquisition method. There are often times where the data you need doesn't exist and you need to go collect it. As you probably already know, making surveys is an art and we would like to here how you might change it to collect better or more information in the future. \n",
    "> `Hint` You could discuss something like this: Based on your analysis of the data set, which features were informative and which weren't? What information that was missing from this survey do you think would be helpful to have for next time?"
   ]
  },
  {
   "cell_type": "raw",
   "metadata": {},
   "source": [
    "# your response here\n",
    "Based on my findings, I discovered that the correlation between the score and the degree of reliance on reviewing labs is almost 0, which indicates there is no linear relationship between the two features, implying that that feature might not be very informative. On the other hand, it turns out that the correlation between the score and the degree of reliance on the completion of worksheets is positive, making the degree of reliance on the completion of worksheets informative. Another piece of information that might be helpful is the degree of reliance on using Piazza when reviewing for exams, including posting, reading, and answering posts."
   ]
  },
  {
   "cell_type": "markdown",
   "metadata": {},
   "source": [
    "And that's it! Remember to review your work and make sure it is well presented and organized. Not everyting you coded up needs to remain in your submission. **[Does [this cell] spark joy?](https://i.kinja-img.com/gawker-media/image/upload/s--iW_3HGbT--/c_scale,dpr_2.0,f_auto,fl_progressive,q_80,w_800/oruf4oavtj5vpmvaquew.jpg)** You are always trying to communicate your findings to somebody, _maybe even yourself_."
   ]
  }
 ],
 "metadata": {
  "kernelspec": {
   "display_name": "Python 3",
   "language": "python",
   "name": "python3"
  },
  "language_info": {
   "codemirror_mode": {
    "name": "ipython",
    "version": 3
   },
   "file_extension": ".py",
   "mimetype": "text/x-python",
   "name": "python",
   "nbconvert_exporter": "python",
   "pygments_lexer": "ipython3",
   "version": "3.8.2"
  }
 },
 "nbformat": 4,
 "nbformat_minor": 4
}
