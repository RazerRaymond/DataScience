{
 "cells": [
  {
   "cell_type": "markdown",
   "metadata": {},
   "source": [
    "# Homework 6: Exploring Study Reflection Responses 🗞"
   ]
  },
  {
   "cell_type": "markdown",
   "metadata": {},
   "source": [
    "Name: Chenye Qi\n",
    "\n",
    "Student ID: 475337\n",
    "\n",
    "Collaborators: lab2 utility, matplotlib documentation\n"
   ]
  },
  {
   "cell_type": "markdown",
   "metadata": {},
   "source": [
    "## Instructions\n",
    "\n",
    "In this homework, we will be reviewing the exploratory data analysis (EDA) process. It might be helpful to review **Lab 2 (Analyzing the MoMA Data)** first. Most of the things we ask you to do in this homework are explained in the lab. In general, you should feel free to import any package that we have previously used in class. Ensure that all plots have the necessary components that a plot should have (e.g. axes labels, a title, a legend).\n",
    "\n",
    "Additionally, note that this homework will have a slightly different structure than in the past. One of the reasons why Jupyter Notebooks are so popular in the field is because you can really treat them like notebooks to explain your findings as you discover them. In this assignment, we provide some **Problem** stubs following the EDA process and you will need to fill in the analysis and structure as you go.\n",
    "\n",
    "Furthermore, in addition to recording your collaborators on this homework, please also remember to cite/indicate all external sources used when finishing this assignment. This includes peers, TAs, and links to online sources. Note that these citations will not free you from your obligation to submit your _own_ code and write-ups, however, they will be taken into account during the grading and regrading process.\n",
    "\n",
    "### Submission instructions\n",
    "* Submit this python notebook including your answers in the code cells as homework submission.\n",
    "* **Feel free to add as many cells as you need to** — just make sure you don't change what we gave you. \n",
    "* **Does it spark joy?** Note that you will be partially graded on the presentation (_cleanliness, clarity, comments_) of your notebook so make sure you [Marie Kondo](https://lifehacker.com/marie-kondo-is-not-a-verb-1833373654) your notebook before submitting it."
   ]
  },
  {
   "cell_type": "markdown",
   "metadata": {},
   "source": [
    "## 1. Introduction\n",
    "\n",
    "For our EDA this week, we'll take a look at _anonymized_ exam study reflection responses. You will find a blank copy of the reflection survey in `utility/data` along with a CSV containing the data and a README.txt file that explains what each value represents. Our goal will be to use this dataset to gain some insight about how students study and _perhaps_ find some patterns in this data."
   ]
  },
  {
   "cell_type": "markdown",
   "metadata": {},
   "source": [
    "In general, we will be following the EDA process:\n",
    "1. Get the data and gain **basic understanding**\n",
    "2. **Wrangle** the data\n",
    "3. **Profile** the data\n",
    "4. Develop questions to investigate (form a **hypotheses**)\n",
    "5. Use the data to **investigate** hypothesis\n",
    "6. **Summarize** results and answer questions "
   ]
  },
  {
   "cell_type": "markdown",
   "metadata": {},
   "source": [
    "## 2. Getting Familiar with the Data\n",
    "\n",
    "In this section, we will get a feel for our data and tidy it up so that we can analyize it later."
   ]
  },
  {
   "cell_type": "markdown",
   "metadata": {},
   "source": [
    "### Problem 1\n",
    "\n",
    "Let's take a look at the files in `utility/data` and think about what we can and will need to do with it.\n",
    "\n",
    "**Write-up!** Describe the data in `MidtermStudyReflection.csv`, answering questions including, but not limited to, these: How many examples and features does the dataset have? What kinds of features are in the dataset? What values can these features take?\n",
    "> `Hint` Consider the steps of EDA; what would you like to know about this dataset. "
   ]
  },
  {
   "cell_type": "raw",
   "metadata": {},
   "source": [
    "# your response here\n",
    "The dataset has 89 examples and 20 features. Features are midterm score and survey questions that require response of 5 levels of degree of agreement. The midterm score takes numerical values ranging from -1 to 105 of step size 0.5. The survey questions can be divided into two categories. One takes discrete numerical values 1, 2, 3, 4, 5 to represent the degree of agreement with the survey question; the other takes categorical values represented by string.  "
   ]
  },
  {
   "cell_type": "markdown",
   "metadata": {},
   "source": [
    "### Problem 2\n",
    "\n",
    "Let's do some data wrangling. Considering your description of the dataset from [Problem 1](#Problem-1), how should we clean this data?\n",
    "\n",
    "In the cells below, explain and perform the steps that you need to prepare this data for further analysis. Make sure that your analysis and work is presented well and effectively communicates your work. \n",
    "> `Hint` While our labs are not perfect, you can use them as an example of how you might do this. \n",
    "Also, you might want to come back to this step later on, since you might encounter problems with the data once you actually analyze it. Remember, you may add as many cells (for code and text) as you need below. Here — we gave you one for free!"
   ]
  },
  {
   "cell_type": "code",
   "execution_count": 57,
   "metadata": {},
   "outputs": [],
   "source": [
    "# this one is free!\n",
    "\n",
    "import numpy as np\n",
    "\n",
    "# basic wrangling\n",
    "import pandas as pd\n",
    "from utility.util import clean_columns\n",
    "\n",
    "# plotting\n",
    "from matplotlib import pyplot as plt"
   ]
  },
  {
   "cell_type": "code",
   "execution_count": 58,
   "metadata": {},
   "outputs": [],
   "source": [
    "survey = pd.read_csv(\"./utility/data/MidtermStudyReflection.csv\")"
   ]
  },
  {
   "cell_type": "code",
   "execution_count": 66,
   "metadata": {},
   "outputs": [
    {
     "data": {
      "text/html": [
       "<div>\n",
       "<style scoped>\n",
       "    .dataframe tbody tr th:only-of-type {\n",
       "        vertical-align: middle;\n",
       "    }\n",
       "\n",
       "    .dataframe tbody tr th {\n",
       "        vertical-align: top;\n",
       "    }\n",
       "\n",
       "    .dataframe thead th {\n",
       "        text-align: right;\n",
       "    }\n",
       "</style>\n",
       "<table border=\"1\" class=\"dataframe\">\n",
       "  <thead>\n",
       "    <tr style=\"text-align: right;\">\n",
       "      <th></th>\n",
       "      <th>Midterm_Score</th>\n",
       "      <th>Reviewing_slides</th>\n",
       "      <th>Attending_lecture</th>\n",
       "      <th>Taking_lecture_notes</th>\n",
       "      <th>Reviewing_lecture_notes</th>\n",
       "      <th>Completing_assigned_readings</th>\n",
       "      <th>Attending_a_study_group</th>\n",
       "      <th>Talking_with_a_professor_/_TA</th>\n",
       "      <th>Reviewing_homeworks</th>\n",
       "      <th>Reviewing_labs</th>\n",
       "      <th>Who_did_you_study_with?One_other_student_from_class</th>\n",
       "      <th>Reviewing_past_quizzes</th>\n",
       "      <th>Completing_worksheet_problems</th>\n",
       "      <th>Who_did_you_study_with?Study_group_with_other_students/friends</th>\n",
       "      <th>Who_did_you_study_with?Alone</th>\n",
       "      <th>How_many_hours_in_total_did_you_study_for_this_exam?_Answer_using_numerals,_eg_\"5\"_and_not_\"five\"</th>\n",
       "      <th>Who_did_you_study_with?Tutor_/_friend_not_in_this_class</th>\n",
       "      <th>What_was_the_hardest_concept_to_grasp?</th>\n",
       "      <th>How_many_days_before_the_exam_did_you_start_studying?_Answer_using_numerals,_eg_\"5\"_and_not_\"five\"</th>\n",
       "      <th>Why_was_it_hard?_Please_note_this_question_is_optional</th>\n",
       "    </tr>\n",
       "  </thead>\n",
       "  <tbody>\n",
       "    <tr>\n",
       "      <th>0</th>\n",
       "      <td>59.5</td>\n",
       "      <td>2</td>\n",
       "      <td>5</td>\n",
       "      <td>3</td>\n",
       "      <td>2</td>\n",
       "      <td>1</td>\n",
       "      <td>1</td>\n",
       "      <td>1</td>\n",
       "      <td>2</td>\n",
       "      <td>4</td>\n",
       "      <td>3</td>\n",
       "      <td>1</td>\n",
       "      <td>5</td>\n",
       "      <td>1</td>\n",
       "      <td>5</td>\n",
       "      <td>2.0</td>\n",
       "      <td>1</td>\n",
       "      <td>Logistic Regression</td>\n",
       "      <td>5</td>\n",
       "      <td>simply don't remember</td>\n",
       "    </tr>\n",
       "    <tr>\n",
       "      <th>1</th>\n",
       "      <td>81.0</td>\n",
       "      <td>1</td>\n",
       "      <td>1</td>\n",
       "      <td>1</td>\n",
       "      <td>1</td>\n",
       "      <td>1</td>\n",
       "      <td>1</td>\n",
       "      <td>1</td>\n",
       "      <td>1</td>\n",
       "      <td>1</td>\n",
       "      <td>1</td>\n",
       "      <td>1</td>\n",
       "      <td>1</td>\n",
       "      <td>1</td>\n",
       "      <td>5</td>\n",
       "      <td>0.0</td>\n",
       "      <td>1</td>\n",
       "      <td>Logistic Regression</td>\n",
       "      <td>0</td>\n",
       "      <td>NaN</td>\n",
       "    </tr>\n",
       "    <tr>\n",
       "      <th>2</th>\n",
       "      <td>72.5</td>\n",
       "      <td>5</td>\n",
       "      <td>2</td>\n",
       "      <td>1</td>\n",
       "      <td>2</td>\n",
       "      <td>1</td>\n",
       "      <td>3</td>\n",
       "      <td>2</td>\n",
       "      <td>3</td>\n",
       "      <td>4</td>\n",
       "      <td>2</td>\n",
       "      <td>4</td>\n",
       "      <td>1</td>\n",
       "      <td>3</td>\n",
       "      <td>4</td>\n",
       "      <td>6.0</td>\n",
       "      <td>1</td>\n",
       "      <td>Logistic Regression</td>\n",
       "      <td>1</td>\n",
       "      <td>Wasn't explained clearly</td>\n",
       "    </tr>\n",
       "    <tr>\n",
       "      <th>3</th>\n",
       "      <td>74.5</td>\n",
       "      <td>4</td>\n",
       "      <td>4</td>\n",
       "      <td>4</td>\n",
       "      <td>4</td>\n",
       "      <td>1</td>\n",
       "      <td>1</td>\n",
       "      <td>1</td>\n",
       "      <td>3</td>\n",
       "      <td>3</td>\n",
       "      <td>4</td>\n",
       "      <td>1</td>\n",
       "      <td>3</td>\n",
       "      <td>1</td>\n",
       "      <td>4</td>\n",
       "      <td>5.0</td>\n",
       "      <td>1</td>\n",
       "      <td>Logistic Regression</td>\n",
       "      <td>1</td>\n",
       "      <td>Wasn't explained clearly</td>\n",
       "    </tr>\n",
       "    <tr>\n",
       "      <th>4</th>\n",
       "      <td>67.5</td>\n",
       "      <td>3</td>\n",
       "      <td>5</td>\n",
       "      <td>1</td>\n",
       "      <td>1</td>\n",
       "      <td>1</td>\n",
       "      <td>1</td>\n",
       "      <td>3</td>\n",
       "      <td>4</td>\n",
       "      <td>3</td>\n",
       "      <td>1</td>\n",
       "      <td>2</td>\n",
       "      <td>4</td>\n",
       "      <td>1</td>\n",
       "      <td>5</td>\n",
       "      <td>5.0</td>\n",
       "      <td>1</td>\n",
       "      <td>Logistic Regression</td>\n",
       "      <td>4</td>\n",
       "      <td>Math was hard, don't have much math background</td>\n",
       "    </tr>\n",
       "    <tr>\n",
       "      <th>...</th>\n",
       "      <td>...</td>\n",
       "      <td>...</td>\n",
       "      <td>...</td>\n",
       "      <td>...</td>\n",
       "      <td>...</td>\n",
       "      <td>...</td>\n",
       "      <td>...</td>\n",
       "      <td>...</td>\n",
       "      <td>...</td>\n",
       "      <td>...</td>\n",
       "      <td>...</td>\n",
       "      <td>...</td>\n",
       "      <td>...</td>\n",
       "      <td>...</td>\n",
       "      <td>...</td>\n",
       "      <td>...</td>\n",
       "      <td>...</td>\n",
       "      <td>...</td>\n",
       "      <td>...</td>\n",
       "      <td>...</td>\n",
       "    </tr>\n",
       "    <tr>\n",
       "      <th>84</th>\n",
       "      <td>70.5</td>\n",
       "      <td>4</td>\n",
       "      <td>3</td>\n",
       "      <td>1</td>\n",
       "      <td>2</td>\n",
       "      <td>1</td>\n",
       "      <td>3</td>\n",
       "      <td>3</td>\n",
       "      <td>3</td>\n",
       "      <td>2</td>\n",
       "      <td>1</td>\n",
       "      <td>2</td>\n",
       "      <td>4</td>\n",
       "      <td>4</td>\n",
       "      <td>2</td>\n",
       "      <td>5.0</td>\n",
       "      <td>1</td>\n",
       "      <td>Logistic Regression</td>\n",
       "      <td>1</td>\n",
       "      <td>Wasn't explained clearly</td>\n",
       "    </tr>\n",
       "    <tr>\n",
       "      <th>85</th>\n",
       "      <td>83.5</td>\n",
       "      <td>5</td>\n",
       "      <td>2</td>\n",
       "      <td>2</td>\n",
       "      <td>3</td>\n",
       "      <td>1</td>\n",
       "      <td>3</td>\n",
       "      <td>1</td>\n",
       "      <td>5</td>\n",
       "      <td>5</td>\n",
       "      <td>1</td>\n",
       "      <td>1</td>\n",
       "      <td>5</td>\n",
       "      <td>5</td>\n",
       "      <td>1</td>\n",
       "      <td>10.0</td>\n",
       "      <td>1</td>\n",
       "      <td>Logistic Regression</td>\n",
       "      <td>3</td>\n",
       "      <td>Have unanswered questions still lingering</td>\n",
       "    </tr>\n",
       "    <tr>\n",
       "      <th>86</th>\n",
       "      <td>81.5</td>\n",
       "      <td>5</td>\n",
       "      <td>4</td>\n",
       "      <td>3</td>\n",
       "      <td>4</td>\n",
       "      <td>1</td>\n",
       "      <td>5</td>\n",
       "      <td>1</td>\n",
       "      <td>1</td>\n",
       "      <td>1</td>\n",
       "      <td>4</td>\n",
       "      <td>1</td>\n",
       "      <td>5</td>\n",
       "      <td>4</td>\n",
       "      <td>4</td>\n",
       "      <td>4.0</td>\n",
       "      <td>1</td>\n",
       "      <td>Learning Principles</td>\n",
       "      <td>1</td>\n",
       "      <td>Have unanswered questions still lingering</td>\n",
       "    </tr>\n",
       "    <tr>\n",
       "      <th>87</th>\n",
       "      <td>80.5</td>\n",
       "      <td>5</td>\n",
       "      <td>4</td>\n",
       "      <td>4</td>\n",
       "      <td>5</td>\n",
       "      <td>3</td>\n",
       "      <td>2</td>\n",
       "      <td>3</td>\n",
       "      <td>4</td>\n",
       "      <td>3</td>\n",
       "      <td>2</td>\n",
       "      <td>2</td>\n",
       "      <td>5</td>\n",
       "      <td>2</td>\n",
       "      <td>5</td>\n",
       "      <td>10.0</td>\n",
       "      <td>1</td>\n",
       "      <td>Logistic Regression</td>\n",
       "      <td>2</td>\n",
       "      <td>Didn't have enough time to understand</td>\n",
       "    </tr>\n",
       "    <tr>\n",
       "      <th>88</th>\n",
       "      <td>65.5</td>\n",
       "      <td>5</td>\n",
       "      <td>4</td>\n",
       "      <td>4</td>\n",
       "      <td>4</td>\n",
       "      <td>3</td>\n",
       "      <td>2</td>\n",
       "      <td>2</td>\n",
       "      <td>5</td>\n",
       "      <td>5</td>\n",
       "      <td>1</td>\n",
       "      <td>4</td>\n",
       "      <td>4</td>\n",
       "      <td>1</td>\n",
       "      <td>5</td>\n",
       "      <td>7.0</td>\n",
       "      <td>1</td>\n",
       "      <td>Learning Principles</td>\n",
       "      <td>2</td>\n",
       "      <td>Didn't have enough time to understand</td>\n",
       "    </tr>\n",
       "  </tbody>\n",
       "</table>\n",
       "<p>87 rows × 20 columns</p>\n",
       "</div>"
      ],
      "text/plain": [
       "    Midterm_Score  Reviewing_slides  Attending_lecture  Taking_lecture_notes  \\\n",
       "0            59.5                 2                  5                     3   \n",
       "1            81.0                 1                  1                     1   \n",
       "2            72.5                 5                  2                     1   \n",
       "3            74.5                 4                  4                     4   \n",
       "4            67.5                 3                  5                     1   \n",
       "..            ...               ...                ...                   ...   \n",
       "84           70.5                 4                  3                     1   \n",
       "85           83.5                 5                  2                     2   \n",
       "86           81.5                 5                  4                     3   \n",
       "87           80.5                 5                  4                     4   \n",
       "88           65.5                 5                  4                     4   \n",
       "\n",
       "    Reviewing_lecture_notes  Completing_assigned_readings  \\\n",
       "0                         2                             1   \n",
       "1                         1                             1   \n",
       "2                         2                             1   \n",
       "3                         4                             1   \n",
       "4                         1                             1   \n",
       "..                      ...                           ...   \n",
       "84                        2                             1   \n",
       "85                        3                             1   \n",
       "86                        4                             1   \n",
       "87                        5                             3   \n",
       "88                        4                             3   \n",
       "\n",
       "    Attending_a_study_group  Talking_with_a_professor_/_TA  \\\n",
       "0                         1                              1   \n",
       "1                         1                              1   \n",
       "2                         3                              2   \n",
       "3                         1                              1   \n",
       "4                         1                              3   \n",
       "..                      ...                            ...   \n",
       "84                        3                              3   \n",
       "85                        3                              1   \n",
       "86                        5                              1   \n",
       "87                        2                              3   \n",
       "88                        2                              2   \n",
       "\n",
       "    Reviewing_homeworks  Reviewing_labs  \\\n",
       "0                     2               4   \n",
       "1                     1               1   \n",
       "2                     3               4   \n",
       "3                     3               3   \n",
       "4                     4               3   \n",
       "..                  ...             ...   \n",
       "84                    3               2   \n",
       "85                    5               5   \n",
       "86                    1               1   \n",
       "87                    4               3   \n",
       "88                    5               5   \n",
       "\n",
       "    Who_did_you_study_with?One_other_student_from_class  \\\n",
       "0                                                   3     \n",
       "1                                                   1     \n",
       "2                                                   2     \n",
       "3                                                   4     \n",
       "4                                                   1     \n",
       "..                                                ...     \n",
       "84                                                  1     \n",
       "85                                                  1     \n",
       "86                                                  4     \n",
       "87                                                  2     \n",
       "88                                                  1     \n",
       "\n",
       "    Reviewing_past_quizzes  Completing_worksheet_problems  \\\n",
       "0                        1                              5   \n",
       "1                        1                              1   \n",
       "2                        4                              1   \n",
       "3                        1                              3   \n",
       "4                        2                              4   \n",
       "..                     ...                            ...   \n",
       "84                       2                              4   \n",
       "85                       1                              5   \n",
       "86                       1                              5   \n",
       "87                       2                              5   \n",
       "88                       4                              4   \n",
       "\n",
       "    Who_did_you_study_with?Study_group_with_other_students/friends  \\\n",
       "0                                                   1                \n",
       "1                                                   1                \n",
       "2                                                   3                \n",
       "3                                                   1                \n",
       "4                                                   1                \n",
       "..                                                ...                \n",
       "84                                                  4                \n",
       "85                                                  5                \n",
       "86                                                  4                \n",
       "87                                                  2                \n",
       "88                                                  1                \n",
       "\n",
       "    Who_did_you_study_with?Alone  \\\n",
       "0                              5   \n",
       "1                              5   \n",
       "2                              4   \n",
       "3                              4   \n",
       "4                              5   \n",
       "..                           ...   \n",
       "84                             2   \n",
       "85                             1   \n",
       "86                             4   \n",
       "87                             5   \n",
       "88                             5   \n",
       "\n",
       "    How_many_hours_in_total_did_you_study_for_this_exam?_Answer_using_numerals,_eg_\"5\"_and_not_\"five\"  \\\n",
       "0                                                 2.0                                                   \n",
       "1                                                 0.0                                                   \n",
       "2                                                 6.0                                                   \n",
       "3                                                 5.0                                                   \n",
       "4                                                 5.0                                                   \n",
       "..                                                ...                                                   \n",
       "84                                                5.0                                                   \n",
       "85                                               10.0                                                   \n",
       "86                                                4.0                                                   \n",
       "87                                               10.0                                                   \n",
       "88                                                7.0                                                   \n",
       "\n",
       "    Who_did_you_study_with?Tutor_/_friend_not_in_this_class  \\\n",
       "0                                                   1         \n",
       "1                                                   1         \n",
       "2                                                   1         \n",
       "3                                                   1         \n",
       "4                                                   1         \n",
       "..                                                ...         \n",
       "84                                                  1         \n",
       "85                                                  1         \n",
       "86                                                  1         \n",
       "87                                                  1         \n",
       "88                                                  1         \n",
       "\n",
       "   What_was_the_hardest_concept_to_grasp?  \\\n",
       "0                     Logistic Regression   \n",
       "1                     Logistic Regression   \n",
       "2                     Logistic Regression   \n",
       "3                     Logistic Regression   \n",
       "4                     Logistic Regression   \n",
       "..                                    ...   \n",
       "84                    Logistic Regression   \n",
       "85                    Logistic Regression   \n",
       "86                    Learning Principles   \n",
       "87                    Logistic Regression   \n",
       "88                    Learning Principles   \n",
       "\n",
       "    How_many_days_before_the_exam_did_you_start_studying?_Answer_using_numerals,_eg_\"5\"_and_not_\"five\"  \\\n",
       "0                                                   5                                                    \n",
       "1                                                   0                                                    \n",
       "2                                                   1                                                    \n",
       "3                                                   1                                                    \n",
       "4                                                   4                                                    \n",
       "..                                                ...                                                    \n",
       "84                                                  1                                                    \n",
       "85                                                  3                                                    \n",
       "86                                                  1                                                    \n",
       "87                                                  2                                                    \n",
       "88                                                  2                                                    \n",
       "\n",
       "   Why_was_it_hard?_Please_note_this_question_is_optional  \n",
       "0                               simply don't remember      \n",
       "1                                                 NaN      \n",
       "2                            Wasn't explained clearly      \n",
       "3                            Wasn't explained clearly      \n",
       "4      Math was hard, don't have much math background      \n",
       "..                                                ...      \n",
       "84                           Wasn't explained clearly      \n",
       "85          Have unanswered questions still lingering      \n",
       "86          Have unanswered questions still lingering      \n",
       "87              Didn't have enough time to understand      \n",
       "88              Didn't have enough time to understand      \n",
       "\n",
       "[87 rows x 20 columns]"
      ]
     },
     "execution_count": 66,
     "metadata": {},
     "output_type": "execute_result"
    }
   ],
   "source": [
    "survey = clean_columns(survey)\n",
    "survey.columns = [col.replace('_1_indicates_\"Not_at_all\"_and_5_indicates_\"Very_heavily\"_',\"\").replace(\"How_much_did_you_rely_on_the_following_studying_methods_to_prepare_for_this_exam?_\",\"\").replace(\"_[\",\"\").replace(\"]\",\"\")for col in survey.columns]\n",
    "survey = survey[survey[\"Midterm_Score\"]>=0]\n",
    "\n",
    "survey"
   ]
  },
  {
   "cell_type": "code",
   "execution_count": 70,
   "metadata": {},
   "outputs": [
    {
     "data": {
      "text/plain": [
       "Index(['Reviewing_slides', 'Attending_lecture', 'Taking_lecture_notes',\n",
       "       'Reviewing_lecture_notes', 'Completing_assigned_readings',\n",
       "       'Attending_a_study_group', 'Talking_with_a_professor_/_TA',\n",
       "       'Reviewing_homeworks', 'Reviewing_labs',\n",
       "       'Who_did_you_study_with?One_other_student_from_class',\n",
       "       'Reviewing_past_quizzes', 'Completing_worksheet_problems'],\n",
       "      dtype='object')"
      ]
     },
     "execution_count": 70,
     "metadata": {},
     "output_type": "execute_result"
    }
   ],
   "source": [
    "degree_features = survey.iloc[:,1:13]\n",
    "degree_labels = degree_features.columns\n",
    "degree_features.columns"
   ]
  },
  {
   "cell_type": "markdown",
   "metadata": {},
   "source": [
    "To clean the columns for convenient indexing, I imported the clean_columns function from lab2 and deleted the '_1_indicates_\"Not_at_all\"_and_5_indicates_\"Very_heavily\"_'. Then in problem3 I find that I might need to get rid of the -1 midterm score because that might be a messy datapoint that's not needed; otherwise it might bias the mean and standard deviation and the histogram.\n",
    "\n",
    "Then I find that if I want to explore the relationship between way of studying and score, I need to get the responses about how students studied for the exam(feature1-12), measured in scale from 1 to 5. "
   ]
  },
  {
   "cell_type": "markdown",
   "metadata": {},
   "source": [
    "### Problem 3\n",
    "\n",
    "Now that we cleaned up our data, we are ready to look into it. In this problem, we want to profile our data and explore single variables.\n",
    "> `Hint` Note that the way the data is stored does not necesarily mean that each column should correspond to a seperate variable. Feel free to define your own variables based on the input data. Looking at the study reflection form might be helpful to figure out meaningful representations. Also note that there is no right or wrong representation here (since it is your job to find something interesting in the data, it is also up to you to choose  the data representation). Again, you might want to iterate over this step again later after doing some more exploration. \n",
    "\n",
    "Recall from Lab 2, this step usually involves computing summary statistics and basic plots _where applicable_. Try plotting some of the data (with appropriate plots). Then, highlight a few of the more interesting ones and discuss why you thought they were interesting — for both our sakes, **please only include the most interesting ones** in your actual submission. \n",
    "\n",
    "Once again, we have provided a _free_ cell for you to use; make as many as you need. Use text cells to describe what you are doing and what your findings are. "
   ]
  },
  {
   "cell_type": "code",
   "execution_count": 25,
   "metadata": {},
   "outputs": [
    {
     "name": "stdout",
     "output_type": "stream",
     "text": [
      "mean: 79.72988505747126\n",
      "standard deviation: 8.823134428842467\n",
      "min: 57.0\n",
      "max: 96.5\n"
     ]
    },
    {
     "data": {
      "image/png": "[encoded data removed]",
      "text/plain": [
       "<Figure size 432x288 with 1 Axes>"
      ]
     },
     "metadata": {
      "needs_background": "light"
     },
     "output_type": "display_data"
    }
   ],
   "source": [
    "# this one is also free!\n",
    "print(f'mean: {survey[\"Midterm_Score\"].mean()}')\n",
    "print(f'standard deviation: {survey[\"Midterm_Score\"].std()}')\n",
    "print(f'min: {survey[\"Midterm_Score\"].min()}')\n",
    "print(f'max: {survey[\"Midterm_Score\"].max()}')\n",
    "\n",
    "plt.hist(survey[\"Midterm_Score\"])\n",
    "plt.title(\"Midterm Score\")\n",
    "plt.xlabel(\"Midterm Score\")\n",
    "plt.ylabel(\"number of students\")\n",
    "plt.show()"
   ]
  },
  {
   "cell_type": "code",
   "execution_count": 101,
   "metadata": {},
   "outputs": [
    {
     "data": {
      "text/plain": [
       "Text(0.5, 1.0, 'reviewing slides')"
      ]
     },
     "execution_count": 101,
     "metadata": {},
     "output_type": "execute_result"
    },
    {
     "data": {
      "image/png": "[encoded data removed]",
      "text/plain": [
       "<Figure size 432x288 with 1 Axes>"
      ]
     },
     "metadata": {
      "needs_background": "light"
     },
     "output_type": "display_data"
    }
   ],
   "source": [
    "plt.hist(degree_features.iloc[:,0])\n",
    "plt.title(\"reviewing slides\")"
   ]
  },
  {
   "cell_type": "code",
   "execution_count": 102,
   "metadata": {},
   "outputs": [
    {
     "data": {
      "text/plain": [
       "Text(0.5, 1.0, 'attending lecture')"
      ]
     },
     "execution_count": 102,
     "metadata": {},
     "output_type": "execute_result"
    },
    {
     "data": {
      "image/png": "[encoded data removed]",
      "text/plain": [
       "<Figure size 432x288 with 1 Axes>"
      ]
     },
     "metadata": {
      "needs_background": "light"
     },
     "output_type": "display_data"
    }
   ],
   "source": [
    "plt.hist(degree_features.iloc[:,1])\n",
    "plt.title(\"attending lecture\")"
   ]
  },
  {
   "cell_type": "code",
   "execution_count": 103,
   "metadata": {},
   "outputs": [
    {
     "data": {
      "text/plain": [
       "Text(0.5, 1.0, 'taking lecture notes')"
      ]
     },
     "execution_count": 103,
     "metadata": {},
     "output_type": "execute_result"
    },
    {
     "data": {
      "image/png": "[encoded data removed]",
      "text/plain": [
       "<Figure size 432x288 with 1 Axes>"
      ]
     },
     "metadata": {
      "needs_background": "light"
     },
     "output_type": "display_data"
    }
   ],
   "source": [
    "plt.hist(degree_features.iloc[:,2])\n",
    "plt.title(\"taking lecture notes\")"
   ]
  },
  {
   "cell_type": "code",
   "execution_count": 104,
   "metadata": {},
   "outputs": [
    {
     "data": {
      "text/plain": [
       "Text(0.5, 1.0, 'reviewing lecture notes')"
      ]
     },
     "execution_count": 104,
     "metadata": {},
     "output_type": "execute_result"
    },
    {
     "data": {
      "image/png": "[encoded data removed]",
      "text/plain": [
       "<Figure size 432x288 with 1 Axes>"
      ]
     },
     "metadata": {
      "needs_background": "light"
     },
     "output_type": "display_data"
    }
   ],
   "source": [
    "plt.hist(degree_features.iloc[:,3])\n",
    "plt.title(\"reviewing lecture notes\")"
   ]
  },
  {
   "cell_type": "code",
   "execution_count": 105,
   "metadata": {},
   "outputs": [
    {
     "data": {
      "text/plain": [
       "Text(0.5, 1.0, 'completing assigned readings')"
      ]
     },
     "execution_count": 105,
     "metadata": {},
     "output_type": "execute_result"
    },
    {
     "data": {
      "image/png": "[encoded data removed]",
      "text/plain": [
       "<Figure size 432x288 with 1 Axes>"
      ]
     },
     "metadata": {
      "needs_background": "light"
     },
     "output_type": "display_data"
    }
   ],
   "source": [
    "plt.hist(degree_features.iloc[:,4])\n",
    "plt.title(\"completing assigned readings\")"
   ]
  },
  {
   "cell_type": "code",
   "execution_count": 106,
   "metadata": {},
   "outputs": [
    {
     "data": {
      "text/plain": [
       "Text(0.5, 1.0, 'attending a study group')"
      ]
     },
     "execution_count": 106,
     "metadata": {},
     "output_type": "execute_result"
    },
    {
     "data": {
      "image/png": "[encoded data removed]",
      "text/plain": [
       "<Figure size 432x288 with 1 Axes>"
      ]
     },
     "metadata": {
      "needs_background": "light"
     },
     "output_type": "display_data"
    }
   ],
   "source": [
    "plt.hist(degree_features.iloc[:,5])\n",
    "plt.title(\"attending a study group\")"
   ]
  },
  {
   "cell_type": "code",
   "execution_count": 107,
   "metadata": {},
   "outputs": [
    {
     "data": {
      "text/plain": [
       "Text(0.5, 1.0, 'talking with instructors')"
      ]
     },
     "execution_count": 107,
     "metadata": {},
     "output_type": "execute_result"
    },
    {
     "data": {
      "image/png": "[encoded data removed]",
      "text/plain": [
       "<Figure size 432x288 with 1 Axes>"
      ]
     },
     "metadata": {
      "needs_background": "light"
     },
     "output_type": "display_data"
    }
   ],
   "source": [
    "plt.hist(degree_features.iloc[:,6])\n",
    "plt.title(\"talking with instructors\")"
   ]
  },
  {
   "cell_type": "code",
   "execution_count": 108,
   "metadata": {},
   "outputs": [
    {
     "data": {
      "text/plain": [
       "Text(0.5, 1.0, 'reviewing homework')"
      ]
     },
     "execution_count": 108,
     "metadata": {},
     "output_type": "execute_result"
    },
    {
     "data": {
      "image/png": "[encoded data removed]",
      "text/plain": [
       "<Figure size 432x288 with 1 Axes>"
      ]
     },
     "metadata": {
      "needs_background": "light"
     },
     "output_type": "display_data"
    }
   ],
   "source": [
    "plt.hist(degree_features.iloc[:,7])\n",
    "plt.title(\"reviewing homework\")"
   ]
  },
  {
   "cell_type": "code",
   "execution_count": 109,
   "metadata": {},
   "outputs": [
    {
     "data": {
      "text/plain": [
       "Text(0.5, 1.0, 'reviewing labs')"
      ]
     },
     "execution_count": 109,
     "metadata": {},
     "output_type": "execute_result"
    },
    {
     "data": {
      "image/png": "[encoded data removed]",
      "text/plain": [
       "<Figure size 432x288 with 1 Axes>"
      ]
     },
     "metadata": {
      "needs_background": "light"
     },
     "output_type": "display_data"
    }
   ],
   "source": [
    "plt.hist(degree_features.iloc[:,8])\n",
    "plt.title(\"reviewing labs\")"
   ]
  },
  {
   "cell_type": "code",
   "execution_count": 110,
   "metadata": {},
   "outputs": [
    {
     "data": {
      "text/plain": [
       "Text(0.5, 1.0, 'studying with another student in the class')"
      ]
     },
     "execution_count": 110,
     "metadata": {},
     "output_type": "execute_result"
    },
    {
     "data": {
      "image/png": "[encoded data removed]",
      "text/plain": [
       "<Figure size 432x288 with 1 Axes>"
      ]
     },
     "metadata": {
      "needs_background": "light"
     },
     "output_type": "display_data"
    }
   ],
   "source": [
    "plt.hist(degree_features.iloc[:,9])\n",
    "plt.title(\"studying with another student in the class\")"
   ]
  },
  {
   "cell_type": "code",
   "execution_count": 111,
   "metadata": {},
   "outputs": [
    {
     "data": {
      "text/plain": [
       "Text(0.5, 1.0, 'reviewing past quizzes')"
      ]
     },
     "execution_count": 111,
     "metadata": {},
     "output_type": "execute_result"
    },
    {
     "data": {
      "image/png": "[encoded data removed]",
      "text/plain": [
       "<Figure size 432x288 with 1 Axes>"
      ]
     },
     "metadata": {
      "needs_background": "light"
     },
     "output_type": "display_data"
    }
   ],
   "source": [
    "plt.hist(degree_features.iloc[:,10])\n",
    "plt.title(\"reviewing past quizzes\")"
   ]
  },
  {
   "cell_type": "code",
   "execution_count": 112,
   "metadata": {},
   "outputs": [
    {
     "data": {
      "text/plain": [
       "Text(0.5, 1.0, 'completing worksheet problems')"
      ]
     },
     "execution_count": 112,
     "metadata": {},
     "output_type": "execute_result"
    },
    {
     "data": {
      "image/png": "[encoded data removed]",
      "text/plain": [
       "<Figure size 432x288 with 1 Axes>"
      ]
     },
     "metadata": {
      "needs_background": "light"
     },
     "output_type": "display_data"
    }
   ],
   "source": [
    "plt.hist(degree_features.iloc[:,11])\n",
    "plt.title(\"completing worksheet problems\")"
   ]
  },
  {
   "cell_type": "markdown",
   "metadata": {},
   "source": [
    "I want to see if there is certain correlation between score and way of studying. For here I plot a histogram of midterm score to make the distribution of score clear so that I can divide them into groups. Then I sketched the distribution of degree of each feature(The distribution is useful for the next section. I solely focused on the one \"taking lecture notes\"). "
   ]
  },
  {
   "cell_type": "markdown",
   "metadata": {},
   "source": [
    "## 3. Asking the Hard Questions\n",
    "\n",
    "By now we should know all of the ins and outs about this dataset (right?). Let's dive a little deeper into it and see if we can find anything interesting."
   ]
  },
  {
   "cell_type": "markdown",
   "metadata": {},
   "source": [
    "### Problem 4\n",
    "\n",
    "As you worked through the initial phase our this homework, did anything catch your interest? Let's formulate some questions and hypotheses that you could explore in depth.\n",
    "\n",
    "**Write-up** Formulate and describe a question and a hypothesis to answer it. What inspired your idea (provide specifics from [the last section](#2.-Getting-Familiar-with-the-Data), if any)? How can you use the data to support or reject your hypothesis?"
   ]
  },
  {
   "cell_type": "raw",
   "metadata": {},
   "source": [
    "# your response here\n",
    "From last section, the feature \"taking lecture notes\" and \"review lecture notes\" draw my attention: while other features have their dominating score from 1 to 5, there isn't an obvious pattern in these two. The distribution is much more even. \n",
    "Thus I want to explore the possible different attitude towards \"taking lecture notes\" among different score groups. I will only explore \"taking lecture notes\" because I deem the two features similar in nature and I am more interested in \"taking lecture notes\". \n",
    "First I will divide the score into 4 groups: [0, 70], [70,80], [80,90], [90,100]. Then I will plot a bar chart for each group with score(1-5) as x-axis and frequency of the score in each group as y-axis. "
   ]
  },
  {
   "cell_type": "markdown",
   "metadata": {},
   "source": [
    "### Problem 5\n",
    "\n",
    "Let's explore your hypothesis. Find evidence from the data that supports or refutes your hypothesis and present it — recall that as a data scientist, one of you're goals is to discover and communicate your results to your audience, _me_. The more thorough your analysis, the better!\n",
    "\n",
    "Here's yet another _free_ cell; use as many as you need."
   ]
  },
  {
   "cell_type": "code",
   "execution_count": 132,
   "metadata": {},
   "outputs": [],
   "source": [
    "# woah! these things are falling from the sky or something\n",
    "\n",
    "# divide into four groups according to score, [0,70] is named low, [70,80] is named medium, [80,90] is \n",
    "# named high, [90,100] is named nice. \n",
    "\n",
    "low = survey[survey[\"Midterm_Score\"]<70].iloc[:,3]\n",
    "medium = survey[survey[\"Midterm_Score\"]<80]\n",
    "medium = medium[medium[\"Midterm_Score\"]>=70].iloc[:,3]\n",
    "high = survey[survey[\"Midterm_Score\"]<90]\n",
    "high = high[high[\"Midterm_Score\"]>=80].iloc[:,3]\n",
    "nice = survey[survey[\"Midterm_Score\"]>=90].iloc[:,3]"
   ]
  },
  {
   "cell_type": "code",
   "execution_count": 150,
   "metadata": {},
   "outputs": [
    {
     "data": {
      "text/plain": [
       "Text(0, 0.5, 'frequency')"
      ]
     },
     "execution_count": 150,
     "metadata": {},
     "output_type": "execute_result"
    },
    {
     "data": {
      "image/png": "[encoded data removed]",
      "text/plain": [
       "<Figure size 432x288 with 1 Axes>"
      ]
     },
     "metadata": {
      "needs_background": "light"
     },
     "output_type": "display_data"
    }
   ],
   "source": [
    "degrees = np.arange(5)+1\n",
    "y_low = np.zeros(5)\n",
    "for i in low:\n",
    "    if i == 1:\n",
    "        y_low[0] += 1\n",
    "    elif i == 2:\n",
    "        y_low[1] += 1\n",
    "    elif i == 3: \n",
    "        y_low[2] += 1\n",
    "    elif i == 4:\n",
    "        y_low[3] += 1\n",
    "    elif i == 5:\n",
    "        y_low[4] += 1\n",
    "plt.bar(degrees, y_low)\n",
    "plt.title(\"low score taking lecture notes\")\n",
    "plt.xlabel(\"degree\")\n",
    "plt.ylabel(\"frequency\")"
   ]
  },
  {
   "cell_type": "code",
   "execution_count": 151,
   "metadata": {},
   "outputs": [
    {
     "data": {
      "text/plain": [
       "Text(0, 0.5, 'frequency')"
      ]
     },
     "execution_count": 151,
     "metadata": {},
     "output_type": "execute_result"
    },
    {
     "data": {
      "image/png": "[encoded data removed]",
      "text/plain": [
       "<Figure size 432x288 with 1 Axes>"
      ]
     },
     "metadata": {
      "needs_background": "light"
     },
     "output_type": "display_data"
    }
   ],
   "source": [
    "y_medium = np.zeros(5)\n",
    "for i in medium:\n",
    "    if i == 1:\n",
    "        y_medium[0] += 1\n",
    "    elif i == 2:\n",
    "        y_medium[1] += 1\n",
    "    elif i == 3: \n",
    "        y_medium[2] += 1\n",
    "    elif i == 4:\n",
    "        y_medium[3] += 1\n",
    "    elif i == 5:\n",
    "        y_medium[4] += 1\n",
    "plt.bar(degrees, y_medium)\n",
    "plt.title(\"medium score taking lecture notes\")\n",
    "plt.xlabel(\"degree\")\n",
    "plt.ylabel(\"frequency\")"
   ]
  },
  {
   "cell_type": "code",
   "execution_count": 152,
   "metadata": {},
   "outputs": [
    {
     "data": {
      "text/plain": [
       "Text(0, 0.5, 'frequency')"
      ]
     },
     "execution_count": 152,
     "metadata": {},
     "output_type": "execute_result"
    },
    {
     "data": {
      "image/png": "[encoded data removed]",
      "text/plain": [
       "<Figure size 432x288 with 1 Axes>"
      ]
     },
     "metadata": {
      "needs_background": "light"
     },
     "output_type": "display_data"
    }
   ],
   "source": [
    "y_high = np.zeros(5)\n",
    "for i in high:\n",
    "    if i == 1:\n",
    "        y_high[0] += 1\n",
    "    elif i == 2:\n",
    "        y_high[1] += 1\n",
    "    elif i == 3: \n",
    "        y_high[2] += 1\n",
    "    elif i == 4:\n",
    "        y_high[3] += 1\n",
    "    elif i == 5:\n",
    "        y_high[4] += 1\n",
    "plt.bar(degrees, y_high)\n",
    "plt.title(\"high score taking lecture notes\")\n",
    "plt.xlabel(\"degree\")\n",
    "plt.ylabel(\"frequency\")"
   ]
  },
  {
   "cell_type": "code",
   "execution_count": 153,
   "metadata": {},
   "outputs": [
    {
     "data": {
      "text/plain": [
       "Text(0, 0.5, 'frequency')"
      ]
     },
     "execution_count": 153,
     "metadata": {},
     "output_type": "execute_result"
    },
    {
     "data": {
      "image/png": "[encoded data removed]",
      "text/plain": [
       "<Figure size 432x288 with 1 Axes>"
      ]
     },
     "metadata": {
      "needs_background": "light"
     },
     "output_type": "display_data"
    }
   ],
   "source": [
    "y_nice = np.zeros(5)\n",
    "for i in nice:\n",
    "    if i == 1:\n",
    "        y_nice[0] += 1\n",
    "    elif i == 2:\n",
    "        y_nice[1] += 1\n",
    "    elif i == 3: \n",
    "        y_nice[2] += 1\n",
    "    elif i == 4:\n",
    "        y_nice[3] += 1\n",
    "    elif i == 5:\n",
    "        y_nice[4] += 1\n",
    "plt.bar(degrees, y_nice)\n",
    "plt.title(\"nice score taking lecture notes\")\n",
    "plt.xlabel(\"degree\")\n",
    "plt.ylabel(\"frequency\")"
   ]
  },
  {
   "cell_type": "markdown",
   "metadata": {},
   "source": [
    "### Problem 6\n",
    "\n",
    "Did you find anything interesting in [Problem 5](#Problem-5)? If you did, tell me about it. Can you make any recommendations for us? What might we try to improve the class? Don't worry if you didn't anything — you should still tell us about what you found (negative results are results too!).\n",
    "\n",
    "It would be lovely if you could provide links to key figures in your discussion. See [this StackOverflow question](https://stackoverflow.com/questions/28080066/how-to-reference-a-ipython-notebook-cell-in-markdown) for details."
   ]
  },
  {
   "cell_type": "raw",
   "metadata": {},
   "source": [
    "# your response here\n",
    "I found that low score students tend to not take lecture notes or the group find it less helpful. Medium and high score students have mixed feelings, and nice score group is slightly more positive toward taking lecture notes. Though not a big difference, I think the data still suggests that taking lecture notes would be helpful since nice score students find it more helpful than low score students. I would say maybe make clear what should be taken down as notes in the class will help. In this way they know what to take notes on, they may find taking lecture notes helpful. "
   ]
  },
  {
   "cell_type": "markdown",
   "metadata": {},
   "source": [
    "### Problem 7\n",
    "\n",
    "One last step that we shouldn't skip is reviewing the data acquisition method. There are often times where the data you need doesn't exist and you need to go collect it. As you probably already know, making surveys is an art and we would like to here how you might change it to collect better or more information in the future. \n",
    "> `Hint` You could discuss something like this: Based on your analysis of the data set, which features were informative and which weren't? What information that was missing from this survey do you think would be helpful to have for next time?"
   ]
  },
  {
   "cell_type": "raw",
   "metadata": {},
   "source": [
    "# your response here\n",
    "For directness and neatness, I would say combine the first 12 questions into one multiple choice question that allows more than one answers, in that way the bar plot can be less overwhelming. And also I did not figure out the meaning of asking whether the students have studied with one person or a group. Not that this is an irrelevant aspect in reviewing, but you could not control these factors, so why bother? \n",
    "Also I think an additional multiple-choice survey question directly asking for students' advice would be great. The data would be neat. "
   ]
  },
  {
   "cell_type": "markdown",
   "metadata": {},
   "source": [
    "And that's it! Remember to review your work and make sure it is well presented and organized. Not everyting you coded up needs to remain in your submission. **[Does [this cell] spark joy?](https://i.kinja-img.com/gawker-media/image/upload/s--iW_3HGbT--/c_scale,dpr_2.0,f_auto,fl_progressive,q_80,w_800/oruf4oavtj5vpmvaquew.jpg)** You are always trying to communicate your findings to somebody, _maybe even yourself_."
   ]
  }
 ],
 "metadata": {
  "kernelspec": {
   "display_name": "Python 3",
   "language": "python",
   "name": "python3"
  },
  "language_info": {
   "codemirror_mode": {
    "name": "ipython",
    "version": 3
   },
   "file_extension": ".py",
   "mimetype": "text/x-python",
   "name": "python",
   "nbconvert_exporter": "python",
   "pygments_lexer": "ipython3",
   "version": "3.7.6"
  }
 },
 "nbformat": 4,
 "nbformat_minor": 4
}
