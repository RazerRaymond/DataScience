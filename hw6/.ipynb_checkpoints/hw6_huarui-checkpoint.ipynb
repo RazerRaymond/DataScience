{
 "cells": [
  {
   "cell_type": "markdown",
   "metadata": {},
   "source": [
    "# Homework 6: Exploring Study Reflection Responses 🗞"
   ]
  },
  {
   "cell_type": "markdown",
   "metadata": {},
   "source": [
    "Name:Ray Zhang\n",
    "\n",
    "Student ID:458445\n",
    "\n",
    "Collaborators:\n"
   ]
  },
  {
   "cell_type": "markdown",
   "metadata": {},
   "source": [
    "## Instructions\n",
    "\n",
    "In this homework, we will be reviewing the exploratory data analysis (EDA) process. It might be helpful to review **Lab 2 (Analyzing the MoMA Data)** first. Most of the things we ask you to do in this homework are explained in the lab. In general, you should feel free to import any package that we have previously used in class. Ensure that all plots have the necessary components that a plot should have (e.g. axes labels, a title, a legend).\n",
    "\n",
    "Additionally, note that this homework will have a slightly different structure than in the past. One of the reasons why Jupyter Notebooks are so popular in the field is because you can really treat them like notebooks to explain your findings as you discover them. In this assignment, we provide some **Problem** stubs following the EDA process and you will need to fill in the analysis and structure as you go.\n",
    "\n",
    "Furthermore, in addition to recording your collaborators on this homework, please also remember to cite/indicate all external sources used when finishing this assignment. This includes peers, TAs, and links to online sources. Note that these citations will not free you from your obligation to submit your _own_ code and write-ups, however, they will be taken into account during the grading and regrading process.\n",
    "\n",
    "### Submission instructions\n",
    "* Submit this python notebook including your answers in the code cells as homework submission.\n",
    "* **Feel free to add as many cells as you need to** — just make sure you don't change what we gave you. \n",
    "* **Does it spark joy?** Note that you will be partially graded on the presentation (_cleanliness, clarity, comments_) of your notebook so make sure you [Marie Kondo](https://lifehacker.com/marie-kondo-is-not-a-verb-1833373654) your notebook before submitting it."
   ]
  },
  {
   "cell_type": "markdown",
   "metadata": {},
   "source": [
    "## 1. Introduction\n",
    "\n",
    "For our EDA this week, we'll take a look at _anonymized_ exam study reflection responses. You will find a blank copy of the reflection survey in `utility/data` along with a CSV containing the data and a README.txt file that explains what each value represents. Our goal will be to use this dataset to gain some insight about how students study and _perhaps_ find some patterns in this data."
   ]
  },
  {
   "cell_type": "markdown",
   "metadata": {},
   "source": [
    "In general, we will be following the EDA process:\n",
    "1. Get the data and gain **basic understanding**\n",
    "2. **Wrangle** the data\n",
    "3. **Profile** the data\n",
    "4. Develop questions to investigate (form a **hypotheses**)\n",
    "5. Use the data to **investigate** hypothesis\n",
    "6. **Summarize** results and answer questions "
   ]
  },
  {
   "cell_type": "markdown",
   "metadata": {},
   "source": [
    "## 2. Getting Familiar with the Data\n",
    "\n",
    "In this section, we will get a feel for our data and tidy it up so that we can analyize it later."
   ]
  },
  {
   "cell_type": "markdown",
   "metadata": {},
   "source": [
    "### Problem 1\n",
    "\n",
    "Let's take a look at the files in `utility/data` and think about what we can and will need to do with it.\n",
    "\n",
    "**Write-up!** Describe the data in `MidtermStudyReflection.csv`, answering questions including, but not limited to, these: How many examples and features does the dataset have? What kinds of features are in the dataset? What values can these features take?\n",
    "> `Hint` Consider the steps of EDA; what would you like to know about this dataset. "
   ]
  },
  {
   "cell_type": "code",
   "execution_count": 2,
   "metadata": {},
   "outputs": [
    {
     "name": "stdout",
     "output_type": "stream",
     "text": [
      "(89, 20)\n"
     ]
    },
    {
     "data": {
      "text/html": [
       "<div>\n",
       "<style scoped>\n",
       "    .dataframe tbody tr th:only-of-type {\n",
       "        vertical-align: middle;\n",
       "    }\n",
       "\n",
       "    .dataframe tbody tr th {\n",
       "        vertical-align: top;\n",
       "    }\n",
       "\n",
       "    .dataframe thead th {\n",
       "        text-align: right;\n",
       "    }\n",
       "</style>\n",
       "<table border=\"1\" class=\"dataframe\">\n",
       "  <thead>\n",
       "    <tr style=\"text-align: right;\">\n",
       "      <th></th>\n",
       "      <th>Midterm Score</th>\n",
       "      <th>How much did you rely on the following studying methods to prepare for this exam? 1 indicates \"Not at all\" and 5 indicates \"Very heavily.\" [Reviewing slides]</th>\n",
       "      <th>How much did you rely on the following studying methods to prepare for this exam? 1 indicates \"Not at all\" and 5 indicates \"Very heavily.\" [Attending lecture]</th>\n",
       "      <th>How much did you rely on the following studying methods to prepare for this exam? 1 indicates \"Not at all\" and 5 indicates \"Very heavily.\" [Taking lecture notes]</th>\n",
       "      <th>How much did you rely on the following studying methods to prepare for this exam? 1 indicates \"Not at all\" and 5 indicates \"Very heavily.\" [Reviewing lecture notes]</th>\n",
       "      <th>How much did you rely on the following studying methods to prepare for this exam? 1 indicates \"Not at all\" and 5 indicates \"Very heavily.\" [Completing assigned readings]</th>\n",
       "      <th>How much did you rely on the following studying methods to prepare for this exam? 1 indicates \"Not at all\" and 5 indicates \"Very heavily.\" [Attending a study group]</th>\n",
       "      <th>How much did you rely on the following studying methods to prepare for this exam? 1 indicates \"Not at all\" and 5 indicates \"Very heavily.\" [Talking with a professor / TA]</th>\n",
       "      <th>How much did you rely on the following studying methods to prepare for this exam? 1 indicates \"Not at all\" and 5 indicates \"Very heavily.\" [Reviewing homeworks]</th>\n",
       "      <th>How much did you rely on the following studying methods to prepare for this exam? 1 indicates \"Not at all\" and 5 indicates \"Very heavily.\" [Reviewing labs]</th>\n",
       "      <th>Who did you study with? (1 indicates \"Not at all\" and 5 indicates \"Very heavily.\") [One other student from class]</th>\n",
       "      <th>How much did you rely on the following studying methods to prepare for this exam? 1 indicates \"Not at all\" and 5 indicates \"Very heavily.\" [Reviewing past quizzes]</th>\n",
       "      <th>How much did you rely on the following studying methods to prepare for this exam? 1 indicates \"Not at all\" and 5 indicates \"Very heavily.\" [Completing worksheet problems]</th>\n",
       "      <th>Who did you study with? (1 indicates \"Not at all\" and 5 indicates \"Very heavily.\") [Study group with other students/friends]</th>\n",
       "      <th>Who did you study with? (1 indicates \"Not at all\" and 5 indicates \"Very heavily.\") [Alone]</th>\n",
       "      <th>How many hours in total did you study for this exam? (Answer using numerals, e.g. \"5\" and not \"five\")</th>\n",
       "      <th>Who did you study with? (1 indicates \"Not at all\" and 5 indicates \"Very heavily.\") [Tutor / friend not in this class]</th>\n",
       "      <th>What was the hardest concept to grasp?</th>\n",
       "      <th>How many days before the exam did you start studying? (Answer using numerals, e.g. \"5\" and not \"five\")</th>\n",
       "      <th>Why was it hard? (Please note this question is optional)</th>\n",
       "    </tr>\n",
       "  </thead>\n",
       "  <tbody>\n",
       "    <tr>\n",
       "      <th>0</th>\n",
       "      <td>59.5</td>\n",
       "      <td>2</td>\n",
       "      <td>5</td>\n",
       "      <td>3</td>\n",
       "      <td>2</td>\n",
       "      <td>1</td>\n",
       "      <td>1</td>\n",
       "      <td>1</td>\n",
       "      <td>2</td>\n",
       "      <td>4</td>\n",
       "      <td>3</td>\n",
       "      <td>1</td>\n",
       "      <td>5</td>\n",
       "      <td>1</td>\n",
       "      <td>5</td>\n",
       "      <td>2.0</td>\n",
       "      <td>1</td>\n",
       "      <td>Logistic Regression</td>\n",
       "      <td>5</td>\n",
       "      <td>simply don't remember</td>\n",
       "    </tr>\n",
       "    <tr>\n",
       "      <th>1</th>\n",
       "      <td>81.0</td>\n",
       "      <td>1</td>\n",
       "      <td>1</td>\n",
       "      <td>1</td>\n",
       "      <td>1</td>\n",
       "      <td>1</td>\n",
       "      <td>1</td>\n",
       "      <td>1</td>\n",
       "      <td>1</td>\n",
       "      <td>1</td>\n",
       "      <td>1</td>\n",
       "      <td>1</td>\n",
       "      <td>1</td>\n",
       "      <td>1</td>\n",
       "      <td>5</td>\n",
       "      <td>0.0</td>\n",
       "      <td>1</td>\n",
       "      <td>Logistic Regression</td>\n",
       "      <td>0</td>\n",
       "      <td>NaN</td>\n",
       "    </tr>\n",
       "    <tr>\n",
       "      <th>2</th>\n",
       "      <td>72.5</td>\n",
       "      <td>5</td>\n",
       "      <td>2</td>\n",
       "      <td>1</td>\n",
       "      <td>2</td>\n",
       "      <td>1</td>\n",
       "      <td>3</td>\n",
       "      <td>2</td>\n",
       "      <td>3</td>\n",
       "      <td>4</td>\n",
       "      <td>2</td>\n",
       "      <td>4</td>\n",
       "      <td>1</td>\n",
       "      <td>3</td>\n",
       "      <td>4</td>\n",
       "      <td>6.0</td>\n",
       "      <td>1</td>\n",
       "      <td>Logistic Regression</td>\n",
       "      <td>1</td>\n",
       "      <td>Wasn't explained clearly</td>\n",
       "    </tr>\n",
       "    <tr>\n",
       "      <th>3</th>\n",
       "      <td>74.5</td>\n",
       "      <td>4</td>\n",
       "      <td>4</td>\n",
       "      <td>4</td>\n",
       "      <td>4</td>\n",
       "      <td>1</td>\n",
       "      <td>1</td>\n",
       "      <td>1</td>\n",
       "      <td>3</td>\n",
       "      <td>3</td>\n",
       "      <td>4</td>\n",
       "      <td>1</td>\n",
       "      <td>3</td>\n",
       "      <td>1</td>\n",
       "      <td>4</td>\n",
       "      <td>5.0</td>\n",
       "      <td>1</td>\n",
       "      <td>Logistic Regression</td>\n",
       "      <td>1</td>\n",
       "      <td>Wasn't explained clearly</td>\n",
       "    </tr>\n",
       "    <tr>\n",
       "      <th>4</th>\n",
       "      <td>67.5</td>\n",
       "      <td>3</td>\n",
       "      <td>5</td>\n",
       "      <td>1</td>\n",
       "      <td>1</td>\n",
       "      <td>1</td>\n",
       "      <td>1</td>\n",
       "      <td>3</td>\n",
       "      <td>4</td>\n",
       "      <td>3</td>\n",
       "      <td>1</td>\n",
       "      <td>2</td>\n",
       "      <td>4</td>\n",
       "      <td>1</td>\n",
       "      <td>5</td>\n",
       "      <td>5.0</td>\n",
       "      <td>1</td>\n",
       "      <td>Logistic Regression</td>\n",
       "      <td>4</td>\n",
       "      <td>Math was hard, don't have much math background</td>\n",
       "    </tr>\n",
       "  </tbody>\n",
       "</table>\n",
       "</div>"
      ],
      "text/plain": [
       "   Midterm Score  \\\n",
       "0           59.5   \n",
       "1           81.0   \n",
       "2           72.5   \n",
       "3           74.5   \n",
       "4           67.5   \n",
       "\n",
       "   How much did you rely on the following studying methods to prepare for this exam? 1 indicates \"Not at all\" and 5 indicates \"Very heavily.\" [Reviewing slides]  \\\n",
       "0                                                  2                                                                                                               \n",
       "1                                                  1                                                                                                               \n",
       "2                                                  5                                                                                                               \n",
       "3                                                  4                                                                                                               \n",
       "4                                                  3                                                                                                               \n",
       "\n",
       "   How much did you rely on the following studying methods to prepare for this exam? 1 indicates \"Not at all\" and 5 indicates \"Very heavily.\" [Attending lecture]  \\\n",
       "0                                                  5                                                                                                                \n",
       "1                                                  1                                                                                                                \n",
       "2                                                  2                                                                                                                \n",
       "3                                                  4                                                                                                                \n",
       "4                                                  5                                                                                                                \n",
       "\n",
       "   How much did you rely on the following studying methods to prepare for this exam? 1 indicates \"Not at all\" and 5 indicates \"Very heavily.\" [Taking lecture notes]  \\\n",
       "0                                                  3                                                                                                                   \n",
       "1                                                  1                                                                                                                   \n",
       "2                                                  1                                                                                                                   \n",
       "3                                                  4                                                                                                                   \n",
       "4                                                  1                                                                                                                   \n",
       "\n",
       "   How much did you rely on the following studying methods to prepare for this exam? 1 indicates \"Not at all\" and 5 indicates \"Very heavily.\" [Reviewing lecture notes]  \\\n",
       "0                                                  2                                                                                                                      \n",
       "1                                                  1                                                                                                                      \n",
       "2                                                  2                                                                                                                      \n",
       "3                                                  4                                                                                                                      \n",
       "4                                                  1                                                                                                                      \n",
       "\n",
       "   How much did you rely on the following studying methods to prepare for this exam? 1 indicates \"Not at all\" and 5 indicates \"Very heavily.\" [Completing assigned readings]  \\\n",
       "0                                                  1                                                                                                                           \n",
       "1                                                  1                                                                                                                           \n",
       "2                                                  1                                                                                                                           \n",
       "3                                                  1                                                                                                                           \n",
       "4                                                  1                                                                                                                           \n",
       "\n",
       "   How much did you rely on the following studying methods to prepare for this exam? 1 indicates \"Not at all\" and 5 indicates \"Very heavily.\" [Attending a study group]  \\\n",
       "0                                                  1                                                                                                                      \n",
       "1                                                  1                                                                                                                      \n",
       "2                                                  3                                                                                                                      \n",
       "3                                                  1                                                                                                                      \n",
       "4                                                  1                                                                                                                      \n",
       "\n",
       "   How much did you rely on the following studying methods to prepare for this exam? 1 indicates \"Not at all\" and 5 indicates \"Very heavily.\" [Talking with a professor / TA]  \\\n",
       "0                                                  1                                                                                                                            \n",
       "1                                                  1                                                                                                                            \n",
       "2                                                  2                                                                                                                            \n",
       "3                                                  1                                                                                                                            \n",
       "4                                                  3                                                                                                                            \n",
       "\n",
       "   How much did you rely on the following studying methods to prepare for this exam? 1 indicates \"Not at all\" and 5 indicates \"Very heavily.\" [Reviewing homeworks]  \\\n",
       "0                                                  2                                                                                                                  \n",
       "1                                                  1                                                                                                                  \n",
       "2                                                  3                                                                                                                  \n",
       "3                                                  3                                                                                                                  \n",
       "4                                                  4                                                                                                                  \n",
       "\n",
       "   How much did you rely on the following studying methods to prepare for this exam? 1 indicates \"Not at all\" and 5 indicates \"Very heavily.\" [Reviewing labs]  \\\n",
       "0                                                  4                                                                                                             \n",
       "1                                                  1                                                                                                             \n",
       "2                                                  4                                                                                                             \n",
       "3                                                  3                                                                                                             \n",
       "4                                                  3                                                                                                             \n",
       "\n",
       "   Who did you study with? (1 indicates \"Not at all\" and 5 indicates \"Very heavily.\") [One other student from class]  \\\n",
       "0                                                  3                                                                   \n",
       "1                                                  1                                                                   \n",
       "2                                                  2                                                                   \n",
       "3                                                  4                                                                   \n",
       "4                                                  1                                                                   \n",
       "\n",
       "   How much did you rely on the following studying methods to prepare for this exam? 1 indicates \"Not at all\" and 5 indicates \"Very heavily.\" [Reviewing past quizzes]  \\\n",
       "0                                                  1                                                                                                                     \n",
       "1                                                  1                                                                                                                     \n",
       "2                                                  4                                                                                                                     \n",
       "3                                                  1                                                                                                                     \n",
       "4                                                  2                                                                                                                     \n",
       "\n",
       "   How much did you rely on the following studying methods to prepare for this exam? 1 indicates \"Not at all\" and 5 indicates \"Very heavily.\" [Completing worksheet problems]  \\\n",
       "0                                                  5                                                                                                                            \n",
       "1                                                  1                                                                                                                            \n",
       "2                                                  1                                                                                                                            \n",
       "3                                                  3                                                                                                                            \n",
       "4                                                  4                                                                                                                            \n",
       "\n",
       "   Who did you study with? (1 indicates \"Not at all\" and 5 indicates \"Very heavily.\") [Study group with other students/friends]  \\\n",
       "0                                                  1                                                                              \n",
       "1                                                  1                                                                              \n",
       "2                                                  3                                                                              \n",
       "3                                                  1                                                                              \n",
       "4                                                  1                                                                              \n",
       "\n",
       "   Who did you study with? (1 indicates \"Not at all\" and 5 indicates \"Very heavily.\") [Alone]  \\\n",
       "0                                                  5                                            \n",
       "1                                                  5                                            \n",
       "2                                                  4                                            \n",
       "3                                                  4                                            \n",
       "4                                                  5                                            \n",
       "\n",
       "   How many hours in total did you study for this exam? (Answer using numerals, e.g. \"5\" and not \"five\")  \\\n",
       "0                                                2.0                                                       \n",
       "1                                                0.0                                                       \n",
       "2                                                6.0                                                       \n",
       "3                                                5.0                                                       \n",
       "4                                                5.0                                                       \n",
       "\n",
       "   Who did you study with? (1 indicates \"Not at all\" and 5 indicates \"Very heavily.\") [Tutor / friend not in this class]  \\\n",
       "0                                                  1                                                                       \n",
       "1                                                  1                                                                       \n",
       "2                                                  1                                                                       \n",
       "3                                                  1                                                                       \n",
       "4                                                  1                                                                       \n",
       "\n",
       "  What was the hardest concept to grasp?  \\\n",
       "0                    Logistic Regression   \n",
       "1                    Logistic Regression   \n",
       "2                    Logistic Regression   \n",
       "3                    Logistic Regression   \n",
       "4                    Logistic Regression   \n",
       "\n",
       "   How many days before the exam did you start studying? (Answer using numerals, e.g. \"5\" and not \"five\")  \\\n",
       "0                                                  5                                                        \n",
       "1                                                  0                                                        \n",
       "2                                                  1                                                        \n",
       "3                                                  1                                                        \n",
       "4                                                  4                                                        \n",
       "\n",
       "  Why was it hard? (Please note this question is optional)  \n",
       "0                              simply don't remember        \n",
       "1                                                NaN        \n",
       "2                           Wasn't explained clearly        \n",
       "3                           Wasn't explained clearly        \n",
       "4     Math was hard, don't have much math background        "
      ]
     },
     "execution_count": 2,
     "metadata": {},
     "output_type": "execute_result"
    }
   ],
   "source": [
    "# basic wrangling\n",
    "import pandas as pd\n",
    "from utility.util import clean_columns\n",
    "\n",
    "# plotting\n",
    "from matplotlib import pyplot as plt\n",
    "import numpy as np\n",
    "\n",
    "#load and check the head of the data\n",
    "data = pd.read_csv(\"./utility/data/MidtermStudyReflection.csv\")\n",
    "print(data.shape)\n",
    "data.head()"
   ]
  },
  {
   "cell_type": "raw",
   "metadata": {},
   "source": [
    "# your response here\n",
    "As we can see, the output of the shape method indicating there is 89 datapoints and each of them have 20 features.\n",
    "Of all the features, midterm score, and the hours of study and hours before exam to review are floats. Midterm score ranging from -1 to 105 of stepping between 0.5. 15 of the survey questions are response of 5 levels of degree of agreements taking discrete numerical values 1, 2, 3, 4, 5; And there are two questions categorical values one is the hardest part of the exam with choice of strings (e.g. data science workflow, sentiment analysis, and learning principles), and Why is it hard, answer is also a string by user."
   ]
  },
  {
   "cell_type": "markdown",
   "metadata": {},
   "source": [
    "### Problem 2\n",
    "\n",
    "Let's do some data wrangling. Considering your description of the dataset from [Problem 1](#Problem-1), how should we clean this data?\n",
    "\n",
    "In the cells below, explain and perform the steps that you need to prepare this data for further analysis. Make sure that your analysis and work is presented well and effectively communicates your work. \n",
    "> `Hint` While our labs are not perfect, you can use them as an example of how you might do this. \n",
    "Also, you might want to come back to this step later on, since you might encounter problems with the data once you actually analyze it. Remember, you may add as many cells (for code and text) as you need below. Here — we gave you one for free!"
   ]
  },
  {
   "cell_type": "code",
   "execution_count": 3,
   "metadata": {},
   "outputs": [
    {
     "data": {
      "text/html": [
       "<div>\n",
       "<style scoped>\n",
       "    .dataframe tbody tr th:only-of-type {\n",
       "        vertical-align: middle;\n",
       "    }\n",
       "\n",
       "    .dataframe tbody tr th {\n",
       "        vertical-align: top;\n",
       "    }\n",
       "\n",
       "    .dataframe thead th {\n",
       "        text-align: right;\n",
       "    }\n",
       "</style>\n",
       "<table border=\"1\" class=\"dataframe\">\n",
       "  <thead>\n",
       "    <tr style=\"text-align: right;\">\n",
       "      <th></th>\n",
       "      <th>test_score</th>\n",
       "      <th>Review_slides_score</th>\n",
       "      <th>attend_lectures_score</th>\n",
       "      <th>take_notes_score</th>\n",
       "      <th>review_notes_score</th>\n",
       "      <th>complete_readings_score</th>\n",
       "      <th>attend_study_group_score</th>\n",
       "      <th>talk_to_instructors_score</th>\n",
       "      <th>review_homeworks_score</th>\n",
       "      <th>review_labs_score</th>\n",
       "      <th>study_with_another_student_score</th>\n",
       "      <th>past_quizzes_score</th>\n",
       "      <th>complete_worksheets_score</th>\n",
       "      <th>study_with_groups_score</th>\n",
       "      <th>study_alone_score</th>\n",
       "      <th>prep_hours</th>\n",
       "      <th>study_with_tutors_score</th>\n",
       "      <th>hardest</th>\n",
       "      <th>days_start_reviewing</th>\n",
       "      <th>reason_hard</th>\n",
       "    </tr>\n",
       "  </thead>\n",
       "  <tbody>\n",
       "    <tr>\n",
       "      <th>0</th>\n",
       "      <td>59.5</td>\n",
       "      <td>2</td>\n",
       "      <td>5</td>\n",
       "      <td>3</td>\n",
       "      <td>2</td>\n",
       "      <td>1</td>\n",
       "      <td>1</td>\n",
       "      <td>1</td>\n",
       "      <td>2</td>\n",
       "      <td>4</td>\n",
       "      <td>3</td>\n",
       "      <td>1</td>\n",
       "      <td>5</td>\n",
       "      <td>1</td>\n",
       "      <td>5</td>\n",
       "      <td>2.0</td>\n",
       "      <td>1</td>\n",
       "      <td>Logistic Regression</td>\n",
       "      <td>5</td>\n",
       "      <td>simply don't remember</td>\n",
       "    </tr>\n",
       "    <tr>\n",
       "      <th>1</th>\n",
       "      <td>81.0</td>\n",
       "      <td>1</td>\n",
       "      <td>1</td>\n",
       "      <td>1</td>\n",
       "      <td>1</td>\n",
       "      <td>1</td>\n",
       "      <td>1</td>\n",
       "      <td>1</td>\n",
       "      <td>1</td>\n",
       "      <td>1</td>\n",
       "      <td>1</td>\n",
       "      <td>1</td>\n",
       "      <td>1</td>\n",
       "      <td>1</td>\n",
       "      <td>5</td>\n",
       "      <td>0.0</td>\n",
       "      <td>1</td>\n",
       "      <td>Logistic Regression</td>\n",
       "      <td>0</td>\n",
       "      <td>NaN</td>\n",
       "    </tr>\n",
       "    <tr>\n",
       "      <th>2</th>\n",
       "      <td>72.5</td>\n",
       "      <td>5</td>\n",
       "      <td>2</td>\n",
       "      <td>1</td>\n",
       "      <td>2</td>\n",
       "      <td>1</td>\n",
       "      <td>3</td>\n",
       "      <td>2</td>\n",
       "      <td>3</td>\n",
       "      <td>4</td>\n",
       "      <td>2</td>\n",
       "      <td>4</td>\n",
       "      <td>1</td>\n",
       "      <td>3</td>\n",
       "      <td>4</td>\n",
       "      <td>6.0</td>\n",
       "      <td>1</td>\n",
       "      <td>Logistic Regression</td>\n",
       "      <td>1</td>\n",
       "      <td>Wasn't explained clearly</td>\n",
       "    </tr>\n",
       "    <tr>\n",
       "      <th>3</th>\n",
       "      <td>74.5</td>\n",
       "      <td>4</td>\n",
       "      <td>4</td>\n",
       "      <td>4</td>\n",
       "      <td>4</td>\n",
       "      <td>1</td>\n",
       "      <td>1</td>\n",
       "      <td>1</td>\n",
       "      <td>3</td>\n",
       "      <td>3</td>\n",
       "      <td>4</td>\n",
       "      <td>1</td>\n",
       "      <td>3</td>\n",
       "      <td>1</td>\n",
       "      <td>4</td>\n",
       "      <td>5.0</td>\n",
       "      <td>1</td>\n",
       "      <td>Logistic Regression</td>\n",
       "      <td>1</td>\n",
       "      <td>Wasn't explained clearly</td>\n",
       "    </tr>\n",
       "    <tr>\n",
       "      <th>4</th>\n",
       "      <td>67.5</td>\n",
       "      <td>3</td>\n",
       "      <td>5</td>\n",
       "      <td>1</td>\n",
       "      <td>1</td>\n",
       "      <td>1</td>\n",
       "      <td>1</td>\n",
       "      <td>3</td>\n",
       "      <td>4</td>\n",
       "      <td>3</td>\n",
       "      <td>1</td>\n",
       "      <td>2</td>\n",
       "      <td>4</td>\n",
       "      <td>1</td>\n",
       "      <td>5</td>\n",
       "      <td>5.0</td>\n",
       "      <td>1</td>\n",
       "      <td>Logistic Regression</td>\n",
       "      <td>4</td>\n",
       "      <td>Math was hard, don't have much math background</td>\n",
       "    </tr>\n",
       "    <tr>\n",
       "      <th>...</th>\n",
       "      <td>...</td>\n",
       "      <td>...</td>\n",
       "      <td>...</td>\n",
       "      <td>...</td>\n",
       "      <td>...</td>\n",
       "      <td>...</td>\n",
       "      <td>...</td>\n",
       "      <td>...</td>\n",
       "      <td>...</td>\n",
       "      <td>...</td>\n",
       "      <td>...</td>\n",
       "      <td>...</td>\n",
       "      <td>...</td>\n",
       "      <td>...</td>\n",
       "      <td>...</td>\n",
       "      <td>...</td>\n",
       "      <td>...</td>\n",
       "      <td>...</td>\n",
       "      <td>...</td>\n",
       "      <td>...</td>\n",
       "    </tr>\n",
       "    <tr>\n",
       "      <th>84</th>\n",
       "      <td>70.5</td>\n",
       "      <td>4</td>\n",
       "      <td>3</td>\n",
       "      <td>1</td>\n",
       "      <td>2</td>\n",
       "      <td>1</td>\n",
       "      <td>3</td>\n",
       "      <td>3</td>\n",
       "      <td>3</td>\n",
       "      <td>2</td>\n",
       "      <td>1</td>\n",
       "      <td>2</td>\n",
       "      <td>4</td>\n",
       "      <td>4</td>\n",
       "      <td>2</td>\n",
       "      <td>5.0</td>\n",
       "      <td>1</td>\n",
       "      <td>Logistic Regression</td>\n",
       "      <td>1</td>\n",
       "      <td>Wasn't explained clearly</td>\n",
       "    </tr>\n",
       "    <tr>\n",
       "      <th>85</th>\n",
       "      <td>83.5</td>\n",
       "      <td>5</td>\n",
       "      <td>2</td>\n",
       "      <td>2</td>\n",
       "      <td>3</td>\n",
       "      <td>1</td>\n",
       "      <td>3</td>\n",
       "      <td>1</td>\n",
       "      <td>5</td>\n",
       "      <td>5</td>\n",
       "      <td>1</td>\n",
       "      <td>1</td>\n",
       "      <td>5</td>\n",
       "      <td>5</td>\n",
       "      <td>1</td>\n",
       "      <td>10.0</td>\n",
       "      <td>1</td>\n",
       "      <td>Logistic Regression</td>\n",
       "      <td>3</td>\n",
       "      <td>Have unanswered questions still lingering</td>\n",
       "    </tr>\n",
       "    <tr>\n",
       "      <th>86</th>\n",
       "      <td>81.5</td>\n",
       "      <td>5</td>\n",
       "      <td>4</td>\n",
       "      <td>3</td>\n",
       "      <td>4</td>\n",
       "      <td>1</td>\n",
       "      <td>5</td>\n",
       "      <td>1</td>\n",
       "      <td>1</td>\n",
       "      <td>1</td>\n",
       "      <td>4</td>\n",
       "      <td>1</td>\n",
       "      <td>5</td>\n",
       "      <td>4</td>\n",
       "      <td>4</td>\n",
       "      <td>4.0</td>\n",
       "      <td>1</td>\n",
       "      <td>Learning Principles</td>\n",
       "      <td>1</td>\n",
       "      <td>Have unanswered questions still lingering</td>\n",
       "    </tr>\n",
       "    <tr>\n",
       "      <th>87</th>\n",
       "      <td>80.5</td>\n",
       "      <td>5</td>\n",
       "      <td>4</td>\n",
       "      <td>4</td>\n",
       "      <td>5</td>\n",
       "      <td>3</td>\n",
       "      <td>2</td>\n",
       "      <td>3</td>\n",
       "      <td>4</td>\n",
       "      <td>3</td>\n",
       "      <td>2</td>\n",
       "      <td>2</td>\n",
       "      <td>5</td>\n",
       "      <td>2</td>\n",
       "      <td>5</td>\n",
       "      <td>10.0</td>\n",
       "      <td>1</td>\n",
       "      <td>Logistic Regression</td>\n",
       "      <td>2</td>\n",
       "      <td>Didn't have enough time to understand</td>\n",
       "    </tr>\n",
       "    <tr>\n",
       "      <th>88</th>\n",
       "      <td>65.5</td>\n",
       "      <td>5</td>\n",
       "      <td>4</td>\n",
       "      <td>4</td>\n",
       "      <td>4</td>\n",
       "      <td>3</td>\n",
       "      <td>2</td>\n",
       "      <td>2</td>\n",
       "      <td>5</td>\n",
       "      <td>5</td>\n",
       "      <td>1</td>\n",
       "      <td>4</td>\n",
       "      <td>4</td>\n",
       "      <td>1</td>\n",
       "      <td>5</td>\n",
       "      <td>7.0</td>\n",
       "      <td>1</td>\n",
       "      <td>Learning Principles</td>\n",
       "      <td>2</td>\n",
       "      <td>Didn't have enough time to understand</td>\n",
       "    </tr>\n",
       "  </tbody>\n",
       "</table>\n",
       "<p>87 rows × 20 columns</p>\n",
       "</div>"
      ],
      "text/plain": [
       "    test_score  Review_slides_score  attend_lectures_score  take_notes_score  \\\n",
       "0         59.5                    2                      5                 3   \n",
       "1         81.0                    1                      1                 1   \n",
       "2         72.5                    5                      2                 1   \n",
       "3         74.5                    4                      4                 4   \n",
       "4         67.5                    3                      5                 1   \n",
       "..         ...                  ...                    ...               ...   \n",
       "84        70.5                    4                      3                 1   \n",
       "85        83.5                    5                      2                 2   \n",
       "86        81.5                    5                      4                 3   \n",
       "87        80.5                    5                      4                 4   \n",
       "88        65.5                    5                      4                 4   \n",
       "\n",
       "    review_notes_score  complete_readings_score  attend_study_group_score  \\\n",
       "0                    2                        1                         1   \n",
       "1                    1                        1                         1   \n",
       "2                    2                        1                         3   \n",
       "3                    4                        1                         1   \n",
       "4                    1                        1                         1   \n",
       "..                 ...                      ...                       ...   \n",
       "84                   2                        1                         3   \n",
       "85                   3                        1                         3   \n",
       "86                   4                        1                         5   \n",
       "87                   5                        3                         2   \n",
       "88                   4                        3                         2   \n",
       "\n",
       "    talk_to_instructors_score  review_homeworks_score  review_labs_score  \\\n",
       "0                           1                       2                  4   \n",
       "1                           1                       1                  1   \n",
       "2                           2                       3                  4   \n",
       "3                           1                       3                  3   \n",
       "4                           3                       4                  3   \n",
       "..                        ...                     ...                ...   \n",
       "84                          3                       3                  2   \n",
       "85                          1                       5                  5   \n",
       "86                          1                       1                  1   \n",
       "87                          3                       4                  3   \n",
       "88                          2                       5                  5   \n",
       "\n",
       "    study_with_another_student_score  past_quizzes_score  \\\n",
       "0                                  3                   1   \n",
       "1                                  1                   1   \n",
       "2                                  2                   4   \n",
       "3                                  4                   1   \n",
       "4                                  1                   2   \n",
       "..                               ...                 ...   \n",
       "84                                 1                   2   \n",
       "85                                 1                   1   \n",
       "86                                 4                   1   \n",
       "87                                 2                   2   \n",
       "88                                 1                   4   \n",
       "\n",
       "    complete_worksheets_score  study_with_groups_score  study_alone_score  \\\n",
       "0                           5                        1                  5   \n",
       "1                           1                        1                  5   \n",
       "2                           1                        3                  4   \n",
       "3                           3                        1                  4   \n",
       "4                           4                        1                  5   \n",
       "..                        ...                      ...                ...   \n",
       "84                          4                        4                  2   \n",
       "85                          5                        5                  1   \n",
       "86                          5                        4                  4   \n",
       "87                          5                        2                  5   \n",
       "88                          4                        1                  5   \n",
       "\n",
       "    prep_hours  study_with_tutors_score              hardest  \\\n",
       "0          2.0                        1  Logistic Regression   \n",
       "1          0.0                        1  Logistic Regression   \n",
       "2          6.0                        1  Logistic Regression   \n",
       "3          5.0                        1  Logistic Regression   \n",
       "4          5.0                        1  Logistic Regression   \n",
       "..         ...                      ...                  ...   \n",
       "84         5.0                        1  Logistic Regression   \n",
       "85        10.0                        1  Logistic Regression   \n",
       "86         4.0                        1  Learning Principles   \n",
       "87        10.0                        1  Logistic Regression   \n",
       "88         7.0                        1  Learning Principles   \n",
       "\n",
       "    days_start_reviewing                                     reason_hard  \n",
       "0                      5                           simply don't remember  \n",
       "1                      0                                             NaN  \n",
       "2                      1                        Wasn't explained clearly  \n",
       "3                      1                        Wasn't explained clearly  \n",
       "4                      4  Math was hard, don't have much math background  \n",
       "..                   ...                                             ...  \n",
       "84                     1                        Wasn't explained clearly  \n",
       "85                     3       Have unanswered questions still lingering  \n",
       "86                     1       Have unanswered questions still lingering  \n",
       "87                     2           Didn't have enough time to understand  \n",
       "88                     2           Didn't have enough time to understand  \n",
       "\n",
       "[87 rows x 20 columns]"
      ]
     },
     "execution_count": 3,
     "metadata": {},
     "output_type": "execute_result"
    }
   ],
   "source": [
    "# this one is free!\n",
    "\n",
    "data = clean_columns(data)\n",
    "\n",
    "#rename columns\n",
    "data.columns = ['test_score', 'Review_slides_score', 'attend_lectures_score', 'take_notes_score', 'review_notes_score', 'complete_readings_score', 'attend_study_group_score', \n",
    "                              'talk_to_instructors_score', 'review_homeworks_score', 'review_labs_score', 'study_with_another_student_score', 'past_quizzes_score', 'complete_worksheets_score', \n",
    "                              'study_with_groups_score', 'study_alone_score', 'prep_hours', 'study_with_tutors_score', 'hardest', 'days_start_reviewing', 'reason_hard']\n",
    "# clean noise in test score\n",
    "data = data[data['test_score']<=105]\n",
    "data = data[data['test_score']>0]\n",
    "\n",
    "data"
   ]
  },
  {
   "cell_type": "markdown",
   "metadata": {},
   "source": [
    "### Problem 3\n",
    "\n",
    "Now that we cleaned up our data, we are ready to look into it. In this problem, we want to profile our data and explore single variables.\n",
    "> `Hint` Note that the way the data is stored does not necesarily mean that each column should correspond to a seperate variable. Feel free to define your own variables based on the input data. Looking at the study reflection form might be helpful to figure out meaningful representations. Also note that there is no right or wrong representation here (since it is your job to find something interesting in the data, it is also up to you to choose  the data representation). Again, you might want to iterate over this step again later after doing some more exploration. \n",
    "\n",
    "Recall from Lab 2, this step usually involves computing summary statistics and basic plots _where applicable_. Try plotting some of the data (with appropriate plots). Then, highlight a few of the more interesting ones and discuss why you thought they were interesting — for both our sakes, **please only include the most interesting ones** in your actual submission. \n",
    "\n",
    "Once again, we have provided a _free_ cell for you to use; make as many as you need. Use text cells to describe what you are doing and what your findings are. "
   ]
  },
  {
   "cell_type": "code",
   "execution_count": 4,
   "metadata": {},
   "outputs": [
    {
     "data": {
      "image/png": "[encoded data removed]",
      "text/plain": [
       "<Figure size 432x288 with 1 Axes>"
      ]
     },
     "metadata": {
      "needs_background": "light"
     },
     "output_type": "display_data"
    },
    {
     "name": "stdout",
     "output_type": "stream",
     "text": [
      "mean: 79.72988505747126\n",
      "max: 96.5\n",
      "min: 57.0\n",
      "standard deviation: 8.823134428842467\n"
     ]
    }
   ],
   "source": [
    "# this one is also free!\n",
    "#plot histogram and show statistics for test score\n",
    "plt.hist(data.test_score, bins = 20)\n",
    "plt.title(\"Midterm Test Score\")\n",
    "plt.xlabel(\"Score\")\n",
    "plt.ylabel(\"Number of students\")\n",
    "plt.show()\n",
    "print(f'mean: {data[\"test_score\"].mean()}')\n",
    "print(f'max: {data[\"test_score\"].max()}')\n",
    "print(f'min: {data[\"test_score\"].min()}')\n",
    "print(f'standard deviation: {data[\"test_score\"].std()}')\n"
   ]
  },
  {
   "cell_type": "code",
   "execution_count": 5,
   "metadata": {},
   "outputs": [
    {
     "data": {
      "text/plain": [
       "Text(0.5, 1.0, 'reviewing lecture notes')"
      ]
     },
     "execution_count": 5,
     "metadata": {},
     "output_type": "execute_result"
    },
    {
     "data": {
      "image/png": "[encoded data removed]",
      "text/plain": [
       "<Figure size 432x288 with 1 Axes>"
      ]
     },
     "metadata": {
      "needs_background": "light"
     },
     "output_type": "display_data"
    }
   ],
   "source": [
    "#plot the histogram for rating of reviewing lecture notes\n",
    "plt.hist(data.iloc[:,4])\n",
    "plt.title(\"reviewing lecture notes\")"
   ]
  },
  {
   "cell_type": "code",
   "execution_count": 6,
   "metadata": {},
   "outputs": [
    {
     "data": {
      "text/plain": [
       "Text(0.5, 1.0, 'completing assigned readings')"
      ]
     },
     "execution_count": 6,
     "metadata": {},
     "output_type": "execute_result"
    },
    {
     "data": {
      "image/png": "[encoded data removed]",
      "text/plain": [
       "<Figure size 432x288 with 1 Axes>"
      ]
     },
     "metadata": {
      "needs_background": "light"
     },
     "output_type": "display_data"
    }
   ],
   "source": [
    "#plot the histogram for rating of completing assigned readings\n",
    "plt.hist(data.iloc[:,5])\n",
    "plt.title(\"completing assigned readings\")"
   ]
  },
  {
   "cell_type": "code",
   "execution_count": 7,
   "metadata": {},
   "outputs": [
    {
     "data": {
      "text/plain": [
       "Text(0.5, 1.0, 'reviewing labs')"
      ]
     },
     "execution_count": 7,
     "metadata": {},
     "output_type": "execute_result"
    },
    {
     "data": {
      "image/png": "[encoded data removed]",
      "text/plain": [
       "<Figure size 432x288 with 1 Axes>"
      ]
     },
     "metadata": {
      "needs_background": "light"
     },
     "output_type": "display_data"
    }
   ],
   "source": [
    "#plot the histogram for rating of reviewing labs\n",
    "plt.hist(data.iloc[:,9])\n",
    "plt.title(\"reviewing labs\")"
   ]
  },
  {
   "cell_type": "code",
   "execution_count": 8,
   "metadata": {},
   "outputs": [
    {
     "data": {
      "text/plain": [
       "Text(0.5, 1.0, 'comparison for lecture notes and reading')"
      ]
     },
     "execution_count": 8,
     "metadata": {},
     "output_type": "execute_result"
    },
    {
     "data": {
      "image/png": "[encoded data removed]",
      "text/plain": [
       "<Figure size 432x288 with 1 Axes>"
      ]
     },
     "metadata": {
      "needs_background": "light"
     },
     "output_type": "display_data"
    }
   ],
   "source": [
    "#plot the histogram for comparison\n",
    "x=data.iloc[:,4]\n",
    "y=data.iloc[:,5]\n",
    "z=data.iloc[:,9]\n",
    "plt.hist([x,y,z])\n",
    "plt.show\n",
    "plt.title(\"comparison for lecture notes and reading\")"
   ]
  },
  {
   "cell_type": "markdown",
   "metadata": {},
   "source": [
    "## Answer\n",
    "\n",
    "I first did a little deep insight of the midterm score. As we can tell, the distribution has a min of 57, a max of 96.5, thus a range of 39.5 is skewed to the left as the median is larger than the mean. Also there are several outliers exist.\n",
    "\n",
    "Also, I plotted the survey's result about students rating about three different study methods review lecture notes, redo the reading, and reviewing the labs - which I personally used. I wonder how my peers react to those methods. In order to compare those three methods, I also plotted a back-to-back histogram. As we can tell from the plot, reviewing the lab seems to be the most highly rated one, and readings are the most \"useless\" one with more than 50 people voted 1."
   ]
  },
  {
   "cell_type": "markdown",
   "metadata": {},
   "source": [
    "## 3. Asking the Hard Questions\n",
    "\n",
    "By now we should know all of the ins and outs about this dataset (right?). Let's dive a little deeper into it and see if we can find anything interesting."
   ]
  },
  {
   "cell_type": "markdown",
   "metadata": {},
   "source": [
    "### Problem 4\n",
    "\n",
    "As you worked through the initial phase our this homework, did anything catch your interest? Let's formulate some questions and hypotheses that you could explore in depth.\n",
    "\n",
    "**Write-up** Formulate and describe a question and a hypothesis to answer it. What inspired your idea (provide specifics from [the last section](#2.-Getting-Familiar-with-the-Data), if any)? How can you use the data to support or reject your hypothesis?"
   ]
  },
  {
   "cell_type": "raw",
   "metadata": {},
   "source": [
    "# your response here\n",
    "\n",
    "Inspriation: From last section, it seems that most of the people consider the reading material somewhat trivial or useless, and most of the people heavily rely on reviewing the lab. I've used both of them, and I consider them all helpful. However, that may not be the case for everyone.\n",
    "\n",
    "Question: Is there a correlation between the degree of those two features and their midterm score?\n",
    "\n",
    "Hypothesis: There is a positive correlated relationship with reviewing the lab one being strongger.In other word, as the test score increase, people will, and there is no correlation between reading the book and test score.  \n",
    "\n",
    "To investigate, I'm going to create a scatterplot between the rating on reviewing labs and complete reading and midterm scores so that we are able to see the trend of the two plots. Observe the two plot, and try to conpute the correlation coefficient to see if there is truly a linear relationship."
   ]
  },
  {
   "cell_type": "markdown",
   "metadata": {},
   "source": [
    "### Problem 5\n",
    "\n",
    "Let's explore your hypothesis. Find evidence from the data that supports or refutes your hypothesis and present it — recall that as a data scientist, one of you're goals is to discover and communicate your results to your audience, _me_. The more thorough your analysis, the better!\n",
    "\n",
    "Here's yet another _free_ cell; use as many as you need."
   ]
  },
  {
   "cell_type": "code",
   "execution_count": 9,
   "metadata": {},
   "outputs": [
    {
     "data": {
      "image/png": "[encoded data removed]",
      "text/plain": [
       "<Figure size 432x288 with 1 Axes>"
      ]
     },
     "metadata": {
      "needs_background": "light"
     },
     "output_type": "display_data"
    }
   ],
   "source": [
    "# plot the scatterplot of test score vs review labs rating\n",
    "plt.scatter(data.test_score, data.review_labs_score)\n",
    "plt.title(\"test_score vs.review_labs_score\")\n",
    "plt.xlabel(\"test_score\")\n",
    "plt.ylabel(\"lab_rating\")\n",
    "plt.show()"
   ]
  },
  {
   "cell_type": "code",
   "execution_count": 10,
   "metadata": {},
   "outputs": [
    {
     "data": {
      "image/png": "[encoded data removed]",
      "text/plain": [
       "<Figure size 432x288 with 1 Axes>"
      ]
     },
     "metadata": {
      "needs_background": "light"
     },
     "output_type": "display_data"
    }
   ],
   "source": [
    "# plot the scatterplot of test score vs reading rating\n",
    "plt.scatter(data.test_score, data.complete_readings_score)\n",
    "plt.title(\"test_score vs.complete_readings_score\")\n",
    "plt.xlabel(\"test_score\")\n",
    "plt.ylabel(\"reading_rating\")\n",
    "plt.show()"
   ]
  },
  {
   "cell_type": "code",
   "execution_count": 11,
   "metadata": {},
   "outputs": [
    {
     "data": {
      "image/png": "[encoded data removed]",
      "text/plain": [
       "<Figure size 432x288 with 1 Axes>"
      ]
     },
     "metadata": {
      "needs_background": "light"
     },
     "output_type": "display_data"
    },
    {
     "name": "stdout",
     "output_type": "stream",
     "text": [
      "Correlation Coefficient of reviewing the labs -0.08363115569170484\n",
      "Correlation Coefficient of compelete the reading 0.09819540523142564\n"
     ]
    }
   ],
   "source": [
    "# compare those two in the same graph\n",
    "plt.scatter(data.test_score, data.review_labs_score, color = \"red\")\n",
    "plt.scatter(data.test_score, data.complete_readings_score, color = \"green\")\n",
    "plt.title(\"comparison\")\n",
    "plt.xlabel(\"test_score\")\n",
    "plt.ylabel(\"ating\")\n",
    "plt.show()\n",
    "print(\"Correlation Coefficient of reviewing the labs\", data.test_score.corr(data.review_labs_score))\n",
    "print(\"Correlation Coefficient of compelete the reading\", data.test_score.corr(data.complete_readings_score))"
   ]
  },
  {
   "cell_type": "markdown",
   "metadata": {},
   "source": [
    "### Problem 6\n",
    "\n",
    "Did you find anything interesting in [Problem 5](#Problem-5)? If you did, tell me about it. Can you make any recommendations for us? What might we try to improve the class? Don't worry if you didn't anything — you should still tell us about what you found (negative results are results too!).\n",
    "\n",
    "It would be lovely if you could provide links to key figures in your discussion. See [this StackOverflow question](https://stackoverflow.com/questions/28080066/how-to-reference-a-ipython-notebook-cell-in-markdown) for details."
   ]
  },
  {
   "cell_type": "raw",
   "metadata": {},
   "source": [
    "# your response here\n",
    "It turned out that my hypothesis is incorrect.\n",
    "I found that There is no strong correlationship between high reliance of reviewing the lab and getting a higher test score. Instead, they are a little bit weakly negatively correlated. On the other hand, there is a weak positive relationship between rely on reading the book and getting a higher score. I am surprised by the result and comtemplated several possibilities. One is that reviewing the lab is maybe the first and foremost method of test prep everyone can think of, so everyone does it. The student with lower understanding of course materials also tend to do that because it is straigtforward. This may lead to a negative correlation. \n",
    "My recommendation would be maybe we are all underestimating the power of text book. instead of going for the lab, maybe the instructor and TA can cite and use more of the textbook, for it did exist a positive correlation."
   ]
  },
  {
   "cell_type": "markdown",
   "metadata": {},
   "source": [
    "### Problem 7\n",
    "\n",
    "One last step that we shouldn't skip is reviewing the data acquisition method. There are often times where the data you need doesn't exist and you need to go collect it. As you probably already know, making surveys is an art and we would like to here how you might change it to collect better or more information in the future. \n",
    "> `Hint` You could discuss something like this: Based on your analysis of the data set, which features were informative and which weren't? What information that was missing from this survey do you think would be helpful to have for next time?"
   ]
  },
  {
   "cell_type": "raw",
   "metadata": {},
   "source": [
    "# your response here\n",
    "OF all the 15 rating features, No matter which feature we use to explore the its relationship with test score, it appears to be weakly correlated. because people may use all of them, and the 1-5 scale may not be a good device of exploring. If we got a chance to do another survey, I wound try to put a multiple choice question such as \" which method do u rely on the most when reviewing\" and give all 15 features. and ask 3 times to complete the top 3 or top 5 method that a student use.Then ask them why they choose those method. because it will eliminated some of the uncorrelated method, and we can tell which reviewing method is being most helpful. "
   ]
  },
  {
   "cell_type": "markdown",
   "metadata": {},
   "source": [
    "And that's it! Remember to review your work and make sure it is well presented and organized. Not everyting you coded up needs to remain in your submission. **[Does [this cell] spark joy?](https://i.kinja-img.com/gawker-media/image/upload/s--iW_3HGbT--/c_scale,dpr_2.0,f_auto,fl_progressive,q_80,w_800/oruf4oavtj5vpmvaquew.jpg)** You are always trying to communicate your findings to somebody, _maybe even yourself_."
   ]
  }
 ],
 "metadata": {
  "kernelspec": {
   "display_name": "Python 3",
   "language": "python",
   "name": "python3"
  },
  "language_info": {
   "codemirror_mode": {
    "name": "ipython",
    "version": 3
   },
   "file_extension": ".py",
   "mimetype": "text/x-python",
   "name": "python",
   "nbconvert_exporter": "python",
   "pygments_lexer": "ipython3",
   "version": "3.6.9"
  }
 },
 "nbformat": 4,
 "nbformat_minor": 4
}
